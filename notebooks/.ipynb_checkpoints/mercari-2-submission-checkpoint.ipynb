{
 "cells": [
  {
   "cell_type": "markdown",
   "metadata": {
    "_uuid": "2f56f8a502e7e4722106038c45b070781594e3bb"
   },
   "source": [
    "# Mercari Price Suggestion Challenge Data Preparation\n",
    "\n",
    "This notebook is for initial preprocessing of data and creating custom sub datasets and train/test sets."
   ]
  },
  {
   "cell_type": "code",
   "execution_count": 1,
   "metadata": {
    "ExecuteTime": {
     "end_time": "2018-07-21T11:16:27.464173Z",
     "start_time": "2018-07-21T11:16:27.054084Z"
    },
    "_uuid": "ad05bbee4bb103cfe802ce4748cbdd6ad2b19ea1"
   },
   "outputs": [],
   "source": [
    "%reload_ext autoreload\n",
    "%autoreload 2\n",
    "%matplotlib inline"
   ]
  },
  {
   "cell_type": "code",
   "execution_count": 2,
   "metadata": {
    "ExecuteTime": {
     "end_time": "2018-07-21T11:16:33.761358Z",
     "start_time": "2018-07-21T11:16:27.465752Z"
    },
    "_uuid": "838e0cddd2db3795f7dd55c4836035a11fb0ddf6"
   },
   "outputs": [],
   "source": [
    "from fastai.imports import *\n",
    "from fastai.column_data import *\n",
    "from fastai.structured import *\n",
    "\n",
    "from scipy import stats\n",
    "\n",
    "from sklearn.metrics import mean_squared_error\n",
    "\n",
    "import warnings\n",
    "warnings.filterwarnings(\"ignore\")\n"
   ]
  },
  {
   "cell_type": "code",
   "execution_count": 3,
   "metadata": {
    "ExecuteTime": {
     "end_time": "2018-07-21T11:16:33.787635Z",
     "start_time": "2018-07-21T11:16:33.763449Z"
    },
    "_uuid": "7a3e949c63e8a862fc465110edf0eb713c5a39ac"
   },
   "outputs": [],
   "source": [
    "DATA_PATH = Path('../input/')"
   ]
  },
  {
   "cell_type": "markdown",
   "metadata": {
    "_uuid": "4c0c0ea296f08c25f211faef9fdb24e63ece4296"
   },
   "source": [
    "### Functions"
   ]
  },
  {
   "cell_type": "code",
   "execution_count": 4,
   "metadata": {
    "ExecuteTime": {
     "end_time": "2018-07-21T11:16:33.810833Z",
     "start_time": "2018-07-21T11:16:33.789189Z"
    },
    "_uuid": "3038f0f14bb9b9bd1f7bb41e19d35b339654389c"
   },
   "outputs": [],
   "source": [
    "def split_df(df, test_mask):\n",
    "    df_train, df_test = df[~test_mask], df[test_mask]\n",
    "    df_train.reset_index(inplace=True, drop=True)\n",
    "    df_test.reset_index(inplace=True, drop=True)\n",
    "    return df_train, df_test\n",
    "\n",
    "# na category names are just replaced with 'missing'\n",
    "def split_cat(text):\n",
    "    try:\n",
    "        return text.split('/')\n",
    "    except AttributeError:\n",
    "        return tuple(['missing'] * 3)\n",
    "\n",
    "# replace na or no description values with 'missing'\n",
    "def fix_desc(text):\n",
    "    return 'missing' if not isinstance(text, str) or text == 'No description yet' else text"
   ]
  },
  {
   "cell_type": "code",
   "execution_count": 5,
   "metadata": {
    "_uuid": "72e6e5f1cfdf10ba17ec82569271d27cf459fd3c"
   },
   "outputs": [
    {
     "data": {
      "text/plain": [
       "['Men', 'Coats & Jackets', 'Flight', 'Bomber']"
      ]
     },
     "execution_count": 5,
     "metadata": {},
     "output_type": "execute_result"
    }
   ],
   "source": [
    "split_cat('Men/Coats & Jackets/Flight/Bomber')"
   ]
  },
  {
   "cell_type": "code",
   "execution_count": 6,
   "metadata": {
    "_uuid": "76e4070b4f2cf127b543d555cc4bf0f92e04355d"
   },
   "outputs": [
    {
     "data": {
      "text/plain": [
       "('missing', 'missing', 'missing')"
      ]
     },
     "execution_count": 6,
     "metadata": {},
     "output_type": "execute_result"
    }
   ],
   "source": [
    "tuple(['missing'] * 3)"
   ]
  },
  {
   "cell_type": "markdown",
   "metadata": {
    "_uuid": "ff2d08b76c6e7e7c6ae1d10d7f24476b20fe70ea"
   },
   "source": [
    "### Fixup Raw Data"
   ]
  },
  {
   "cell_type": "code",
   "execution_count": 7,
   "metadata": {
    "ExecuteTime": {
     "end_time": "2018-07-21T11:16:50.196956Z",
     "start_time": "2018-07-21T11:16:33.812158Z"
    },
    "_uuid": "5410e85cce79dea0974e6432284664ec88e46cda"
   },
   "outputs": [],
   "source": [
    "train = pd.read_csv(DATA_PATH/'train.tsv', sep='\\t')\n",
    "test = pd.read_csv(DATA_PATH/'test_stg2.tsv', sep='\\t')"
   ]
  },
  {
   "cell_type": "code",
   "execution_count": 8,
   "metadata": {
    "_uuid": "e9ffaa1f448eaaea30b7d495bafbaa2aa11cdd5e"
   },
   "outputs": [],
   "source": [
    "test.rename(columns={'test_id': 'train_id'}, inplace=True)"
   ]
  },
  {
   "cell_type": "markdown",
   "metadata": {
    "_uuid": "839da0bbdf54f9bf906c190f1a1a747a6bb37e2c"
   },
   "source": [
    "There are up to four categories that can be seperated from this string but I decided only to consider the first three."
   ]
  },
  {
   "cell_type": "code",
   "execution_count": 9,
   "metadata": {
    "_uuid": "6a772b34fbc6387210a94ea194e9f7fd801e3fcc"
   },
   "outputs": [
    {
     "data": {
      "text/plain": [
       "4.0"
      ]
     },
     "execution_count": 9,
     "metadata": {},
     "output_type": "execute_result"
    }
   ],
   "source": [
    "train.category_name.str.count('/').max()"
   ]
  },
  {
   "cell_type": "code",
   "execution_count": 10,
   "metadata": {
    "_uuid": "6963e2522ae1b6cfb0e4ae7f936afc274d6e9305"
   },
   "outputs": [
    {
     "data": {
      "text/plain": [
       "array(['Sports & Outdoors/Exercise/Dance/Ballet', 'Sports & Outdoors/Outdoors/Indoor/Outdoor Games',\n",
       "       'Men/Coats & Jackets/Varsity/Baseball', 'Men/Coats & Jackets/Flight/Bomber',\n",
       "       'Handmade/Housewares/Entertaining/Serving'], dtype=object)"
      ]
     },
     "execution_count": 10,
     "metadata": {},
     "output_type": "execute_result"
    }
   ],
   "source": [
    "train[train.category_name.str.count('/') == 3].category_name.unique()"
   ]
  },
  {
   "cell_type": "markdown",
   "metadata": {
    "_uuid": "3602f34508f93e5d4e263c4e413612fa06c87259"
   },
   "source": [
    "Remove prices below `$3` as Merari does not allow postings below `$3` which makes it an error. There are `874` entries like that. Mercari also does not allow prices above `$2,000` but there are only 3 entries like that with only a few dollars more which are likely shipping fees. So removing them is not required."
   ]
  },
  {
   "cell_type": "code",
   "execution_count": 11,
   "metadata": {
    "ExecuteTime": {
     "end_time": "2018-07-21T11:17:10.384486Z",
     "start_time": "2018-07-21T11:17:10.066103Z"
    },
    "_uuid": "12956080a3089cb6927f5d25de6fe821a7dca046"
   },
   "outputs": [],
   "source": [
    "train = train.drop(train[train['price'] < 3].index)"
   ]
  },
  {
   "cell_type": "markdown",
   "metadata": {
    "_uuid": "026aae121feacf13edafa5a015537be3333692c0"
   },
   "source": [
    "Extract subcategories from the main `category_name` and remove it after as we don't need it."
   ]
  },
  {
   "cell_type": "code",
   "execution_count": 12,
   "metadata": {
    "ExecuteTime": {
     "end_time": "2018-07-21T11:17:10.064371Z",
     "start_time": "2018-07-21T11:16:50.199188Z"
    },
    "_uuid": "b60469698dc96007894cfb826dd19024d58e2f49"
   },
   "outputs": [],
   "source": [
    "train['main_cat'], train['sub_cat1'], train['sub_cat2'] = zip(*train['category_name'].apply(split_cat))                                                              \n",
    "test['main_cat'], test['sub_cat1'], test['sub_cat2'] = zip(*test['category_name'].apply(split_cat))\n",
    "\n",
    "train.drop('category_name', inplace=True, axis=1)\n",
    "test.drop('category_name', inplace=True, axis=1)\n"
   ]
  },
  {
   "cell_type": "markdown",
   "metadata": {
    "_uuid": "a5b1d67423425fcc63a7e4124db74cc3ce9b464b"
   },
   "source": [
    "Replace `na` values in `brand_name` column with `missing`."
   ]
  },
  {
   "cell_type": "code",
   "execution_count": 13,
   "metadata": {
    "ExecuteTime": {
     "end_time": "2018-07-21T11:17:10.608040Z",
     "start_time": "2018-07-21T11:17:10.386118Z"
    },
    "_uuid": "01e7ae9d75b4a984c16df0ef50e3003b6ecb8c13"
   },
   "outputs": [],
   "source": [
    "train['brand_name'].fillna(value='missing', inplace=True)\n",
    "test['brand_name'].fillna(value='missing', inplace=True)"
   ]
  },
  {
   "cell_type": "markdown",
   "metadata": {
    "_uuid": "9859b1a8ac2d2ee16ad942d6a8c3ef37fad5d0f4"
   },
   "source": [
    "The `name` column has nothing missing, but this is added just in case."
   ]
  },
  {
   "cell_type": "code",
   "execution_count": 14,
   "metadata": {
    "ExecuteTime": {
     "end_time": "2018-07-21T11:17:10.608040Z",
     "start_time": "2018-07-21T11:17:10.386118Z"
    },
    "_uuid": "8482a89035c1e3acd70720f8c7aff7c4a3247a18"
   },
   "outputs": [],
   "source": [
    "train['name'].fillna(value='missing', inplace=True)\n",
    "test['name'].fillna(value='missing', inplace=True)"
   ]
  },
  {
   "cell_type": "markdown",
   "metadata": {
    "_uuid": "a80024865f950a7671c0caea55ee628138cccb98"
   },
   "source": [
    "Convert `item_condition_id` and `shipping` column to `str` for easy conversion using FastAI's `proc_df`."
   ]
  },
  {
   "cell_type": "code",
   "execution_count": 15,
   "metadata": {
    "ExecuteTime": {
     "end_time": "2018-07-21T11:17:17.010113Z",
     "start_time": "2018-07-21T11:17:10.609560Z"
    },
    "_uuid": "2ff61cef8efb5f9ffc3041e512c2d65d02c59b55"
   },
   "outputs": [],
   "source": [
    "train['shipping'] = train['shipping'].astype('str')\n",
    "test['shipping'] = test['shipping'].astype('str')\n",
    "\n",
    "train['item_condition_id'] = train['item_condition_id'].astype('str')\n",
    "test['item_condition_id'] = test['item_condition_id'].astype('str')"
   ]
  },
  {
   "cell_type": "markdown",
   "metadata": {
    "_uuid": "4955f26be28f906b63a9cf51438ece5a19e4443c"
   },
   "source": [
    "Replace `na` values and `No description yet` values in `item_description` with `missing`."
   ]
  },
  {
   "cell_type": "code",
   "execution_count": 16,
   "metadata": {
    "_uuid": "3803110ae58d9bbbacb7cebedef083416d8ad9f5"
   },
   "outputs": [],
   "source": [
    "train['item_description'] = train['item_description'].apply(fix_desc)\n",
    "test['item_description'] = test['item_description'].apply(fix_desc)"
   ]
  },
  {
   "cell_type": "markdown",
   "metadata": {
    "_uuid": "ccfcd7a2b63b3d19f4d260502e80c626ccbc1223"
   },
   "source": [
    "Combine `name` and `item_description` into one field where the name and description are separated by a newline."
   ]
  },
  {
   "cell_type": "code",
   "execution_count": 17,
   "metadata": {
    "_uuid": "e82a7cc8fef84c60b2ed70c90b5907523e9519e7"
   },
   "outputs": [],
   "source": [
    "train['full_desc'] = train['name'].str.cat(train['item_description'], sep='\\n')\n",
    "test['full_desc'] = test['name'].str.cat(test['item_description'], sep='\\n')"
   ]
  },
  {
   "cell_type": "markdown",
   "metadata": {
    "_uuid": "d47144ca847aefcaed28197f43c77c51c423f4ec"
   },
   "source": [
    "Drop these two columns since they are no longer needed."
   ]
  },
  {
   "cell_type": "code",
   "execution_count": 18,
   "metadata": {
    "_uuid": "4268e222f3a690aadb081c7fffb5b41602c5a0fd"
   },
   "outputs": [],
   "source": [
    "train.drop('name', axis=1, inplace=True)\n",
    "train.drop('item_description', axis=1, inplace=True)\n",
    "\n",
    "test.drop('name', axis=1, inplace=True)\n",
    "test.drop('item_description', axis=1, inplace=True)"
   ]
  },
  {
   "cell_type": "markdown",
   "metadata": {
    "_uuid": "38e1170defd1faf2dfc5bdc693cb45cffcab483f"
   },
   "source": [
    "### ! Replace training sets `price` column with its `np.log1p` !"
   ]
  },
  {
   "cell_type": "code",
   "execution_count": 19,
   "metadata": {
    "ExecuteTime": {
     "end_time": "2018-07-21T11:17:17.065819Z",
     "start_time": "2018-07-21T11:17:17.011683Z"
    },
    "_uuid": "eb07fe05781439a808d0a840bfb31e0603cbce46"
   },
   "outputs": [],
   "source": [
    "train['price'] = np.log1p(train['price'])"
   ]
  },
  {
   "cell_type": "markdown",
   "metadata": {
    "_uuid": "f22b5139a08a25d25420e54fcbe147445d2b74bb"
   },
   "source": [
    "This is done so that the values for index and `train_id` are not the same and that index reflects the true length of the dataframe such that the last index is of the value `len(df)-1`"
   ]
  },
  {
   "cell_type": "code",
   "execution_count": 20,
   "metadata": {
    "ExecuteTime": {
     "end_time": "2018-07-21T11:17:17.093651Z",
     "start_time": "2018-07-21T11:17:17.067080Z"
    },
    "_uuid": "78a4ee376760acb60db18525c68c2dbe0bf6d6e8"
   },
   "outputs": [],
   "source": [
    "train.reset_index(inplace=True, drop=True)"
   ]
  },
  {
   "cell_type": "code",
   "execution_count": 21,
   "metadata": {
    "ExecuteTime": {
     "end_time": "2018-07-21T11:17:17.122754Z",
     "start_time": "2018-07-21T11:17:17.094897Z"
    },
    "_uuid": "85e828b66a23bf62fe72146ea7d7515e1d2c94f3"
   },
   "outputs": [
    {
     "data": {
      "text/plain": [
       "Index(['train_id', 'item_condition_id', 'brand_name', 'price', 'shipping',\n",
       "       'main_cat', 'sub_cat1', 'sub_cat2', 'full_desc'],\n",
       "      dtype='object')"
      ]
     },
     "execution_count": 21,
     "metadata": {},
     "output_type": "execute_result"
    }
   ],
   "source": [
    "train.columns"
   ]
  },
  {
   "cell_type": "code",
   "execution_count": 22,
   "metadata": {
    "_uuid": "837558e83adb4eb3809405200a5312589e555c47"
   },
   "outputs": [
    {
     "name": "stdout",
     "output_type": "stream",
     "text": [
      "Dose of color hidden treasure palette\n",
      "New Limited edition Hard to find\n"
     ]
    }
   ],
   "source": [
    "print(train['full_desc'][np.random.randint(0, len(train))])"
   ]
  },
  {
   "cell_type": "markdown",
   "metadata": {
    "_uuid": "c0f3ed9a094a58955baa21e326e4cfbd3f19720e"
   },
   "source": [
    "### Create custom dataset from only the struct columns of the dataset"
   ]
  },
  {
   "cell_type": "markdown",
   "metadata": {
    "_uuid": "facad41d2607fddbec0894c36595be15da712c5e"
   },
   "source": [
    "For now, use only the columns of the dataset, in addition the datasets contain `train_id` and `price`."
   ]
  },
  {
   "cell_type": "markdown",
   "metadata": {
    "_uuid": "51debb70ca6684b6d28f1bb5b62fb9fd8a808f1e"
   },
   "source": [
    "### Extract and create the sub-datasets"
   ]
  },
  {
   "cell_type": "code",
   "execution_count": 23,
   "metadata": {
    "ExecuteTime": {
     "end_time": "2018-07-21T11:17:17.147467Z",
     "start_time": "2018-07-21T11:17:17.124060Z"
    },
    "_uuid": "f501ccd7b6d45b91ad6abc39aed5142ccc9a0244"
   },
   "outputs": [],
   "source": [
    "dep = ['price']\n",
    "rid = ['train_id']\n",
    "struct_vars = ['item_condition_id', 'brand_name', 'shipping', 'main_cat', 'sub_cat1', 'sub_cat2']"
   ]
  },
  {
   "cell_type": "code",
   "execution_count": 24,
   "metadata": {
    "_uuid": "b9ed17183838a8579c68e415fe59029fc8b87409"
   },
   "outputs": [
    {
     "data": {
      "text/plain": [
       "Index(['train_id', 'item_condition_id', 'brand_name', 'shipping', 'main_cat',\n",
       "       'sub_cat1', 'sub_cat2', 'full_desc'],\n",
       "      dtype='object')"
      ]
     },
     "execution_count": 24,
     "metadata": {},
     "output_type": "execute_result"
    }
   ],
   "source": [
    "test.columns"
   ]
  },
  {
   "cell_type": "code",
   "execution_count": 25,
   "metadata": {
    "_uuid": "0b16b272111fa841136176abc7c354bc9b2f580a"
   },
   "outputs": [
    {
     "name": "stdout",
     "output_type": "stream",
     "text": [
      "5\n",
      "4808\n",
      "2\n",
      "11\n",
      "114\n",
      "871\n"
     ]
    }
   ],
   "source": [
    "for s in struct_vars: print (len(train[s].unique()))"
   ]
  },
  {
   "cell_type": "code",
   "execution_count": 26,
   "metadata": {
    "ExecuteTime": {
     "end_time": "2018-07-21T11:17:18.243964Z",
     "start_time": "2018-07-21T11:17:17.148669Z"
    },
    "_uuid": "9ac22cfa72da8daa65febf610b90a373b6362993"
   },
   "outputs": [],
   "source": [
    "price = train[dep].as_matrix().flatten()\n",
    "train = train[rid + struct_vars + dep]\n",
    "test =  test[rid +  struct_vars]"
   ]
  },
  {
   "cell_type": "markdown",
   "metadata": {
    "_uuid": "ee8c334958c8c08854920a105024a36f790e5626"
   },
   "source": [
    "### Split in training and test sets"
   ]
  },
  {
   "cell_type": "markdown",
   "metadata": {
    "_uuid": "3f8a3da1d7e86a9756a64756cc1685453f721848"
   },
   "source": [
    "The idea is to have a 10% data for test and 90% for train (and validation). The datasets are created as follows:\n",
    "1. Get a random test mask of length 10% of the total training data\n",
    "2. Extract the dependent variables for train and test using the mask\n",
    "3. Extract train and test for each of the datasets"
   ]
  },
  {
   "cell_type": "code",
   "execution_count": 28,
   "metadata": {
    "ExecuteTime": {
     "end_time": "2018-07-21T11:17:18.445415Z",
     "start_time": "2018-07-21T11:17:18.245530Z"
    },
    "_uuid": "37a68f4d7f8511ce9fd2c7e9f523806d0c5c0725"
   },
   "outputs": [],
   "source": [
    "test_mask = train.index.isin(get_cv_idxs(n = len(train), val_pct=0.1))\n",
    "y_test = price[test_mask]"
   ]
  },
  {
   "cell_type": "code",
   "execution_count": 30,
   "metadata": {
    "ExecuteTime": {
     "end_time": "2018-07-21T11:17:18.908921Z",
     "start_time": "2018-07-21T11:17:18.446968Z"
    },
    "_uuid": "d9bd58dff6cea22ac7960533da8ea606b0ffaf61"
   },
   "outputs": [],
   "source": [
    "my_train, my_test = split_df(train, test_mask)\n",
    "my_test.drop('price', axis=1, inplace=True)"
   ]
  },
  {
   "cell_type": "markdown",
   "metadata": {
    "_uuid": "4f5c4203165b1186f5a139094f47b672cddcc6a0"
   },
   "source": [
    "# Mercari Price Suggestion Challenge Structured Data"
   ]
  },
  {
   "cell_type": "markdown",
   "metadata": {
    "_uuid": "47ca2b24abb083bea516d33b93a26eb147e52faf",
    "heading_collapsed": true
   },
   "source": [
    "## Introduction"
   ]
  },
  {
   "cell_type": "markdown",
   "metadata": {
    "_uuid": "bab73c6bc2f335c4d801bec66ca07e4cab26b458"
   },
   "source": [
    "In this experiment, I consider all variables except `name` and `item_description` as part of the training features and label them as categorical (structured) data and create entity embeddings for them. This is part of the abalation study of how discarding `name` and `item_description` variables affects performance."
   ]
  },
  {
   "cell_type": "markdown",
   "metadata": {
    "_uuid": "29469509578b1f225877fa007e9ad197b520eb26"
   },
   "source": [
    "## My Definitions"
   ]
  },
  {
   "cell_type": "markdown",
   "metadata": {
    "_uuid": "09522aaee938b2f1e39c1aaca3f4d67a722e3e19"
   },
   "source": [
    "### Functions"
   ]
  },
  {
   "cell_type": "code",
   "execution_count": 38,
   "metadata": {
    "ExecuteTime": {
     "end_time": "2018-07-21T10:13:03.457614Z",
     "start_time": "2018-07-21T10:13:03.267352Z"
    },
    "_uuid": "f0a423d866e35ab0236b13204129979b59cc7fa0"
   },
   "outputs": [],
   "source": [
    "def display_all(df):\n",
    "    with pd.option_context(\"display.max_rows\", 1000, \"display.max_columns\", 1000): \n",
    "        display(df)\n",
    "        \n",
    "def rmsle(y_pred, targ):\n",
    "    '''Root Mean Squared Logarithmic Error'''\n",
    "    return np.sqrt(np.mean((np.log1p(y_pred) - np.log1p(targ))**2))\n",
    "        \n",
    "def RMSE(preds, targs):\n",
    "    assert(len(preds) == len(targs))\n",
    "    return np.sqrt(mean_squared_error(targs, preds))    "
   ]
  },
  {
   "cell_type": "markdown",
   "metadata": {
    "_uuid": "63952422dc4986e62d9342d5c81bb6c43948b86d"
   },
   "source": [
    "Total number of epochs formula from [here](http://forums.fast.ai/t/n-epochs-cycle-len-cycle-mult-n-cycles/19106)\n",
    "\n",
    "$n\\_epochs = cycle\\_len \\cdot (1 + cycle\\_mult + cycle\\_mult^{2} + \\cdots + cycle\\_mult^{(n_{cycles}-1)})$"
   ]
  },
  {
   "cell_type": "code",
   "execution_count": 39,
   "metadata": {
    "ExecuteTime": {
     "end_time": "2018-07-21T10:13:04.567337Z",
     "start_time": "2018-07-21T10:13:04.490416Z"
    },
    "_uuid": "a65614291267290eed61f37441f8e470a17bf85a"
   },
   "outputs": [],
   "source": [
    "def get_epochs(n_cycle, cycle_len, cycle_mult):\n",
    "    n_epochs = 0\n",
    "    for cycle in range(n_cycle):\n",
    "        n_epochs += cycle_mult ** cycle\n",
    "    \n",
    "    return cycle_len * n_epochs"
   ]
  },
  {
   "cell_type": "markdown",
   "metadata": {
    "_uuid": "7d2e2f73d3d370389b82daa175587f0e63030457"
   },
   "source": [
    "## Load data and get validation indices"
   ]
  },
  {
   "cell_type": "code",
   "execution_count": 42,
   "metadata": {
    "_uuid": "923aa6469fba0b4bb1db37165239163e452534a4"
   },
   "outputs": [],
   "source": [
    "X_train = train.copy()\n",
    "X_test = test.copy()"
   ]
  },
  {
   "cell_type": "code",
   "execution_count": 47,
   "metadata": {
    "_uuid": "9bd899f7501b0fbae78403483470b074416bfc42"
   },
   "outputs": [],
   "source": [
    "X_train.set_index('train_id', inplace=True)\n",
    "X_test.set_index('train_id', inplace=True)"
   ]
  },
  {
   "cell_type": "markdown",
   "metadata": {
    "_uuid": "76322c2c124dc1ef71787390b506b9954ed44c90"
   },
   "source": [
    "#### Change any columns of strings in a panda's dataframe to a column of categorical values. Apply changes inplace."
   ]
  },
  {
   "cell_type": "code",
   "execution_count": 49,
   "metadata": {
    "ExecuteTime": {
     "end_time": "2018-07-21T10:15:27.897504Z",
     "start_time": "2018-07-21T10:15:27.653116Z"
    },
    "_uuid": "e7b320e1033e3a404fa979f2e90d63d82191769d"
   },
   "outputs": [],
   "source": [
    "train_cats(X_train) \n",
    "apply_cats(X_test, X_train)"
   ]
  },
  {
   "cell_type": "code",
   "execution_count": 50,
   "metadata": {
    "ExecuteTime": {
     "end_time": "2018-07-21T10:17:34.798244Z",
     "start_time": "2018-07-21T10:17:34.494072Z"
    },
    "_uuid": "3aeca27a79e9b558a204bc03cc3f6de101b8e016"
   },
   "outputs": [],
   "source": [
    "df_train, y_train, nas = proc_df(X_train, 'price')\n",
    "df_test, _, nas = proc_df(X_test, na_dict=nas)"
   ]
  },
  {
   "cell_type": "code",
   "execution_count": 51,
   "metadata": {
    "ExecuteTime": {
     "end_time": "2018-07-21T10:14:29.929639Z",
     "start_time": "2018-07-21T10:14:29.677084Z"
    },
    "_uuid": "c7f615e0297eb2a1054375c2b5aa773043572b8d"
   },
   "outputs": [],
   "source": [
    "val_idxs = get_cv_idxs(len(df_train), val_pct=0.15, seed=None)\n",
    "y_range = (0, np.max(y_train) * 1.5)"
   ]
  },
  {
   "cell_type": "markdown",
   "metadata": {
    "_uuid": "429f6b5c6c5713e9195d51745f97a14769ee16b8"
   },
   "source": [
    "## DL Model"
   ]
  },
  {
   "cell_type": "markdown",
   "metadata": {
    "_uuid": "59544cc1a7bffd5077864a204d5651d08c97fb1b"
   },
   "source": [
    "### Experimenting"
   ]
  },
  {
   "cell_type": "code",
   "execution_count": 57,
   "metadata": {
    "ExecuteTime": {
     "end_time": "2018-07-21T10:14:33.508380Z",
     "start_time": "2018-07-21T10:14:33.194657Z"
    },
    "_uuid": "5676ce777071a2a72ddc39852ba03e4b097eca28"
   },
   "outputs": [
    {
     "data": {
      "text/plain": [
       "[('item_condition_id', 6),\n",
       " ('brand_name', 4809),\n",
       " ('shipping', 3),\n",
       " ('main_cat', 12),\n",
       " ('sub_cat1', 115),\n",
       " ('sub_cat2', 872)]"
      ]
     },
     "execution_count": 57,
     "metadata": {},
     "output_type": "execute_result"
    }
   ],
   "source": [
    "cat_vars = ['item_condition_id', 'brand_name', 'shipping', 'main_cat', 'sub_cat1', 'sub_cat2']\n",
    "\n",
    "cat_sz = [(c, len(X_train[c].cat.categories)+1) for c in cat_vars]"
   ]
  },
  {
   "cell_type": "code",
   "execution_count": 58,
   "metadata": {
    "_uuid": "75f143d1a769c8e2fc3fa7e5e67a9a1bc7f96712"
   },
   "outputs": [
    {
     "data": {
      "text/plain": [
       "[(6, 3), (4809, 50), (3, 2), (12, 6), (115, 50), (872, 50)]"
      ]
     },
     "execution_count": 58,
     "metadata": {},
     "output_type": "execute_result"
    }
   ],
   "source": [
    "emb_szs = [(c, min(50, (c+1)//2)) for _,c in cat_sz]\n",
    "print (emb_szs)"
   ]
  },
  {
   "cell_type": "code",
   "execution_count": 60,
   "metadata": {},
   "outputs": [],
   "source": [
    "PATH = '../working/'"
   ]
  },
  {
   "cell_type": "code",
   "execution_count": 61,
   "metadata": {
    "ExecuteTime": {
     "end_time": "2018-07-18T12:32:49.257389Z",
     "start_time": "2018-07-18T12:32:49.090540Z"
    },
    "_uuid": "c1b18e9f42871d3b9d246084e6dad81a94c4a54e"
   },
   "outputs": [],
   "source": [
    "md = ColumnarModelData.from_data_frame(PATH,\n",
    "                                       val_idxs, \n",
    "                                       df_train,\n",
    "                                       y_train.astype(np.float32),\n",
    "                                       cat_flds=cat_vars,\n",
    "                                       bs=128, \n",
    "                                       test_df=df_test)"
   ]
  },
  {
   "cell_type": "code",
   "execution_count": 62,
   "metadata": {
    "ExecuteTime": {
     "end_time": "2018-07-18T12:12:21.020541Z",
     "start_time": "2018-07-18T12:12:11.901956Z"
    },
    "_uuid": "a729128d87e69fec78f1d502f946b67bdab0c7a1"
   },
   "outputs": [],
   "source": [
    "m = md.get_learner(emb_szs,\n",
    "                   n_cont=0,\n",
    "                   emb_drop=0.04,\n",
    "                   out_sz=1,\n",
    "                   szs=[1000, 500],\n",
    "                   drops=[0.001, 0.01],\n",
    "                   y_range=y_range)"
   ]
  },
  {
   "cell_type": "code",
   "execution_count": 63,
   "metadata": {
    "ExecuteTime": {
     "end_time": "2018-07-18T12:14:19.442829Z",
     "start_time": "2018-07-18T12:12:21.022642Z"
    },
    "_uuid": "c8e2bfbb308be2bdcdd92862b6f7393d0277cd6d"
   },
   "outputs": [],
   "source": [
    "# %%time\n",
    "# m.lr_find()"
   ]
  },
  {
   "cell_type": "code",
   "execution_count": 64,
   "metadata": {
    "_uuid": "03fe51648186a4cbf1a5bdce3d5cc7fd1a46b050"
   },
   "outputs": [],
   "source": [
    "# m.sched.plot(1000)"
   ]
  },
  {
   "cell_type": "code",
   "execution_count": 65,
   "metadata": {
    "ExecuteTime": {
     "end_time": "2018-07-18T12:14:19.683292Z",
     "start_time": "2018-07-18T12:14:19.444309Z"
    },
    "_uuid": "9c5cad76d43fe4d7cf5cbcd2f87f384b84616826"
   },
   "outputs": [],
   "source": [
    "lr=1e-3"
   ]
  },
  {
   "cell_type": "code",
   "execution_count": 66,
   "metadata": {
    "_uuid": "2e1eb7dbc18e28e64110e20a7c9bc27d0fdbb8b6"
   },
   "outputs": [],
   "source": [
    "# bk = PlotDLTraining(m)"
   ]
  },
  {
   "cell_type": "code",
   "execution_count": 67,
   "metadata": {
    "ExecuteTime": {
     "end_time": "2018-07-18T12:24:32.539891Z",
     "start_time": "2018-07-18T12:14:19.684514Z"
    },
    "_uuid": "f2ac493900b7c0a432cef75b72406b91107971f1",
    "scrolled": false
   },
   "outputs": [
    {
     "data": {
      "application/vnd.jupyter.widget-view+json": {
       "model_id": "2ddd859b0efa40379b614929b5f8303d",
       "version_major": 2,
       "version_minor": 0
      },
      "text/plain": [
       "HBox(children=(IntProgress(value=0, description='Epoch', max=4), HTML(value='')))"
      ]
     },
     "metadata": {},
     "output_type": "display_data"
    },
    {
     "name": "stdout",
     "output_type": "stream",
     "text": [
      "epoch      trn_loss   val_loss   RMSE                           \n",
      "    0      0.30053    0.303113   0.549567  \n",
      "    1      0.306274   0.307735   0.553674                       \n",
      "    2      0.299155   0.297838   0.544732                       \n",
      "    3      0.304827   0.297221   0.544199                       \n",
      "\n",
      "CPU times: user 3min 57s, sys: 26.8 s, total: 4min 24s\n",
      "Wall time: 4min 3s\n"
     ]
    },
    {
     "data": {
      "text/plain": [
       "[array([0.29722]), 0.5441994751369031]"
      ]
     },
     "execution_count": 67,
     "metadata": {},
     "output_type": "execute_result"
    }
   ],
   "source": [
    "%%time\n",
    "m.fit(lr, n_cycle=4, metrics=[RMSE], best_save_name='mercari_best')"
   ]
  },
  {
   "cell_type": "code",
   "execution_count": 70,
   "metadata": {
    "_uuid": "77cf3fea0bcc6920f4af7bce9cd7fcf8adf2b9fd"
   },
   "outputs": [],
   "source": [
    "x,y=m.predict_with_targs()"
   ]
  },
  {
   "cell_type": "code",
   "execution_count": 71,
   "metadata": {
    "_uuid": "700a0a95f7d1ae68bd1d57e29179ede7a7606881"
   },
   "outputs": [
    {
     "data": {
      "text/plain": [
       "0.54517967"
      ]
     },
     "execution_count": 71,
     "metadata": {},
     "output_type": "execute_result"
    }
   ],
   "source": [
    "RMSE(x,y)"
   ]
  },
  {
   "cell_type": "code",
   "execution_count": 72,
   "metadata": {
    "_uuid": "a4b000789154ec61881063c76e709bf940e1cedf"
   },
   "outputs": [],
   "source": [
    "pred_test=m.predict(is_test=True)"
   ]
  },
  {
   "cell_type": "code",
   "execution_count": 73,
   "metadata": {
    "_uuid": "075db9789a289977d146e1e079f626cd0fbbe87f"
   },
   "outputs": [],
   "source": [
    "submission = pd.DataFrame(np.exp(pred_test)).reset_index()"
   ]
  },
  {
   "cell_type": "code",
   "execution_count": 74,
   "metadata": {
    "_uuid": "524ecd17c164a01feb335b59a67d0dd59db065ef"
   },
   "outputs": [],
   "source": [
    "submission.columns = ['test_id', 'price']"
   ]
  },
  {
   "cell_type": "code",
   "execution_count": 78,
   "metadata": {
    "_uuid": "bde89221f48a3a120bb926b7e5c387560c5c8acb"
   },
   "outputs": [],
   "source": [
    "submission.to_csv('submission.csv', index=False)"
   ]
  },
  {
   "cell_type": "code",
   "execution_count": null,
   "metadata": {},
   "outputs": [],
   "source": []
  }
 ],
 "metadata": {
  "kernelspec": {
   "display_name": "Python [default]",
   "language": "python",
   "name": "python3"
  },
  "language_info": {
   "codemirror_mode": {
    "name": "ipython",
    "version": 3
   },
   "file_extension": ".py",
   "mimetype": "text/x-python",
   "name": "python",
   "nbconvert_exporter": "python",
   "pygments_lexer": "ipython3",
   "version": "3.6.6"
  },
  "toc": {
   "base_numbering": 1,
   "nav_menu": {},
   "number_sections": true,
   "sideBar": true,
   "skip_h1_title": true,
   "title_cell": "Table of Contents",
   "title_sidebar": "Contents",
   "toc_cell": false,
   "toc_position": {
    "height": "calc(100% - 180px)",
    "left": "10px",
    "top": "150px",
    "width": "165px"
   },
   "toc_section_display": true,
   "toc_window_display": true
  }
 },
 "nbformat": 4,
 "nbformat_minor": 1
}
