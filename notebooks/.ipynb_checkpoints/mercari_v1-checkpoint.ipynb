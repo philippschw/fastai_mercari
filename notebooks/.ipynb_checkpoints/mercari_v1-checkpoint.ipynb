{
 "cells": [
  {
   "cell_type": "markdown",
   "metadata": {},
   "source": [
    "# Structured and time series data"
   ]
  },
  {
   "cell_type": "markdown",
   "metadata": {},
   "source": [
    "This notebook contains an implementation of the third place result in the Rossman Kaggle competition as detailed in Guo/Berkhahn's [Entity Embeddings of Categorical Variables](https://arxiv.org/abs/1604.06737).\n",
    "\n",
    "The motivation behind exploring this architecture is it's relevance to real-world application. Most data used for decision making day-to-day in industry is structured and/or time-series data. Here we explore the end-to-end process of using neural networks with practical structured data problems."
   ]
  },
  {
   "cell_type": "code",
   "execution_count": 1,
   "metadata": {},
   "outputs": [],
   "source": [
    "%matplotlib inline\n",
    "%reload_ext autoreload\n",
    "%autoreload 2"
   ]
  },
  {
   "cell_type": "code",
   "execution_count": 2,
   "metadata": {},
   "outputs": [
    {
     "name": "stderr",
     "output_type": "stream",
     "text": [
      "/home/ubuntu/anaconda3/envs/fastai/lib/python3.6/importlib/_bootstrap.py:219: RuntimeWarning: numpy.dtype size changed, may indicate binary incompatibility. Expected 96, got 88\n",
      "  return f(*args, **kwds)\n",
      "/home/ubuntu/anaconda3/envs/fastai/lib/python3.6/importlib/_bootstrap.py:219: RuntimeWarning: numpy.dtype size changed, may indicate binary incompatibility. Expected 96, got 88\n",
      "  return f(*args, **kwds)\n",
      "/home/ubuntu/anaconda3/envs/fastai/lib/python3.6/site-packages/sklearn/ensemble/weight_boosting.py:29: DeprecationWarning: numpy.core.umath_tests is an internal NumPy module and should not be imported. It will be removed in a future NumPy release.\n",
      "  from numpy.core.umath_tests import inner1d\n"
     ]
    }
   ],
   "source": [
    "from fastai.structured import *\n",
    "from fastai.column_data import *\n",
    "np.set_printoptions(threshold=50, edgeitems=20)\n",
    "\n",
    "PATH='../data/'"
   ]
  },
  {
   "cell_type": "markdown",
   "metadata": {
    "collapsed": true,
    "heading_collapsed": true,
    "scrolled": false
   },
   "source": [
    "## Load datasets"
   ]
  },
  {
   "cell_type": "code",
   "execution_count": 3,
   "metadata": {
    "hidden": true
   },
   "outputs": [],
   "source": [
    "table_names = ['train', 'test']"
   ]
  },
  {
   "cell_type": "markdown",
   "metadata": {
    "hidden": true
   },
   "source": [
    "We'll be using the popular data manipulation framework `pandas`. Among other things, pandas allows you to manipulate tables/data frames in python as one would in a database.\n",
    "\n",
    "We're going to go ahead and load all of our csv's as dataframes into the list `tables`."
   ]
  },
  {
   "cell_type": "code",
   "execution_count": 4,
   "metadata": {
    "hidden": true
   },
   "outputs": [],
   "source": [
    "tables = [pd.read_csv(f'{PATH}{fname}.tsv', low_memory=False, sep='\\t') for fname in table_names]"
   ]
  },
  {
   "cell_type": "code",
   "execution_count": 4,
   "metadata": {
    "hidden": true
   },
   "outputs": [],
   "source": [
    "from IPython.display import HTML, display"
   ]
  },
  {
   "cell_type": "markdown",
   "metadata": {
    "hidden": true
   },
   "source": [
    "We can use `head()` to get a quick look at the contents of each table:\n",
    "* train: Contains store information on a daily basis, tracks things like sales, customers, whether that day was a holdiay, etc.\n",
    "* store: general info about the store including competition, etc.\n",
    "* store_states: maps store to state it is in\n",
    "* state_names: Maps state abbreviations to names\n",
    "* googletrend: trend data for particular week/state\n",
    "* weather: weather conditions for each state\n",
    "* test: Same as training table, w/o sales and customers\n"
   ]
  },
  {
   "cell_type": "code",
   "execution_count": 6,
   "metadata": {
    "hidden": true,
    "scrolled": true
   },
   "outputs": [
    {
     "data": {
      "text/html": [
       "<div>\n",
       "<style scoped>\n",
       "    .dataframe tbody tr th:only-of-type {\n",
       "        vertical-align: middle;\n",
       "    }\n",
       "\n",
       "    .dataframe tbody tr th {\n",
       "        vertical-align: top;\n",
       "    }\n",
       "\n",
       "    .dataframe thead th {\n",
       "        text-align: right;\n",
       "    }\n",
       "</style>\n",
       "<table border=\"1\" class=\"dataframe\">\n",
       "  <thead>\n",
       "    <tr style=\"text-align: right;\">\n",
       "      <th></th>\n",
       "      <th>train_id</th>\n",
       "      <th>name</th>\n",
       "      <th>item_condition_id</th>\n",
       "      <th>category_name</th>\n",
       "      <th>brand_name</th>\n",
       "      <th>price</th>\n",
       "      <th>shipping</th>\n",
       "      <th>item_description</th>\n",
       "    </tr>\n",
       "  </thead>\n",
       "  <tbody>\n",
       "    <tr>\n",
       "      <th>0</th>\n",
       "      <td>0</td>\n",
       "      <td>MLB Cincinnati Reds T Shirt Size XL</td>\n",
       "      <td>3</td>\n",
       "      <td>Men/Tops/T-shirts</td>\n",
       "      <td>NaN</td>\n",
       "      <td>10.0</td>\n",
       "      <td>1</td>\n",
       "      <td>No description yet</td>\n",
       "    </tr>\n",
       "    <tr>\n",
       "      <th>1</th>\n",
       "      <td>1</td>\n",
       "      <td>Razer BlackWidow Chroma Keyboard</td>\n",
       "      <td>3</td>\n",
       "      <td>Electronics/Computers &amp; Tablets/Components &amp; P...</td>\n",
       "      <td>Razer</td>\n",
       "      <td>52.0</td>\n",
       "      <td>0</td>\n",
       "      <td>This keyboard is in great condition and works ...</td>\n",
       "    </tr>\n",
       "    <tr>\n",
       "      <th>2</th>\n",
       "      <td>2</td>\n",
       "      <td>AVA-VIV Blouse</td>\n",
       "      <td>1</td>\n",
       "      <td>Women/Tops &amp; Blouses/Blouse</td>\n",
       "      <td>Target</td>\n",
       "      <td>10.0</td>\n",
       "      <td>1</td>\n",
       "      <td>Adorable top with a hint of lace and a key hol...</td>\n",
       "    </tr>\n",
       "    <tr>\n",
       "      <th>3</th>\n",
       "      <td>3</td>\n",
       "      <td>Leather Horse Statues</td>\n",
       "      <td>1</td>\n",
       "      <td>Home/Home Décor/Home Décor Accents</td>\n",
       "      <td>NaN</td>\n",
       "      <td>35.0</td>\n",
       "      <td>1</td>\n",
       "      <td>New with tags. Leather horses. Retail for [rm]...</td>\n",
       "    </tr>\n",
       "    <tr>\n",
       "      <th>4</th>\n",
       "      <td>4</td>\n",
       "      <td>24K GOLD plated rose</td>\n",
       "      <td>1</td>\n",
       "      <td>Women/Jewelry/Necklaces</td>\n",
       "      <td>NaN</td>\n",
       "      <td>44.0</td>\n",
       "      <td>0</td>\n",
       "      <td>Complete with certificate of authenticity</td>\n",
       "    </tr>\n",
       "  </tbody>\n",
       "</table>\n",
       "</div>"
      ],
      "text/plain": [
       "   train_id                                 name  item_condition_id  \\\n",
       "0         0  MLB Cincinnati Reds T Shirt Size XL                  3   \n",
       "1         1     Razer BlackWidow Chroma Keyboard                  3   \n",
       "2         2                       AVA-VIV Blouse                  1   \n",
       "3         3                Leather Horse Statues                  1   \n",
       "4         4                 24K GOLD plated rose                  1   \n",
       "\n",
       "                                       category_name brand_name  price  \\\n",
       "0                                  Men/Tops/T-shirts        NaN   10.0   \n",
       "1  Electronics/Computers & Tablets/Components & P...      Razer   52.0   \n",
       "2                        Women/Tops & Blouses/Blouse     Target   10.0   \n",
       "3                 Home/Home Décor/Home Décor Accents        NaN   35.0   \n",
       "4                            Women/Jewelry/Necklaces        NaN   44.0   \n",
       "\n",
       "   shipping                                   item_description  \n",
       "0         1                                 No description yet  \n",
       "1         0  This keyboard is in great condition and works ...  \n",
       "2         1  Adorable top with a hint of lace and a key hol...  \n",
       "3         1  New with tags. Leather horses. Retail for [rm]...  \n",
       "4         0          Complete with certificate of authenticity  "
      ]
     },
     "metadata": {},
     "output_type": "display_data"
    },
    {
     "data": {
      "text/html": [
       "<div>\n",
       "<style scoped>\n",
       "    .dataframe tbody tr th:only-of-type {\n",
       "        vertical-align: middle;\n",
       "    }\n",
       "\n",
       "    .dataframe tbody tr th {\n",
       "        vertical-align: top;\n",
       "    }\n",
       "\n",
       "    .dataframe thead th {\n",
       "        text-align: right;\n",
       "    }\n",
       "</style>\n",
       "<table border=\"1\" class=\"dataframe\">\n",
       "  <thead>\n",
       "    <tr style=\"text-align: right;\">\n",
       "      <th></th>\n",
       "      <th>test_id</th>\n",
       "      <th>name</th>\n",
       "      <th>item_condition_id</th>\n",
       "      <th>category_name</th>\n",
       "      <th>brand_name</th>\n",
       "      <th>shipping</th>\n",
       "      <th>item_description</th>\n",
       "    </tr>\n",
       "  </thead>\n",
       "  <tbody>\n",
       "    <tr>\n",
       "      <th>0</th>\n",
       "      <td>0</td>\n",
       "      <td>Breast cancer \"I fight like a girl\" ring</td>\n",
       "      <td>1</td>\n",
       "      <td>Women/Jewelry/Rings</td>\n",
       "      <td>NaN</td>\n",
       "      <td>1</td>\n",
       "      <td>Size 7</td>\n",
       "    </tr>\n",
       "    <tr>\n",
       "      <th>1</th>\n",
       "      <td>1</td>\n",
       "      <td>25 pcs NEW 7.5\"x12\" Kraft Bubble Mailers</td>\n",
       "      <td>1</td>\n",
       "      <td>Other/Office supplies/Shipping Supplies</td>\n",
       "      <td>NaN</td>\n",
       "      <td>1</td>\n",
       "      <td>25 pcs NEW 7.5\"x12\" Kraft Bubble Mailers Lined...</td>\n",
       "    </tr>\n",
       "    <tr>\n",
       "      <th>2</th>\n",
       "      <td>2</td>\n",
       "      <td>Coach bag</td>\n",
       "      <td>1</td>\n",
       "      <td>Vintage &amp; Collectibles/Bags and Purses/Handbag</td>\n",
       "      <td>Coach</td>\n",
       "      <td>1</td>\n",
       "      <td>Brand new coach bag. Bought for [rm] at a Coac...</td>\n",
       "    </tr>\n",
       "    <tr>\n",
       "      <th>3</th>\n",
       "      <td>3</td>\n",
       "      <td>Floral Kimono</td>\n",
       "      <td>2</td>\n",
       "      <td>Women/Sweaters/Cardigan</td>\n",
       "      <td>NaN</td>\n",
       "      <td>0</td>\n",
       "      <td>-floral kimono -never worn -lightweight and pe...</td>\n",
       "    </tr>\n",
       "    <tr>\n",
       "      <th>4</th>\n",
       "      <td>4</td>\n",
       "      <td>Life after Death</td>\n",
       "      <td>3</td>\n",
       "      <td>Other/Books/Religion &amp; Spirituality</td>\n",
       "      <td>NaN</td>\n",
       "      <td>1</td>\n",
       "      <td>Rediscovering life after the loss of a loved o...</td>\n",
       "    </tr>\n",
       "  </tbody>\n",
       "</table>\n",
       "</div>"
      ],
      "text/plain": [
       "   test_id                                      name  item_condition_id  \\\n",
       "0        0  Breast cancer \"I fight like a girl\" ring                  1   \n",
       "1        1  25 pcs NEW 7.5\"x12\" Kraft Bubble Mailers                  1   \n",
       "2        2                                 Coach bag                  1   \n",
       "3        3                             Floral Kimono                  2   \n",
       "4        4                          Life after Death                  3   \n",
       "\n",
       "                                    category_name brand_name  shipping  \\\n",
       "0                             Women/Jewelry/Rings        NaN         1   \n",
       "1         Other/Office supplies/Shipping Supplies        NaN         1   \n",
       "2  Vintage & Collectibles/Bags and Purses/Handbag      Coach         1   \n",
       "3                         Women/Sweaters/Cardigan        NaN         0   \n",
       "4             Other/Books/Religion & Spirituality        NaN         1   \n",
       "\n",
       "                                    item_description  \n",
       "0                                             Size 7  \n",
       "1  25 pcs NEW 7.5\"x12\" Kraft Bubble Mailers Lined...  \n",
       "2  Brand new coach bag. Bought for [rm] at a Coac...  \n",
       "3  -floral kimono -never worn -lightweight and pe...  \n",
       "4  Rediscovering life after the loss of a loved o...  "
      ]
     },
     "metadata": {},
     "output_type": "display_data"
    }
   ],
   "source": [
    "for t in tables: display(t.head())"
   ]
  },
  {
   "cell_type": "markdown",
   "metadata": {
    "hidden": true
   },
   "source": [
    "This is very representative of a typical industry dataset.\n",
    "\n",
    "The following returns summarized aggregate information to each table accross each field."
   ]
  },
  {
   "cell_type": "code",
   "execution_count": 7,
   "metadata": {
    "hidden": true,
    "scrolled": false
   },
   "outputs": [
    {
     "data": {
      "text/html": [
       "<div>\n",
       "<style scoped>\n",
       "    .dataframe tbody tr th:only-of-type {\n",
       "        vertical-align: middle;\n",
       "    }\n",
       "\n",
       "    .dataframe tbody tr th {\n",
       "        vertical-align: top;\n",
       "    }\n",
       "\n",
       "    .dataframe thead th {\n",
       "        text-align: right;\n",
       "    }\n",
       "</style>\n",
       "<table border=\"1\" class=\"dataframe\">\n",
       "  <thead>\n",
       "    <tr style=\"text-align: right;\">\n",
       "      <th></th>\n",
       "      <th>train_id</th>\n",
       "      <th>name</th>\n",
       "      <th>item_condition_id</th>\n",
       "      <th>category_name</th>\n",
       "      <th>brand_name</th>\n",
       "      <th>price</th>\n",
       "      <th>shipping</th>\n",
       "      <th>item_description</th>\n",
       "    </tr>\n",
       "  </thead>\n",
       "  <tbody>\n",
       "    <tr>\n",
       "      <th>count</th>\n",
       "      <td>1.48254e+06</td>\n",
       "      <td>NaN</td>\n",
       "      <td>1.48254e+06</td>\n",
       "      <td>NaN</td>\n",
       "      <td>NaN</td>\n",
       "      <td>1.48254e+06</td>\n",
       "      <td>1.48254e+06</td>\n",
       "      <td>NaN</td>\n",
       "    </tr>\n",
       "    <tr>\n",
       "      <th>mean</th>\n",
       "      <td>741267</td>\n",
       "      <td>NaN</td>\n",
       "      <td>1.90738</td>\n",
       "      <td>NaN</td>\n",
       "      <td>NaN</td>\n",
       "      <td>26.7375</td>\n",
       "      <td>0.447274</td>\n",
       "      <td>NaN</td>\n",
       "    </tr>\n",
       "    <tr>\n",
       "      <th>std</th>\n",
       "      <td>427971</td>\n",
       "      <td>NaN</td>\n",
       "      <td>0.903159</td>\n",
       "      <td>NaN</td>\n",
       "      <td>NaN</td>\n",
       "      <td>38.5861</td>\n",
       "      <td>0.497212</td>\n",
       "      <td>NaN</td>\n",
       "    </tr>\n",
       "    <tr>\n",
       "      <th>min</th>\n",
       "      <td>0</td>\n",
       "      <td>NaN</td>\n",
       "      <td>1</td>\n",
       "      <td>NaN</td>\n",
       "      <td>NaN</td>\n",
       "      <td>0</td>\n",
       "      <td>0</td>\n",
       "      <td>NaN</td>\n",
       "    </tr>\n",
       "    <tr>\n",
       "      <th>25%</th>\n",
       "      <td>370634</td>\n",
       "      <td>NaN</td>\n",
       "      <td>1</td>\n",
       "      <td>NaN</td>\n",
       "      <td>NaN</td>\n",
       "      <td>10</td>\n",
       "      <td>0</td>\n",
       "      <td>NaN</td>\n",
       "    </tr>\n",
       "    <tr>\n",
       "      <th>50%</th>\n",
       "      <td>741267</td>\n",
       "      <td>NaN</td>\n",
       "      <td>2</td>\n",
       "      <td>NaN</td>\n",
       "      <td>NaN</td>\n",
       "      <td>17</td>\n",
       "      <td>0</td>\n",
       "      <td>NaN</td>\n",
       "    </tr>\n",
       "    <tr>\n",
       "      <th>75%</th>\n",
       "      <td>1.1119e+06</td>\n",
       "      <td>NaN</td>\n",
       "      <td>3</td>\n",
       "      <td>NaN</td>\n",
       "      <td>NaN</td>\n",
       "      <td>29</td>\n",
       "      <td>1</td>\n",
       "      <td>NaN</td>\n",
       "    </tr>\n",
       "    <tr>\n",
       "      <th>max</th>\n",
       "      <td>1.48253e+06</td>\n",
       "      <td>NaN</td>\n",
       "      <td>5</td>\n",
       "      <td>NaN</td>\n",
       "      <td>NaN</td>\n",
       "      <td>2009</td>\n",
       "      <td>1</td>\n",
       "      <td>NaN</td>\n",
       "    </tr>\n",
       "    <tr>\n",
       "      <th>counts</th>\n",
       "      <td>1482535</td>\n",
       "      <td>1482535</td>\n",
       "      <td>1482535</td>\n",
       "      <td>1476208</td>\n",
       "      <td>849853</td>\n",
       "      <td>1482535</td>\n",
       "      <td>1482535</td>\n",
       "      <td>1482531</td>\n",
       "    </tr>\n",
       "    <tr>\n",
       "      <th>uniques</th>\n",
       "      <td>1482535</td>\n",
       "      <td>1225273</td>\n",
       "      <td>5</td>\n",
       "      <td>1287</td>\n",
       "      <td>4809</td>\n",
       "      <td>828</td>\n",
       "      <td>2</td>\n",
       "      <td>1281426</td>\n",
       "    </tr>\n",
       "    <tr>\n",
       "      <th>missing</th>\n",
       "      <td>0</td>\n",
       "      <td>0</td>\n",
       "      <td>0</td>\n",
       "      <td>6327</td>\n",
       "      <td>632682</td>\n",
       "      <td>0</td>\n",
       "      <td>0</td>\n",
       "      <td>4</td>\n",
       "    </tr>\n",
       "    <tr>\n",
       "      <th>missing_perc</th>\n",
       "      <td>0%</td>\n",
       "      <td>0%</td>\n",
       "      <td>0%</td>\n",
       "      <td>0.43%</td>\n",
       "      <td>42.68%</td>\n",
       "      <td>0%</td>\n",
       "      <td>0%</td>\n",
       "      <td>0.00%</td>\n",
       "    </tr>\n",
       "    <tr>\n",
       "      <th>types</th>\n",
       "      <td>numeric</td>\n",
       "      <td>categorical</td>\n",
       "      <td>numeric</td>\n",
       "      <td>categorical</td>\n",
       "      <td>categorical</td>\n",
       "      <td>numeric</td>\n",
       "      <td>bool</td>\n",
       "      <td>categorical</td>\n",
       "    </tr>\n",
       "  </tbody>\n",
       "</table>\n",
       "</div>"
      ],
      "text/plain": [
       "                 train_id         name item_condition_id category_name  \\\n",
       "count         1.48254e+06          NaN       1.48254e+06           NaN   \n",
       "mean               741267          NaN           1.90738           NaN   \n",
       "std                427971          NaN          0.903159           NaN   \n",
       "min                     0          NaN                 1           NaN   \n",
       "25%                370634          NaN                 1           NaN   \n",
       "50%                741267          NaN                 2           NaN   \n",
       "75%            1.1119e+06          NaN                 3           NaN   \n",
       "max           1.48253e+06          NaN                 5           NaN   \n",
       "counts            1482535      1482535           1482535       1476208   \n",
       "uniques           1482535      1225273                 5          1287   \n",
       "missing                 0            0                 0          6327   \n",
       "missing_perc           0%           0%                0%         0.43%   \n",
       "types             numeric  categorical           numeric   categorical   \n",
       "\n",
       "               brand_name        price     shipping item_description  \n",
       "count                 NaN  1.48254e+06  1.48254e+06              NaN  \n",
       "mean                  NaN      26.7375     0.447274              NaN  \n",
       "std                   NaN      38.5861     0.497212              NaN  \n",
       "min                   NaN            0            0              NaN  \n",
       "25%                   NaN           10            0              NaN  \n",
       "50%                   NaN           17            0              NaN  \n",
       "75%                   NaN           29            1              NaN  \n",
       "max                   NaN         2009            1              NaN  \n",
       "counts             849853      1482535      1482535          1482531  \n",
       "uniques              4809          828            2          1281426  \n",
       "missing            632682            0            0                4  \n",
       "missing_perc       42.68%           0%           0%            0.00%  \n",
       "types         categorical      numeric         bool      categorical  "
      ]
     },
     "metadata": {},
     "output_type": "display_data"
    },
    {
     "data": {
      "text/html": [
       "<div>\n",
       "<style scoped>\n",
       "    .dataframe tbody tr th:only-of-type {\n",
       "        vertical-align: middle;\n",
       "    }\n",
       "\n",
       "    .dataframe tbody tr th {\n",
       "        vertical-align: top;\n",
       "    }\n",
       "\n",
       "    .dataframe thead th {\n",
       "        text-align: right;\n",
       "    }\n",
       "</style>\n",
       "<table border=\"1\" class=\"dataframe\">\n",
       "  <thead>\n",
       "    <tr style=\"text-align: right;\">\n",
       "      <th></th>\n",
       "      <th>test_id</th>\n",
       "      <th>name</th>\n",
       "      <th>item_condition_id</th>\n",
       "      <th>category_name</th>\n",
       "      <th>brand_name</th>\n",
       "      <th>shipping</th>\n",
       "      <th>item_description</th>\n",
       "    </tr>\n",
       "  </thead>\n",
       "  <tbody>\n",
       "    <tr>\n",
       "      <th>count</th>\n",
       "      <td>693359</td>\n",
       "      <td>NaN</td>\n",
       "      <td>693359</td>\n",
       "      <td>NaN</td>\n",
       "      <td>NaN</td>\n",
       "      <td>693359</td>\n",
       "      <td>NaN</td>\n",
       "    </tr>\n",
       "    <tr>\n",
       "      <th>mean</th>\n",
       "      <td>346679</td>\n",
       "      <td>NaN</td>\n",
       "      <td>1.9061</td>\n",
       "      <td>NaN</td>\n",
       "      <td>NaN</td>\n",
       "      <td>0.447719</td>\n",
       "      <td>NaN</td>\n",
       "    </tr>\n",
       "    <tr>\n",
       "      <th>std</th>\n",
       "      <td>200156</td>\n",
       "      <td>NaN</td>\n",
       "      <td>0.903378</td>\n",
       "      <td>NaN</td>\n",
       "      <td>NaN</td>\n",
       "      <td>0.49726</td>\n",
       "      <td>NaN</td>\n",
       "    </tr>\n",
       "    <tr>\n",
       "      <th>min</th>\n",
       "      <td>0</td>\n",
       "      <td>NaN</td>\n",
       "      <td>1</td>\n",
       "      <td>NaN</td>\n",
       "      <td>NaN</td>\n",
       "      <td>0</td>\n",
       "      <td>NaN</td>\n",
       "    </tr>\n",
       "    <tr>\n",
       "      <th>25%</th>\n",
       "      <td>173340</td>\n",
       "      <td>NaN</td>\n",
       "      <td>1</td>\n",
       "      <td>NaN</td>\n",
       "      <td>NaN</td>\n",
       "      <td>0</td>\n",
       "      <td>NaN</td>\n",
       "    </tr>\n",
       "    <tr>\n",
       "      <th>50%</th>\n",
       "      <td>346679</td>\n",
       "      <td>NaN</td>\n",
       "      <td>2</td>\n",
       "      <td>NaN</td>\n",
       "      <td>NaN</td>\n",
       "      <td>0</td>\n",
       "      <td>NaN</td>\n",
       "    </tr>\n",
       "    <tr>\n",
       "      <th>75%</th>\n",
       "      <td>520018</td>\n",
       "      <td>NaN</td>\n",
       "      <td>3</td>\n",
       "      <td>NaN</td>\n",
       "      <td>NaN</td>\n",
       "      <td>1</td>\n",
       "      <td>NaN</td>\n",
       "    </tr>\n",
       "    <tr>\n",
       "      <th>max</th>\n",
       "      <td>693358</td>\n",
       "      <td>NaN</td>\n",
       "      <td>5</td>\n",
       "      <td>NaN</td>\n",
       "      <td>NaN</td>\n",
       "      <td>1</td>\n",
       "      <td>NaN</td>\n",
       "    </tr>\n",
       "    <tr>\n",
       "      <th>counts</th>\n",
       "      <td>693359</td>\n",
       "      <td>693359</td>\n",
       "      <td>693359</td>\n",
       "      <td>690301</td>\n",
       "      <td>397834</td>\n",
       "      <td>693359</td>\n",
       "      <td>693359</td>\n",
       "    </tr>\n",
       "    <tr>\n",
       "      <th>uniques</th>\n",
       "      <td>693359</td>\n",
       "      <td>601117</td>\n",
       "      <td>5</td>\n",
       "      <td>1223</td>\n",
       "      <td>3900</td>\n",
       "      <td>2</td>\n",
       "      <td>609555</td>\n",
       "    </tr>\n",
       "    <tr>\n",
       "      <th>missing</th>\n",
       "      <td>0</td>\n",
       "      <td>0</td>\n",
       "      <td>0</td>\n",
       "      <td>3058</td>\n",
       "      <td>295525</td>\n",
       "      <td>0</td>\n",
       "      <td>0</td>\n",
       "    </tr>\n",
       "    <tr>\n",
       "      <th>missing_perc</th>\n",
       "      <td>0%</td>\n",
       "      <td>0%</td>\n",
       "      <td>0%</td>\n",
       "      <td>0.44%</td>\n",
       "      <td>42.62%</td>\n",
       "      <td>0%</td>\n",
       "      <td>0%</td>\n",
       "    </tr>\n",
       "    <tr>\n",
       "      <th>types</th>\n",
       "      <td>numeric</td>\n",
       "      <td>categorical</td>\n",
       "      <td>numeric</td>\n",
       "      <td>categorical</td>\n",
       "      <td>categorical</td>\n",
       "      <td>bool</td>\n",
       "      <td>categorical</td>\n",
       "    </tr>\n",
       "  </tbody>\n",
       "</table>\n",
       "</div>"
      ],
      "text/plain": [
       "              test_id         name item_condition_id category_name  \\\n",
       "count          693359          NaN            693359           NaN   \n",
       "mean           346679          NaN            1.9061           NaN   \n",
       "std            200156          NaN          0.903378           NaN   \n",
       "min                 0          NaN                 1           NaN   \n",
       "25%            173340          NaN                 1           NaN   \n",
       "50%            346679          NaN                 2           NaN   \n",
       "75%            520018          NaN                 3           NaN   \n",
       "max            693358          NaN                 5           NaN   \n",
       "counts         693359       693359            693359        690301   \n",
       "uniques        693359       601117                 5          1223   \n",
       "missing             0            0                 0          3058   \n",
       "missing_perc       0%           0%                0%         0.44%   \n",
       "types         numeric  categorical           numeric   categorical   \n",
       "\n",
       "               brand_name  shipping item_description  \n",
       "count                 NaN    693359              NaN  \n",
       "mean                  NaN  0.447719              NaN  \n",
       "std                   NaN   0.49726              NaN  \n",
       "min                   NaN         0              NaN  \n",
       "25%                   NaN         0              NaN  \n",
       "50%                   NaN         0              NaN  \n",
       "75%                   NaN         1              NaN  \n",
       "max                   NaN         1              NaN  \n",
       "counts             397834    693359           693359  \n",
       "uniques              3900         2           609555  \n",
       "missing            295525         0                0  \n",
       "missing_perc       42.62%        0%               0%  \n",
       "types         categorical      bool      categorical  "
      ]
     },
     "metadata": {},
     "output_type": "display_data"
    }
   ],
   "source": [
    "for t in tables: display(DataFrameSummary(t).summary())"
   ]
  },
  {
   "cell_type": "markdown",
   "metadata": {},
   "source": [
    "## Data Cleaning / Feature Engineering"
   ]
  },
  {
   "cell_type": "markdown",
   "metadata": {},
   "source": [
    "As a structured data problem, we necessarily have to go through all the cleaning and feature engineering, even though we're using a neural network."
   ]
  },
  {
   "cell_type": "code",
   "execution_count": 8,
   "metadata": {},
   "outputs": [],
   "source": [
    "train, test = tables"
   ]
  },
  {
   "cell_type": "code",
   "execution_count": 9,
   "metadata": {},
   "outputs": [
    {
     "data": {
      "text/plain": [
       "(1482535, 693359)"
      ]
     },
     "execution_count": 9,
     "metadata": {},
     "output_type": "execute_result"
    }
   ],
   "source": [
    "len(train),len(test)"
   ]
  },
  {
   "cell_type": "markdown",
   "metadata": {},
   "source": [
    "We turn state Holidays to booleans, to make them more convenient for modeling. We can do calculations on pandas fields using notation very similar (often identical) to numpy."
   ]
  },
  {
   "cell_type": "code",
   "execution_count": 10,
   "metadata": {},
   "outputs": [],
   "source": [
    "# train.category_name = train.category_name.fillna('missing').astype('category')\n",
    "# train.brand_name = train.brand_name.fillna('missing').astype('category')\n",
    "# train.item_condition_id = train.item_condition_id.astype('category')\n",
    "\n",
    "# test.category_name = test.category_name.fillna('missing').astype('category')\n",
    "# test.brand_name = test.brand_name.fillna('missing').astype('category')\n",
    "# test.item_condition_id = test.item_condition_id.astype('category')"
   ]
  },
  {
   "cell_type": "markdown",
   "metadata": {},
   "source": [
    "It's usually a good idea to back up large tables of extracted / wrangled features before you join them onto another one, that way you can go back to it easily if you need to make changes to it."
   ]
  },
  {
   "cell_type": "code",
   "execution_count": 11,
   "metadata": {},
   "outputs": [],
   "source": [
    "# combined = pd.concat([train, test])"
   ]
  },
  {
   "cell_type": "code",
   "execution_count": 12,
   "metadata": {},
   "outputs": [],
   "source": [
    "train.to_feather(f'{PATH}train_pp1')\n",
    "test.to_feather(f'{PATH}test_pp1')"
   ]
  },
  {
   "cell_type": "markdown",
   "metadata": {},
   "source": [
    "We now have our final set of engineered features.\n",
    "\n",
    "While these steps were explicitly outlined in the paper, these are all fairly typical feature engineering steps for dealing with time series data and are practical in any similar setting."
   ]
  },
  {
   "cell_type": "markdown",
   "metadata": {
    "collapsed": true,
    "heading_collapsed": true
   },
   "source": [
    "## Create features"
   ]
  },
  {
   "cell_type": "code",
   "execution_count": 188,
   "metadata": {
    "hidden": true
   },
   "outputs": [
    {
     "name": "stderr",
     "output_type": "stream",
     "text": [
      "/home/ubuntu/anaconda3/envs/fastai/lib/python3.6/site-packages/pandas/io/feather_format.py:112: FutureWarning: `nthreads` argument is deprecated, pass `use_threads` instead\n",
      "  return feather.read_dataframe(path, nthreads=nthreads)\n"
     ]
    }
   ],
   "source": [
    "train = pd.read_feather(f'{PATH}train_pp1')\n",
    "test = pd.read_feather(f'{PATH}test_pp1')"
   ]
  },
  {
   "cell_type": "code",
   "execution_count": 189,
   "metadata": {},
   "outputs": [
    {
     "name": "stdout",
     "output_type": "stream",
     "text": [
      "<class 'pandas.core.frame.DataFrame'>\n",
      "RangeIndex: 1482535 entries, 0 to 1482534\n",
      "Data columns (total 8 columns):\n",
      "train_id             1482535 non-null int64\n",
      "name                 1482535 non-null object\n",
      "item_condition_id    1482535 non-null int64\n",
      "category_name        1476208 non-null object\n",
      "brand_name           849853 non-null object\n",
      "price                1482535 non-null float64\n",
      "shipping             1482535 non-null int64\n",
      "item_description     1482531 non-null object\n",
      "dtypes: float64(1), int64(3), object(4)\n",
      "memory usage: 90.5+ MB\n"
     ]
    }
   ],
   "source": [
    "train.info()"
   ]
  },
  {
   "cell_type": "code",
   "execution_count": 190,
   "metadata": {},
   "outputs": [
    {
     "name": "stdout",
     "output_type": "stream",
     "text": [
      "<class 'pandas.core.frame.DataFrame'>\n",
      "RangeIndex: 693359 entries, 0 to 693358\n",
      "Data columns (total 7 columns):\n",
      "test_id              693359 non-null int64\n",
      "name                 693359 non-null object\n",
      "item_condition_id    693359 non-null int64\n",
      "category_name        690301 non-null object\n",
      "brand_name           397834 non-null object\n",
      "shipping             693359 non-null int64\n",
      "item_description     693359 non-null object\n",
      "dtypes: int64(3), object(4)\n",
      "memory usage: 37.0+ MB\n"
     ]
    }
   ],
   "source": [
    "test.info()"
   ]
  },
  {
   "cell_type": "code",
   "execution_count": 191,
   "metadata": {
    "hidden": true,
    "scrolled": true
   },
   "outputs": [
    {
     "data": {
      "text/html": [
       "<div>\n",
       "<style scoped>\n",
       "    .dataframe tbody tr th:only-of-type {\n",
       "        vertical-align: middle;\n",
       "    }\n",
       "\n",
       "    .dataframe tbody tr th {\n",
       "        vertical-align: top;\n",
       "    }\n",
       "\n",
       "    .dataframe thead th {\n",
       "        text-align: right;\n",
       "    }\n",
       "</style>\n",
       "<table border=\"1\" class=\"dataframe\">\n",
       "  <thead>\n",
       "    <tr style=\"text-align: right;\">\n",
       "      <th></th>\n",
       "      <th>0</th>\n",
       "      <th>1</th>\n",
       "      <th>2</th>\n",
       "      <th>3</th>\n",
       "      <th>4</th>\n",
       "    </tr>\n",
       "  </thead>\n",
       "  <tbody>\n",
       "    <tr>\n",
       "      <th>train_id</th>\n",
       "      <td>0</td>\n",
       "      <td>1</td>\n",
       "      <td>2</td>\n",
       "      <td>3</td>\n",
       "      <td>4</td>\n",
       "    </tr>\n",
       "    <tr>\n",
       "      <th>name</th>\n",
       "      <td>MLB Cincinnati Reds T Shirt Size XL</td>\n",
       "      <td>Razer BlackWidow Chroma Keyboard</td>\n",
       "      <td>AVA-VIV Blouse</td>\n",
       "      <td>Leather Horse Statues</td>\n",
       "      <td>24K GOLD plated rose</td>\n",
       "    </tr>\n",
       "    <tr>\n",
       "      <th>item_condition_id</th>\n",
       "      <td>3</td>\n",
       "      <td>3</td>\n",
       "      <td>1</td>\n",
       "      <td>1</td>\n",
       "      <td>1</td>\n",
       "    </tr>\n",
       "    <tr>\n",
       "      <th>category_name</th>\n",
       "      <td>Men/Tops/T-shirts</td>\n",
       "      <td>Electronics/Computers &amp; Tablets/Components &amp; P...</td>\n",
       "      <td>Women/Tops &amp; Blouses/Blouse</td>\n",
       "      <td>Home/Home Décor/Home Décor Accents</td>\n",
       "      <td>Women/Jewelry/Necklaces</td>\n",
       "    </tr>\n",
       "    <tr>\n",
       "      <th>brand_name</th>\n",
       "      <td>None</td>\n",
       "      <td>Razer</td>\n",
       "      <td>Target</td>\n",
       "      <td>None</td>\n",
       "      <td>None</td>\n",
       "    </tr>\n",
       "    <tr>\n",
       "      <th>price</th>\n",
       "      <td>10</td>\n",
       "      <td>52</td>\n",
       "      <td>10</td>\n",
       "      <td>35</td>\n",
       "      <td>44</td>\n",
       "    </tr>\n",
       "    <tr>\n",
       "      <th>shipping</th>\n",
       "      <td>1</td>\n",
       "      <td>0</td>\n",
       "      <td>1</td>\n",
       "      <td>1</td>\n",
       "      <td>0</td>\n",
       "    </tr>\n",
       "    <tr>\n",
       "      <th>item_description</th>\n",
       "      <td>No description yet</td>\n",
       "      <td>This keyboard is in great condition and works ...</td>\n",
       "      <td>Adorable top with a hint of lace and a key hol...</td>\n",
       "      <td>New with tags. Leather horses. Retail for [rm]...</td>\n",
       "      <td>Complete with certificate of authenticity</td>\n",
       "    </tr>\n",
       "  </tbody>\n",
       "</table>\n",
       "</div>"
      ],
      "text/plain": [
       "                                                     0  \\\n",
       "train_id                                             0   \n",
       "name               MLB Cincinnati Reds T Shirt Size XL   \n",
       "item_condition_id                                    3   \n",
       "category_name                        Men/Tops/T-shirts   \n",
       "brand_name                                        None   \n",
       "price                                               10   \n",
       "shipping                                             1   \n",
       "item_description                    No description yet   \n",
       "\n",
       "                                                                   1  \\\n",
       "train_id                                                           1   \n",
       "name                                Razer BlackWidow Chroma Keyboard   \n",
       "item_condition_id                                                  3   \n",
       "category_name      Electronics/Computers & Tablets/Components & P...   \n",
       "brand_name                                                     Razer   \n",
       "price                                                             52   \n",
       "shipping                                                           0   \n",
       "item_description   This keyboard is in great condition and works ...   \n",
       "\n",
       "                                                                   2  \\\n",
       "train_id                                                           2   \n",
       "name                                                  AVA-VIV Blouse   \n",
       "item_condition_id                                                  1   \n",
       "category_name                            Women/Tops & Blouses/Blouse   \n",
       "brand_name                                                    Target   \n",
       "price                                                             10   \n",
       "shipping                                                           1   \n",
       "item_description   Adorable top with a hint of lace and a key hol...   \n",
       "\n",
       "                                                                   3  \\\n",
       "train_id                                                           3   \n",
       "name                                           Leather Horse Statues   \n",
       "item_condition_id                                                  1   \n",
       "category_name                     Home/Home Décor/Home Décor Accents   \n",
       "brand_name                                                      None   \n",
       "price                                                             35   \n",
       "shipping                                                           1   \n",
       "item_description   New with tags. Leather horses. Retail for [rm]...   \n",
       "\n",
       "                                                           4  \n",
       "train_id                                                   4  \n",
       "name                                    24K GOLD plated rose  \n",
       "item_condition_id                                          1  \n",
       "category_name                        Women/Jewelry/Necklaces  \n",
       "brand_name                                              None  \n",
       "price                                                     44  \n",
       "shipping                                                   0  \n",
       "item_description   Complete with certificate of authenticity  "
      ]
     },
     "execution_count": 191,
     "metadata": {},
     "output_type": "execute_result"
    }
   ],
   "source": [
    "train.head().T.head(40)"
   ]
  },
  {
   "cell_type": "markdown",
   "metadata": {
    "hidden": true
   },
   "source": [
    "Now that we've engineered all our features, we need to convert to input compatible with a neural network.\n",
    "\n",
    "This includes converting categorical variables into contiguous integers or one-hot encodings, normalizing continuous features to standard normal, etc..."
   ]
  },
  {
   "cell_type": "code",
   "execution_count": 192,
   "metadata": {},
   "outputs": [],
   "source": [
    "## Other Categories are too often!!"
   ]
  },
  {
   "cell_type": "code",
   "execution_count": 193,
   "metadata": {},
   "outputs": [],
   "source": [
    "train['x'] = 0\n",
    "# train['x'] = train['x'].map(lambda x: np.random.random(x)[0])\n",
    "\n",
    "test['x'] = 0\n",
    "# test['x'] = test['x'].map(lambda x: np.random.random(x)[0])\n",
    "\n",
    "train.price = train.price.astype('float32')"
   ]
  },
  {
   "cell_type": "code",
   "execution_count": 194,
   "metadata": {},
   "outputs": [],
   "source": [
    "train = train.fillna('missing')\n",
    "test = test.fillna('missing')"
   ]
  },
  {
   "cell_type": "code",
   "execution_count": 195,
   "metadata": {
    "hidden": true
   },
   "outputs": [
    {
     "data": {
      "text/plain": [
       "1482535"
      ]
     },
     "execution_count": 195,
     "metadata": {},
     "output_type": "execute_result"
    }
   ],
   "source": [
    "cat_vars = ['item_condition_id','category_name', 'brand_name', 'shipping']\n",
    "\n",
    "contin_vars = ['x']\n",
    "# contin_vars = []\n",
    "\n",
    "n = len(train); n"
   ]
  },
  {
   "cell_type": "code",
   "execution_count": 204,
   "metadata": {},
   "outputs": [
    {
     "data": {
      "text/html": [
       "<div>\n",
       "<style scoped>\n",
       "    .dataframe tbody tr th:only-of-type {\n",
       "        vertical-align: middle;\n",
       "    }\n",
       "\n",
       "    .dataframe tbody tr th {\n",
       "        vertical-align: top;\n",
       "    }\n",
       "\n",
       "    .dataframe thead th {\n",
       "        text-align: right;\n",
       "    }\n",
       "</style>\n",
       "<table border=\"1\" class=\"dataframe\">\n",
       "  <thead>\n",
       "    <tr style=\"text-align: right;\">\n",
       "      <th></th>\n",
       "      <th>test_id</th>\n",
       "      <th>name</th>\n",
       "      <th>item_condition_id</th>\n",
       "      <th>category_name</th>\n",
       "      <th>brand_name</th>\n",
       "      <th>shipping</th>\n",
       "      <th>item_description</th>\n",
       "      <th>x</th>\n",
       "    </tr>\n",
       "  </thead>\n",
       "  <tbody>\n",
       "    <tr>\n",
       "      <th>217</th>\n",
       "      <td>217</td>\n",
       "      <td>Lularoe XS Carly Dress</td>\n",
       "      <td>3</td>\n",
       "      <td>missing</td>\n",
       "      <td>LuLaRoe</td>\n",
       "      <td>0</td>\n",
       "      <td>XS Lularoe Carly Dress. Has peach tone color s...</td>\n",
       "      <td>0</td>\n",
       "    </tr>\n",
       "    <tr>\n",
       "      <th>555</th>\n",
       "      <td>555</td>\n",
       "      <td>Victoria's Secret VerySexy Touch Perfume</td>\n",
       "      <td>2</td>\n",
       "      <td>missing</td>\n",
       "      <td>Victoria's Secret</td>\n",
       "      <td>0</td>\n",
       "      <td>No description yet</td>\n",
       "      <td>0</td>\n",
       "    </tr>\n",
       "    <tr>\n",
       "      <th>702</th>\n",
       "      <td>702</td>\n",
       "      <td>Men's All Black Low Top Converse</td>\n",
       "      <td>3</td>\n",
       "      <td>missing</td>\n",
       "      <td>Converse</td>\n",
       "      <td>0</td>\n",
       "      <td>Men's Converse, size 11, all black. They have ...</td>\n",
       "      <td>0</td>\n",
       "    </tr>\n",
       "    <tr>\n",
       "      <th>1110</th>\n",
       "      <td>1110</td>\n",
       "      <td>92 Polly Pocket Jewel Palace/Ice Kingdom</td>\n",
       "      <td>3</td>\n",
       "      <td>missing</td>\n",
       "      <td>Mattel®</td>\n",
       "      <td>0</td>\n",
       "      <td>Set of 2. In good condition. Both are complete...</td>\n",
       "      <td>0</td>\n",
       "    </tr>\n",
       "    <tr>\n",
       "      <th>1476</th>\n",
       "      <td>1476</td>\n",
       "      <td>Bundle for Vanessa Wieseler</td>\n",
       "      <td>1</td>\n",
       "      <td>missing</td>\n",
       "      <td>Avent</td>\n",
       "      <td>0</td>\n",
       "      <td>Avent Bottle Warmer Brand New Open Package [rm...</td>\n",
       "      <td>0</td>\n",
       "    </tr>\n",
       "    <tr>\n",
       "      <th>1586</th>\n",
       "      <td>1586</td>\n",
       "      <td>Mens Shake Weight</td>\n",
       "      <td>2</td>\n",
       "      <td>missing</td>\n",
       "      <td>missing</td>\n",
       "      <td>0</td>\n",
       "      <td>No description yet</td>\n",
       "      <td>0</td>\n",
       "    </tr>\n",
       "    <tr>\n",
       "      <th>1983</th>\n",
       "      <td>1983</td>\n",
       "      <td>Knee Sleeves Workout XS</td>\n",
       "      <td>1</td>\n",
       "      <td>missing</td>\n",
       "      <td>missing</td>\n",
       "      <td>0</td>\n",
       "      <td>XS brand new in package</td>\n",
       "      <td>0</td>\n",
       "    </tr>\n",
       "    <tr>\n",
       "      <th>2317</th>\n",
       "      <td>2317</td>\n",
       "      <td>Honeywell Money Lockbox</td>\n",
       "      <td>3</td>\n",
       "      <td>missing</td>\n",
       "      <td>missing</td>\n",
       "      <td>0</td>\n",
       "      <td>No description yet</td>\n",
       "      <td>0</td>\n",
       "    </tr>\n",
       "    <tr>\n",
       "      <th>2376</th>\n",
       "      <td>2376</td>\n",
       "      <td>#84 Wholesale Lot Workout Clothing 30 Pc</td>\n",
       "      <td>3</td>\n",
       "      <td>missing</td>\n",
       "      <td>missing</td>\n",
       "      <td>0</td>\n",
       "      <td>Bin Pickers from YT wholesale lot #84. All wom...</td>\n",
       "      <td>0</td>\n",
       "    </tr>\n",
       "    <tr>\n",
       "      <th>2508</th>\n",
       "      <td>2508</td>\n",
       "      <td>Hollister sweatpants</td>\n",
       "      <td>3</td>\n",
       "      <td>missing</td>\n",
       "      <td>Hollister</td>\n",
       "      <td>0</td>\n",
       "      <td>Juniors small in great condition. Very soft, c...</td>\n",
       "      <td>0</td>\n",
       "    </tr>\n",
       "    <tr>\n",
       "      <th>2545</th>\n",
       "      <td>2545</td>\n",
       "      <td>Snow White &amp; the Seven Dwarves</td>\n",
       "      <td>3</td>\n",
       "      <td>missing</td>\n",
       "      <td>Fisher-Price</td>\n",
       "      <td>0</td>\n",
       "      <td>Fisher-Price Little People Snow White and the ...</td>\n",
       "      <td>0</td>\n",
       "    </tr>\n",
       "    <tr>\n",
       "      <th>2797</th>\n",
       "      <td>2797</td>\n",
       "      <td>Nice Black Purse With Strap</td>\n",
       "      <td>2</td>\n",
       "      <td>missing</td>\n",
       "      <td>missing</td>\n",
       "      <td>0</td>\n",
       "      <td>Very nice Forever21 black purse with removable...</td>\n",
       "      <td>0</td>\n",
       "    </tr>\n",
       "    <tr>\n",
       "      <th>2848</th>\n",
       "      <td>2848</td>\n",
       "      <td>3 FOR [rm] bundle!</td>\n",
       "      <td>1</td>\n",
       "      <td>missing</td>\n",
       "      <td>missing</td>\n",
       "      <td>0</td>\n",
       "      <td>Brand new! Grey cotton crop top Two different ...</td>\n",
       "      <td>0</td>\n",
       "    </tr>\n",
       "    <tr>\n",
       "      <th>2936</th>\n",
       "      <td>2936</td>\n",
       "      <td>Juicy Couture 2T outfit</td>\n",
       "      <td>1</td>\n",
       "      <td>missing</td>\n",
       "      <td>Juicy Couture</td>\n",
       "      <td>0</td>\n",
       "      <td>Nwt Juicy Couture girls 2T outfit</td>\n",
       "      <td>0</td>\n",
       "    </tr>\n",
       "    <tr>\n",
       "      <th>2937</th>\n",
       "      <td>2937</td>\n",
       "      <td>Nurse Costume</td>\n",
       "      <td>2</td>\n",
       "      <td>missing</td>\n",
       "      <td>missing</td>\n",
       "      <td>1</td>\n",
       "      <td>Size small</td>\n",
       "      <td>0</td>\n",
       "    </tr>\n",
       "    <tr>\n",
       "      <th>3128</th>\n",
       "      <td>3128</td>\n",
       "      <td>2 sushi patches</td>\n",
       "      <td>1</td>\n",
       "      <td>missing</td>\n",
       "      <td>missing</td>\n",
       "      <td>1</td>\n",
       "      <td>fast shipping</td>\n",
       "      <td>0</td>\n",
       "    </tr>\n",
       "    <tr>\n",
       "      <th>3184</th>\n",
       "      <td>3184</td>\n",
       "      <td>(5) Nike boys t-shirts size 6</td>\n",
       "      <td>4</td>\n",
       "      <td>missing</td>\n",
       "      <td>Nike</td>\n",
       "      <td>0</td>\n",
       "      <td>These have been worn, some of the lettering on...</td>\n",
       "      <td>0</td>\n",
       "    </tr>\n",
       "    <tr>\n",
       "      <th>3977</th>\n",
       "      <td>3977</td>\n",
       "      <td>Retro Jordan Grape 5</td>\n",
       "      <td>3</td>\n",
       "      <td>missing</td>\n",
       "      <td>Jordans</td>\n",
       "      <td>1</td>\n",
       "      <td>Excellent condition. Only worn a couple times....</td>\n",
       "      <td>0</td>\n",
       "    </tr>\n",
       "    <tr>\n",
       "      <th>4083</th>\n",
       "      <td>4083</td>\n",
       "      <td>Reserved SLIME Bundle</td>\n",
       "      <td>1</td>\n",
       "      <td>missing</td>\n",
       "      <td>Elmers</td>\n",
       "      <td>1</td>\n",
       "      <td>4 oz. Supernova Slime 4 oz. White Butter Slime</td>\n",
       "      <td>0</td>\n",
       "    </tr>\n",
       "    <tr>\n",
       "      <th>4655</th>\n",
       "      <td>4655</td>\n",
       "      <td>HOLLISTER JEAN SHORTS</td>\n",
       "      <td>3</td>\n",
       "      <td>missing</td>\n",
       "      <td>missing</td>\n",
       "      <td>0</td>\n",
       "      <td>No description yet</td>\n",
       "      <td>0</td>\n",
       "    </tr>\n",
       "    <tr>\n",
       "      <th>4751</th>\n",
       "      <td>4751</td>\n",
       "      <td>Boyfriend Sweatpants- Thin</td>\n",
       "      <td>3</td>\n",
       "      <td>missing</td>\n",
       "      <td>PINK</td>\n",
       "      <td>0</td>\n",
       "      <td>No description yet</td>\n",
       "      <td>0</td>\n",
       "    </tr>\n",
       "    <tr>\n",
       "      <th>4887</th>\n",
       "      <td>4887</td>\n",
       "      <td>Bundle For 2 Items</td>\n",
       "      <td>1</td>\n",
       "      <td>missing</td>\n",
       "      <td>missing</td>\n",
       "      <td>0</td>\n",
       "      <td>Includes nine new sheets size 12*10 Includes a...</td>\n",
       "      <td>0</td>\n",
       "    </tr>\n",
       "    <tr>\n",
       "      <th>6102</th>\n",
       "      <td>6102</td>\n",
       "      <td>Legacy Power Rangers Morpher</td>\n",
       "      <td>3</td>\n",
       "      <td>missing</td>\n",
       "      <td>Bandai</td>\n",
       "      <td>0</td>\n",
       "      <td>-full metal morpher including all pieces -take...</td>\n",
       "      <td>0</td>\n",
       "    </tr>\n",
       "    <tr>\n",
       "      <th>6304</th>\n",
       "      <td>6304</td>\n",
       "      <td>New White Converse Shoes</td>\n",
       "      <td>2</td>\n",
       "      <td>missing</td>\n",
       "      <td>Converse</td>\n",
       "      <td>0</td>\n",
       "      <td>• NWOT • Never worn • Super clean</td>\n",
       "      <td>0</td>\n",
       "    </tr>\n",
       "    <tr>\n",
       "      <th>6926</th>\n",
       "      <td>6926</td>\n",
       "      <td>New L'oréal Mascara &amp; Eyeliner</td>\n",
       "      <td>1</td>\n",
       "      <td>missing</td>\n",
       "      <td>L'Oreal</td>\n",
       "      <td>1</td>\n",
       "      <td>Brand New! L'Oréal voluminous black mascara &amp; ...</td>\n",
       "      <td>0</td>\n",
       "    </tr>\n",
       "    <tr>\n",
       "      <th>7004</th>\n",
       "      <td>7004</td>\n",
       "      <td>Thirty One Bag With Bow!</td>\n",
       "      <td>3</td>\n",
       "      <td>missing</td>\n",
       "      <td>missing</td>\n",
       "      <td>0</td>\n",
       "      <td>I have a lot of likes on this one so get it wh...</td>\n",
       "      <td>0</td>\n",
       "    </tr>\n",
       "    <tr>\n",
       "      <th>7016</th>\n",
       "      <td>7016</td>\n",
       "      <td>Knit Button Boot Cuffs</td>\n",
       "      <td>1</td>\n",
       "      <td>missing</td>\n",
       "      <td>missing</td>\n",
       "      <td>1</td>\n",
       "      <td>3 pairs new in package/never worn 1 pair grey ...</td>\n",
       "      <td>0</td>\n",
       "    </tr>\n",
       "    <tr>\n",
       "      <th>7301</th>\n",
       "      <td>7301</td>\n",
       "      <td>ON HOLD** Pandora crown silver and cz</td>\n",
       "      <td>2</td>\n",
       "      <td>missing</td>\n",
       "      <td>PANDORA</td>\n",
       "      <td>1</td>\n",
       "      <td>Authentic Pandora silver crown charm. May be u...</td>\n",
       "      <td>0</td>\n",
       "    </tr>\n",
       "    <tr>\n",
       "      <th>7345</th>\n",
       "      <td>7345</td>\n",
       "      <td>Purple and Gold \"A\" Bookmark</td>\n",
       "      <td>3</td>\n",
       "      <td>missing</td>\n",
       "      <td>missing</td>\n",
       "      <td>0</td>\n",
       "      <td>Paid [rm] for this item at Barnes and noble. G...</td>\n",
       "      <td>0</td>\n",
       "    </tr>\n",
       "    <tr>\n",
       "      <th>7396</th>\n",
       "      <td>7396</td>\n",
       "      <td>Cute olive green hoodie and joggers</td>\n",
       "      <td>3</td>\n",
       "      <td>missing</td>\n",
       "      <td>missing</td>\n",
       "      <td>0</td>\n",
       "      <td>Size XL but fits more like a L Joggers L</td>\n",
       "      <td>0</td>\n",
       "    </tr>\n",
       "    <tr>\n",
       "      <th>...</th>\n",
       "      <td>...</td>\n",
       "      <td>...</td>\n",
       "      <td>...</td>\n",
       "      <td>...</td>\n",
       "      <td>...</td>\n",
       "      <td>...</td>\n",
       "      <td>...</td>\n",
       "      <td>...</td>\n",
       "    </tr>\n",
       "    <tr>\n",
       "      <th>687360</th>\n",
       "      <td>687360</td>\n",
       "      <td>Small Purse</td>\n",
       "      <td>3</td>\n",
       "      <td>missing</td>\n",
       "      <td>missing</td>\n",
       "      <td>0</td>\n",
       "      <td>This is a super cute little cream and navy blu...</td>\n",
       "      <td>0</td>\n",
       "    </tr>\n",
       "    <tr>\n",
       "      <th>687829</th>\n",
       "      <td>687829</td>\n",
       "      <td>For theweirdone</td>\n",
       "      <td>1</td>\n",
       "      <td>missing</td>\n",
       "      <td>missing</td>\n",
       "      <td>1</td>\n",
       "      <td>No description yet</td>\n",
       "      <td>0</td>\n",
       "    </tr>\n",
       "    <tr>\n",
       "      <th>688055</th>\n",
       "      <td>688055</td>\n",
       "      <td>Cat Toy</td>\n",
       "      <td>2</td>\n",
       "      <td>missing</td>\n",
       "      <td>missing</td>\n",
       "      <td>0</td>\n",
       "      <td>Brand new conditions Entertains your cat with ...</td>\n",
       "      <td>0</td>\n",
       "    </tr>\n",
       "    <tr>\n",
       "      <th>688200</th>\n",
       "      <td>688200</td>\n",
       "      <td>Go Diego Go Club house Set</td>\n",
       "      <td>3</td>\n",
       "      <td>missing</td>\n",
       "      <td>Nickelodeon</td>\n",
       "      <td>0</td>\n",
       "      <td>Go Diego go play set bundle includes everythin...</td>\n",
       "      <td>0</td>\n",
       "    </tr>\n",
       "    <tr>\n",
       "      <th>688347</th>\n",
       "      <td>688347</td>\n",
       "      <td>Lot of 60 Digimon Collectible Cards</td>\n",
       "      <td>3</td>\n",
       "      <td>missing</td>\n",
       "      <td>missing</td>\n",
       "      <td>0</td>\n",
       "      <td>This lot of Digimon collectible cards has 60 c...</td>\n",
       "      <td>0</td>\n",
       "    </tr>\n",
       "    <tr>\n",
       "      <th>688500</th>\n",
       "      <td>688500</td>\n",
       "      <td>Lululemon Bag</td>\n",
       "      <td>3</td>\n",
       "      <td>missing</td>\n",
       "      <td>missing</td>\n",
       "      <td>0</td>\n",
       "      <td>Lululemon bag. Pre-loved with noticeable stain...</td>\n",
       "      <td>0</td>\n",
       "    </tr>\n",
       "    <tr>\n",
       "      <th>688742</th>\n",
       "      <td>688742</td>\n",
       "      <td>Polk-a-dot Long Sleeve Shirt</td>\n",
       "      <td>2</td>\n",
       "      <td>missing</td>\n",
       "      <td>missing</td>\n",
       "      <td>0</td>\n",
       "      <td>The material is thicker than a normal short bu...</td>\n",
       "      <td>0</td>\n",
       "    </tr>\n",
       "    <tr>\n",
       "      <th>688800</th>\n",
       "      <td>688800</td>\n",
       "      <td>Gun Holster</td>\n",
       "      <td>3</td>\n",
       "      <td>missing</td>\n",
       "      <td>missing</td>\n",
       "      <td>1</td>\n",
       "      <td>Good condition. Didn't like the fill but it fi...</td>\n",
       "      <td>0</td>\n",
       "    </tr>\n",
       "    <tr>\n",
       "      <th>688835</th>\n",
       "      <td>688835</td>\n",
       "      <td>Tribal Bikini, Never Worn</td>\n",
       "      <td>2</td>\n",
       "      <td>missing</td>\n",
       "      <td>missing</td>\n",
       "      <td>1</td>\n",
       "      <td>Brand new tribal bikini size xs,never worn. Ve...</td>\n",
       "      <td>0</td>\n",
       "    </tr>\n",
       "    <tr>\n",
       "      <th>689208</th>\n",
       "      <td>689208</td>\n",
       "      <td>Piercing Hoops</td>\n",
       "      <td>1</td>\n",
       "      <td>missing</td>\n",
       "      <td>missing</td>\n",
       "      <td>1</td>\n",
       "      <td>Never worn , for septum , nose , lip , cartled...</td>\n",
       "      <td>0</td>\n",
       "    </tr>\n",
       "    <tr>\n",
       "      <th>689257</th>\n",
       "      <td>689257</td>\n",
       "      <td>EM Cosmetics Lip Cloud and Eyeliner</td>\n",
       "      <td>2</td>\n",
       "      <td>missing</td>\n",
       "      <td>missing</td>\n",
       "      <td>0</td>\n",
       "      <td>Only used once to swatch. Will come in origina...</td>\n",
       "      <td>0</td>\n",
       "    </tr>\n",
       "    <tr>\n",
       "      <th>689301</th>\n",
       "      <td>689301</td>\n",
       "      <td>BC Turq Jar for Elizabeth</td>\n",
       "      <td>3</td>\n",
       "      <td>missing</td>\n",
       "      <td>missing</td>\n",
       "      <td>0</td>\n",
       "      <td>BC turquoisr jar for Elizabeth</td>\n",
       "      <td>0</td>\n",
       "    </tr>\n",
       "    <tr>\n",
       "      <th>689532</th>\n",
       "      <td>689532</td>\n",
       "      <td>Snoopy Fidget Spinner</td>\n",
       "      <td>1</td>\n",
       "      <td>missing</td>\n",
       "      <td>missing</td>\n",
       "      <td>1</td>\n",
       "      <td>Message for bundles for lower prices</td>\n",
       "      <td>0</td>\n",
       "    </tr>\n",
       "    <tr>\n",
       "      <th>689569</th>\n",
       "      <td>689569</td>\n",
       "      <td>FREE SHIP! 3 months Bravecto - 44-88lbs</td>\n",
       "      <td>1</td>\n",
       "      <td>missing</td>\n",
       "      <td>missing</td>\n",
       "      <td>1</td>\n",
       "      <td>Brand new - never opened! Bravecto flea and ti...</td>\n",
       "      <td>0</td>\n",
       "    </tr>\n",
       "    <tr>\n",
       "      <th>689723</th>\n",
       "      <td>689723</td>\n",
       "      <td>Biosilk 2 pcs for price of one!</td>\n",
       "      <td>1</td>\n",
       "      <td>missing</td>\n",
       "      <td>missing</td>\n",
       "      <td>1</td>\n",
       "      <td>brand new in plastic sealed silk therapy 5.64 ...</td>\n",
       "      <td>0</td>\n",
       "    </tr>\n",
       "    <tr>\n",
       "      <th>689732</th>\n",
       "      <td>689732</td>\n",
       "      <td>Warby Parker \"Ames\" glasses</td>\n",
       "      <td>1</td>\n",
       "      <td>missing</td>\n",
       "      <td>Warby Parker</td>\n",
       "      <td>1</td>\n",
       "      <td>Brand new Warby Parker Ames whiskey tortoise g...</td>\n",
       "      <td>0</td>\n",
       "    </tr>\n",
       "    <tr>\n",
       "      <th>689870</th>\n",
       "      <td>689870</td>\n",
       "      <td>20. Clean empty lush containers</td>\n",
       "      <td>1</td>\n",
       "      <td>missing</td>\n",
       "      <td>Lush</td>\n",
       "      <td>0</td>\n",
       "      <td>20. Clean empty lush containers</td>\n",
       "      <td>0</td>\n",
       "    </tr>\n",
       "    <tr>\n",
       "      <th>690179</th>\n",
       "      <td>690179</td>\n",
       "      <td>Batman and Mega Man Dorbz</td>\n",
       "      <td>1</td>\n",
       "      <td>missing</td>\n",
       "      <td>missing</td>\n",
       "      <td>0</td>\n",
       "      <td>Im selling all 6 dorbz, the mega man set inclu...</td>\n",
       "      <td>0</td>\n",
       "    </tr>\n",
       "    <tr>\n",
       "      <th>690470</th>\n",
       "      <td>690470</td>\n",
       "      <td>BUBDLE FOR REBECCA</td>\n",
       "      <td>2</td>\n",
       "      <td>missing</td>\n",
       "      <td>Stamped</td>\n",
       "      <td>1</td>\n",
       "      <td>1. Sterling pendant w/pearl. 20.00 2. 14k/Ster...</td>\n",
       "      <td>0</td>\n",
       "    </tr>\n",
       "    <tr>\n",
       "      <th>690523</th>\n",
       "      <td>690523</td>\n",
       "      <td>Gillette fusion5 proglide 4 pack</td>\n",
       "      <td>1</td>\n",
       "      <td>missing</td>\n",
       "      <td>Gillette</td>\n",
       "      <td>1</td>\n",
       "      <td>Brand new never opened</td>\n",
       "      <td>0</td>\n",
       "    </tr>\n",
       "    <tr>\n",
       "      <th>690583</th>\n",
       "      <td>690583</td>\n",
       "      <td>Gingham Scrub top - XS</td>\n",
       "      <td>2</td>\n",
       "      <td>missing</td>\n",
       "      <td>missing</td>\n",
       "      <td>0</td>\n",
       "      <td>So cute! Black and white gingham scrub top, si...</td>\n",
       "      <td>0</td>\n",
       "    </tr>\n",
       "    <tr>\n",
       "      <th>690691</th>\n",
       "      <td>690691</td>\n",
       "      <td>OLD NAVY Culotte Shorts. Girls 10/12</td>\n",
       "      <td>3</td>\n",
       "      <td>missing</td>\n",
       "      <td>Old Navy</td>\n",
       "      <td>0</td>\n",
       "      <td>Cute silky culotte style shorts in very good c...</td>\n",
       "      <td>0</td>\n",
       "    </tr>\n",
       "    <tr>\n",
       "      <th>690728</th>\n",
       "      <td>690728</td>\n",
       "      <td>Ultima and BHW</td>\n",
       "      <td>3</td>\n",
       "      <td>missing</td>\n",
       "      <td>missing</td>\n",
       "      <td>1</td>\n",
       "      <td>No description yet</td>\n",
       "      <td>0</td>\n",
       "    </tr>\n",
       "    <tr>\n",
       "      <th>691220</th>\n",
       "      <td>691220</td>\n",
       "      <td>Nintendo Ds</td>\n",
       "      <td>2</td>\n",
       "      <td>missing</td>\n",
       "      <td>missing</td>\n",
       "      <td>0</td>\n",
       "      <td>No description yet</td>\n",
       "      <td>0</td>\n",
       "    </tr>\n",
       "    <tr>\n",
       "      <th>691311</th>\n",
       "      <td>691311</td>\n",
       "      <td>Motherhood Maternity Medium T Shirt</td>\n",
       "      <td>3</td>\n",
       "      <td>missing</td>\n",
       "      <td>missing</td>\n",
       "      <td>0</td>\n",
       "      <td>Long sleeve maternity t shirt.</td>\n",
       "      <td>0</td>\n",
       "    </tr>\n",
       "    <tr>\n",
       "      <th>691354</th>\n",
       "      <td>691354</td>\n",
       "      <td>NEXGARD NIB FREE SHIP 24.1-60.0 Pounds</td>\n",
       "      <td>1</td>\n",
       "      <td>missing</td>\n",
       "      <td>Frontline</td>\n",
       "      <td>1</td>\n",
       "      <td>No defects! Brand new</td>\n",
       "      <td>0</td>\n",
       "    </tr>\n",
       "    <tr>\n",
       "      <th>691513</th>\n",
       "      <td>691513</td>\n",
       "      <td>Black Romper (XL)</td>\n",
       "      <td>2</td>\n",
       "      <td>missing</td>\n",
       "      <td>missing</td>\n",
       "      <td>0</td>\n",
       "      <td>- Thin Straps - Cinched Waist - Scalloped Edge...</td>\n",
       "      <td>0</td>\n",
       "    </tr>\n",
       "    <tr>\n",
       "      <th>691661</th>\n",
       "      <td>691661</td>\n",
       "      <td>FREE SHIP burgundy and lace crop top</td>\n",
       "      <td>2</td>\n",
       "      <td>missing</td>\n",
       "      <td>Staring at Stars</td>\n",
       "      <td>1</td>\n",
       "      <td>Super adorable velvet top from urban. Xs, grea...</td>\n",
       "      <td>0</td>\n",
       "    </tr>\n",
       "    <tr>\n",
       "      <th>692179</th>\n",
       "      <td>692179</td>\n",
       "      <td>Small Randy</td>\n",
       "      <td>1</td>\n",
       "      <td>missing</td>\n",
       "      <td>LuLaRoe</td>\n",
       "      <td>0</td>\n",
       "      <td>Nwt</td>\n",
       "      <td>0</td>\n",
       "    </tr>\n",
       "    <tr>\n",
       "      <th>692746</th>\n",
       "      <td>692746</td>\n",
       "      <td>Women's North Face 3 in 1</td>\n",
       "      <td>3</td>\n",
       "      <td>missing</td>\n",
       "      <td>The North Face</td>\n",
       "      <td>0</td>\n",
       "      <td>Has some minor wear. But worth every penny. We...</td>\n",
       "      <td>0</td>\n",
       "    </tr>\n",
       "  </tbody>\n",
       "</table>\n",
       "<p>3058 rows × 8 columns</p>\n",
       "</div>"
      ],
      "text/plain": [
       "        test_id                                      name  item_condition_id  \\\n",
       "217         217                    Lularoe XS Carly Dress                  3   \n",
       "555         555  Victoria's Secret VerySexy Touch Perfume                  2   \n",
       "702         702          Men's All Black Low Top Converse                  3   \n",
       "1110       1110  92 Polly Pocket Jewel Palace/Ice Kingdom                  3   \n",
       "1476       1476               Bundle for Vanessa Wieseler                  1   \n",
       "1586       1586                         Mens Shake Weight                  2   \n",
       "1983       1983                   Knee Sleeves Workout XS                  1   \n",
       "2317       2317                   Honeywell Money Lockbox                  3   \n",
       "2376       2376  #84 Wholesale Lot Workout Clothing 30 Pc                  3   \n",
       "2508       2508                      Hollister sweatpants                  3   \n",
       "2545       2545            Snow White & the Seven Dwarves                  3   \n",
       "2797       2797               Nice Black Purse With Strap                  2   \n",
       "2848       2848                        3 FOR [rm] bundle!                  1   \n",
       "2936       2936                   Juicy Couture 2T outfit                  1   \n",
       "2937       2937                             Nurse Costume                  2   \n",
       "3128       3128                           2 sushi patches                  1   \n",
       "3184       3184             (5) Nike boys t-shirts size 6                  4   \n",
       "3977       3977                      Retro Jordan Grape 5                  3   \n",
       "4083       4083                     Reserved SLIME Bundle                  1   \n",
       "4655       4655                     HOLLISTER JEAN SHORTS                  3   \n",
       "4751       4751                Boyfriend Sweatpants- Thin                  3   \n",
       "4887       4887                        Bundle For 2 Items                  1   \n",
       "6102       6102              Legacy Power Rangers Morpher                  3   \n",
       "6304       6304                  New White Converse Shoes                  2   \n",
       "6926       6926            New L'oréal Mascara & Eyeliner                  1   \n",
       "7004       7004                  Thirty One Bag With Bow!                  3   \n",
       "7016       7016                    Knit Button Boot Cuffs                  1   \n",
       "7301       7301     ON HOLD** Pandora crown silver and cz                  2   \n",
       "7345       7345              Purple and Gold \"A\" Bookmark                  3   \n",
       "7396       7396       Cute olive green hoodie and joggers                  3   \n",
       "...         ...                                       ...                ...   \n",
       "687360   687360                               Small Purse                  3   \n",
       "687829   687829                           For theweirdone                  1   \n",
       "688055   688055                                   Cat Toy                  2   \n",
       "688200   688200                Go Diego Go Club house Set                  3   \n",
       "688347   688347       Lot of 60 Digimon Collectible Cards                  3   \n",
       "688500   688500                             Lululemon Bag                  3   \n",
       "688742   688742              Polk-a-dot Long Sleeve Shirt                  2   \n",
       "688800   688800                               Gun Holster                  3   \n",
       "688835   688835                 Tribal Bikini, Never Worn                  2   \n",
       "689208   689208                            Piercing Hoops                  1   \n",
       "689257   689257       EM Cosmetics Lip Cloud and Eyeliner                  2   \n",
       "689301   689301                 BC Turq Jar for Elizabeth                  3   \n",
       "689532   689532                     Snoopy Fidget Spinner                  1   \n",
       "689569   689569   FREE SHIP! 3 months Bravecto - 44-88lbs                  1   \n",
       "689723   689723           Biosilk 2 pcs for price of one!                  1   \n",
       "689732   689732               Warby Parker \"Ames\" glasses                  1   \n",
       "689870   689870           20. Clean empty lush containers                  1   \n",
       "690179   690179                 Batman and Mega Man Dorbz                  1   \n",
       "690470   690470                        BUBDLE FOR REBECCA                  2   \n",
       "690523   690523          Gillette fusion5 proglide 4 pack                  1   \n",
       "690583   690583                    Gingham Scrub top - XS                  2   \n",
       "690691   690691      OLD NAVY Culotte Shorts. Girls 10/12                  3   \n",
       "690728   690728                            Ultima and BHW                  3   \n",
       "691220   691220                               Nintendo Ds                  2   \n",
       "691311   691311       Motherhood Maternity Medium T Shirt                  3   \n",
       "691354   691354    NEXGARD NIB FREE SHIP 24.1-60.0 Pounds                  1   \n",
       "691513   691513                         Black Romper (XL)                  2   \n",
       "691661   691661      FREE SHIP burgundy and lace crop top                  2   \n",
       "692179   692179                               Small Randy                  1   \n",
       "692746   692746                 Women's North Face 3 in 1                  3   \n",
       "\n",
       "       category_name         brand_name  shipping  \\\n",
       "217          missing            LuLaRoe         0   \n",
       "555          missing  Victoria's Secret         0   \n",
       "702          missing           Converse         0   \n",
       "1110         missing            Mattel®         0   \n",
       "1476         missing              Avent         0   \n",
       "1586         missing            missing         0   \n",
       "1983         missing            missing         0   \n",
       "2317         missing            missing         0   \n",
       "2376         missing            missing         0   \n",
       "2508         missing          Hollister         0   \n",
       "2545         missing       Fisher-Price         0   \n",
       "2797         missing            missing         0   \n",
       "2848         missing            missing         0   \n",
       "2936         missing      Juicy Couture         0   \n",
       "2937         missing            missing         1   \n",
       "3128         missing            missing         1   \n",
       "3184         missing               Nike         0   \n",
       "3977         missing            Jordans         1   \n",
       "4083         missing             Elmers         1   \n",
       "4655         missing            missing         0   \n",
       "4751         missing               PINK         0   \n",
       "4887         missing            missing         0   \n",
       "6102         missing             Bandai         0   \n",
       "6304         missing           Converse         0   \n",
       "6926         missing            L'Oreal         1   \n",
       "7004         missing            missing         0   \n",
       "7016         missing            missing         1   \n",
       "7301         missing            PANDORA         1   \n",
       "7345         missing            missing         0   \n",
       "7396         missing            missing         0   \n",
       "...              ...                ...       ...   \n",
       "687360       missing            missing         0   \n",
       "687829       missing            missing         1   \n",
       "688055       missing            missing         0   \n",
       "688200       missing        Nickelodeon         0   \n",
       "688347       missing            missing         0   \n",
       "688500       missing            missing         0   \n",
       "688742       missing            missing         0   \n",
       "688800       missing            missing         1   \n",
       "688835       missing            missing         1   \n",
       "689208       missing            missing         1   \n",
       "689257       missing            missing         0   \n",
       "689301       missing            missing         0   \n",
       "689532       missing            missing         1   \n",
       "689569       missing            missing         1   \n",
       "689723       missing            missing         1   \n",
       "689732       missing       Warby Parker         1   \n",
       "689870       missing               Lush         0   \n",
       "690179       missing            missing         0   \n",
       "690470       missing            Stamped         1   \n",
       "690523       missing           Gillette         1   \n",
       "690583       missing            missing         0   \n",
       "690691       missing           Old Navy         0   \n",
       "690728       missing            missing         1   \n",
       "691220       missing            missing         0   \n",
       "691311       missing            missing         0   \n",
       "691354       missing          Frontline         1   \n",
       "691513       missing            missing         0   \n",
       "691661       missing   Staring at Stars         1   \n",
       "692179       missing            LuLaRoe         0   \n",
       "692746       missing     The North Face         0   \n",
       "\n",
       "                                         item_description  x  \n",
       "217     XS Lularoe Carly Dress. Has peach tone color s...  0  \n",
       "555                                    No description yet  0  \n",
       "702     Men's Converse, size 11, all black. They have ...  0  \n",
       "1110    Set of 2. In good condition. Both are complete...  0  \n",
       "1476    Avent Bottle Warmer Brand New Open Package [rm...  0  \n",
       "1586                                   No description yet  0  \n",
       "1983                              XS brand new in package  0  \n",
       "2317                                   No description yet  0  \n",
       "2376    Bin Pickers from YT wholesale lot #84. All wom...  0  \n",
       "2508    Juniors small in great condition. Very soft, c...  0  \n",
       "2545    Fisher-Price Little People Snow White and the ...  0  \n",
       "2797    Very nice Forever21 black purse with removable...  0  \n",
       "2848    Brand new! Grey cotton crop top Two different ...  0  \n",
       "2936                    Nwt Juicy Couture girls 2T outfit  0  \n",
       "2937                                           Size small  0  \n",
       "3128                                        fast shipping  0  \n",
       "3184    These have been worn, some of the lettering on...  0  \n",
       "3977    Excellent condition. Only worn a couple times....  0  \n",
       "4083       4 oz. Supernova Slime 4 oz. White Butter Slime  0  \n",
       "4655                                   No description yet  0  \n",
       "4751                                   No description yet  0  \n",
       "4887    Includes nine new sheets size 12*10 Includes a...  0  \n",
       "6102    -full metal morpher including all pieces -take...  0  \n",
       "6304                    • NWOT • Never worn • Super clean  0  \n",
       "6926    Brand New! L'Oréal voluminous black mascara & ...  0  \n",
       "7004    I have a lot of likes on this one so get it wh...  0  \n",
       "7016    3 pairs new in package/never worn 1 pair grey ...  0  \n",
       "7301    Authentic Pandora silver crown charm. May be u...  0  \n",
       "7345    Paid [rm] for this item at Barnes and noble. G...  0  \n",
       "7396             Size XL but fits more like a L Joggers L  0  \n",
       "...                                                   ... ..  \n",
       "687360  This is a super cute little cream and navy blu...  0  \n",
       "687829                                 No description yet  0  \n",
       "688055  Brand new conditions Entertains your cat with ...  0  \n",
       "688200  Go Diego go play set bundle includes everythin...  0  \n",
       "688347  This lot of Digimon collectible cards has 60 c...  0  \n",
       "688500  Lululemon bag. Pre-loved with noticeable stain...  0  \n",
       "688742  The material is thicker than a normal short bu...  0  \n",
       "688800  Good condition. Didn't like the fill but it fi...  0  \n",
       "688835  Brand new tribal bikini size xs,never worn. Ve...  0  \n",
       "689208  Never worn , for septum , nose , lip , cartled...  0  \n",
       "689257  Only used once to swatch. Will come in origina...  0  \n",
       "689301                     BC turquoisr jar for Elizabeth  0  \n",
       "689532               Message for bundles for lower prices  0  \n",
       "689569  Brand new - never opened! Bravecto flea and ti...  0  \n",
       "689723  brand new in plastic sealed silk therapy 5.64 ...  0  \n",
       "689732  Brand new Warby Parker Ames whiskey tortoise g...  0  \n",
       "689870                    20. Clean empty lush containers  0  \n",
       "690179  Im selling all 6 dorbz, the mega man set inclu...  0  \n",
       "690470  1. Sterling pendant w/pearl. 20.00 2. 14k/Ster...  0  \n",
       "690523                             Brand new never opened  0  \n",
       "690583  So cute! Black and white gingham scrub top, si...  0  \n",
       "690691  Cute silky culotte style shorts in very good c...  0  \n",
       "690728                                 No description yet  0  \n",
       "691220                                 No description yet  0  \n",
       "691311                     Long sleeve maternity t shirt.  0  \n",
       "691354                              No defects! Brand new  0  \n",
       "691513  - Thin Straps - Cinched Waist - Scalloped Edge...  0  \n",
       "691661  Super adorable velvet top from urban. Xs, grea...  0  \n",
       "692179                                                Nwt  0  \n",
       "692746  Has some minor wear. But worth every penny. We...  0  \n",
       "\n",
       "[3058 rows x 8 columns]"
      ]
     },
     "execution_count": 204,
     "metadata": {},
     "output_type": "execute_result"
    }
   ],
   "source": [
    "test[test.category_name == 'missing']"
   ]
  },
  {
   "cell_type": "code",
   "execution_count": 131,
   "metadata": {},
   "outputs": [
    {
     "data": {
      "text/plain": [
       "Index(['train_id', 'name', 'item_condition_id', 'category_name', 'brand_name',\n",
       "       'price', 'shipping', 'item_description', 'x'],\n",
       "      dtype='object')"
      ]
     },
     "execution_count": 131,
     "metadata": {},
     "output_type": "execute_result"
    }
   ],
   "source": [
    "train.columns"
   ]
  },
  {
   "cell_type": "code",
   "execution_count": 132,
   "metadata": {},
   "outputs": [
    {
     "data": {
      "text/plain": [
       "Index(['test_id', 'name', 'item_condition_id', 'category_name', 'brand_name',\n",
       "       'shipping', 'item_description', 'x'],\n",
       "      dtype='object')"
      ]
     },
     "execution_count": 132,
     "metadata": {},
     "output_type": "execute_result"
    }
   ],
   "source": [
    "test.columns"
   ]
  },
  {
   "cell_type": "code",
   "execution_count": 133,
   "metadata": {
    "hidden": true
   },
   "outputs": [],
   "source": [
    "dep = 'price'\n",
    "train = train[cat_vars+contin_vars+[dep]].copy()"
   ]
  },
  {
   "cell_type": "code",
   "execution_count": 134,
   "metadata": {},
   "outputs": [
    {
     "data": {
      "text/html": [
       "<div>\n",
       "<style scoped>\n",
       "    .dataframe tbody tr th:only-of-type {\n",
       "        vertical-align: middle;\n",
       "    }\n",
       "\n",
       "    .dataframe tbody tr th {\n",
       "        vertical-align: top;\n",
       "    }\n",
       "\n",
       "    .dataframe thead th {\n",
       "        text-align: right;\n",
       "    }\n",
       "</style>\n",
       "<table border=\"1\" class=\"dataframe\">\n",
       "  <thead>\n",
       "    <tr style=\"text-align: right;\">\n",
       "      <th></th>\n",
       "      <th>item_condition_id</th>\n",
       "      <th>category_name</th>\n",
       "      <th>brand_name</th>\n",
       "      <th>shipping</th>\n",
       "      <th>x</th>\n",
       "      <th>price</th>\n",
       "    </tr>\n",
       "  </thead>\n",
       "  <tbody>\n",
       "    <tr>\n",
       "      <th>0</th>\n",
       "      <td>3</td>\n",
       "      <td>Men/Tops/T-shirts</td>\n",
       "      <td>missing</td>\n",
       "      <td>1</td>\n",
       "      <td>0</td>\n",
       "      <td>10.0</td>\n",
       "    </tr>\n",
       "    <tr>\n",
       "      <th>1</th>\n",
       "      <td>3</td>\n",
       "      <td>Electronics/Computers &amp; Tablets/Components &amp; P...</td>\n",
       "      <td>Razer</td>\n",
       "      <td>0</td>\n",
       "      <td>0</td>\n",
       "      <td>52.0</td>\n",
       "    </tr>\n",
       "    <tr>\n",
       "      <th>2</th>\n",
       "      <td>1</td>\n",
       "      <td>Women/Tops &amp; Blouses/Blouse</td>\n",
       "      <td>Target</td>\n",
       "      <td>1</td>\n",
       "      <td>0</td>\n",
       "      <td>10.0</td>\n",
       "    </tr>\n",
       "    <tr>\n",
       "      <th>3</th>\n",
       "      <td>1</td>\n",
       "      <td>Home/Home Décor/Home Décor Accents</td>\n",
       "      <td>missing</td>\n",
       "      <td>1</td>\n",
       "      <td>0</td>\n",
       "      <td>35.0</td>\n",
       "    </tr>\n",
       "    <tr>\n",
       "      <th>4</th>\n",
       "      <td>1</td>\n",
       "      <td>Women/Jewelry/Necklaces</td>\n",
       "      <td>missing</td>\n",
       "      <td>0</td>\n",
       "      <td>0</td>\n",
       "      <td>44.0</td>\n",
       "    </tr>\n",
       "  </tbody>\n",
       "</table>\n",
       "</div>"
      ],
      "text/plain": [
       "   item_condition_id                                      category_name  \\\n",
       "0                  3                                  Men/Tops/T-shirts   \n",
       "1                  3  Electronics/Computers & Tablets/Components & P...   \n",
       "2                  1                        Women/Tops & Blouses/Blouse   \n",
       "3                  1                 Home/Home Décor/Home Décor Accents   \n",
       "4                  1                            Women/Jewelry/Necklaces   \n",
       "\n",
       "  brand_name  shipping  x  price  \n",
       "0    missing         1  0   10.0  \n",
       "1      Razer         0  0   52.0  \n",
       "2     Target         1  0   10.0  \n",
       "3    missing         1  0   35.0  \n",
       "4    missing         0  0   44.0  "
      ]
     },
     "execution_count": 134,
     "metadata": {},
     "output_type": "execute_result"
    }
   ],
   "source": [
    "train.head()"
   ]
  },
  {
   "cell_type": "code",
   "execution_count": 135,
   "metadata": {},
   "outputs": [
    {
     "data": {
      "text/plain": [
       "Index(['test_id', 'name', 'item_condition_id', 'category_name', 'brand_name',\n",
       "       'shipping', 'item_description', 'x'],\n",
       "      dtype='object')"
      ]
     },
     "execution_count": 135,
     "metadata": {},
     "output_type": "execute_result"
    }
   ],
   "source": [
    "test.columns"
   ]
  },
  {
   "cell_type": "code",
   "execution_count": 136,
   "metadata": {
    "hidden": true
   },
   "outputs": [],
   "source": [
    "test[dep] = 0\n",
    "test = test[cat_vars+contin_vars+[dep, 'test_id']].copy()\n",
    "test.rename(columns={'test_id': 'Id'}, inplace=True)"
   ]
  },
  {
   "cell_type": "code",
   "execution_count": 137,
   "metadata": {
    "hidden": true
   },
   "outputs": [],
   "source": [
    "for v in cat_vars: train[v] = train[v].astype('category').cat.as_ordered()"
   ]
  },
  {
   "cell_type": "code",
   "execution_count": 138,
   "metadata": {
    "hidden": true
   },
   "outputs": [],
   "source": [
    "apply_cats(test, train)"
   ]
  },
  {
   "cell_type": "code",
   "execution_count": 139,
   "metadata": {},
   "outputs": [
    {
     "name": "stdout",
     "output_type": "stream",
     "text": [
      "<class 'pandas.core.frame.DataFrame'>\n",
      "RangeIndex: 1482535 entries, 0 to 1482534\n",
      "Data columns (total 6 columns):\n",
      "item_condition_id    1482535 non-null category\n",
      "category_name        1482535 non-null category\n",
      "brand_name           1482535 non-null category\n",
      "shipping             1482535 non-null category\n",
      "x                    1482535 non-null int64\n",
      "price                1482535 non-null float32\n",
      "dtypes: category(4), float32(1), int64(1)\n",
      "memory usage: 25.7 MB\n"
     ]
    }
   ],
   "source": [
    "train.info()"
   ]
  },
  {
   "cell_type": "code",
   "execution_count": 140,
   "metadata": {},
   "outputs": [
    {
     "name": "stdout",
     "output_type": "stream",
     "text": [
      "<class 'pandas.core.frame.DataFrame'>\n",
      "RangeIndex: 693359 entries, 0 to 693358\n",
      "Data columns (total 7 columns):\n",
      "item_condition_id    693359 non-null category\n",
      "category_name        693329 non-null category\n",
      "brand_name           692771 non-null category\n",
      "shipping             693359 non-null category\n",
      "x                    693359 non-null int64\n",
      "price                693359 non-null int64\n",
      "Id                   693359 non-null int64\n",
      "dtypes: category(4), int64(3)\n",
      "memory usage: 20.1 MB\n"
     ]
    }
   ],
   "source": [
    "test.info()"
   ]
  },
  {
   "cell_type": "code",
   "execution_count": 141,
   "metadata": {},
   "outputs": [
    {
     "data": {
      "text/plain": [
       "RangeIndex(start=0, stop=693359, step=1)"
      ]
     },
     "execution_count": 141,
     "metadata": {},
     "output_type": "execute_result"
    }
   ],
   "source": [
    "test.index"
   ]
  },
  {
   "cell_type": "code",
   "execution_count": 142,
   "metadata": {
    "hidden": true
   },
   "outputs": [],
   "source": [
    "for v in contin_vars:\n",
    "    train[v] = train[v].fillna(0).astype('float32')\n",
    "    test[v] = test[v].fillna(0).astype('float32')"
   ]
  },
  {
   "cell_type": "markdown",
   "metadata": {
    "hidden": true
   },
   "source": [
    "We're going to run on a sample."
   ]
  },
  {
   "cell_type": "code",
   "execution_count": 143,
   "metadata": {
    "hidden": true
   },
   "outputs": [],
   "source": [
    "# val_idx = get_cv_idxs(n, val_pct=.1)\n",
    "# train_samp = train.iloc[val_idx]\n",
    "# samp_size = len(train_samp); samp_size"
   ]
  },
  {
   "cell_type": "code",
   "execution_count": 144,
   "metadata": {},
   "outputs": [
    {
     "name": "stdout",
     "output_type": "stream",
     "text": [
      "<class 'pandas.core.frame.DataFrame'>\n",
      "RangeIndex: 1482535 entries, 0 to 1482534\n",
      "Data columns (total 6 columns):\n",
      "item_condition_id    1482535 non-null category\n",
      "category_name        1476208 non-null category\n",
      "brand_name           849853 non-null category\n",
      "shipping             1482535 non-null category\n",
      "x                    1482535 non-null float32\n",
      "price                1482535 non-null float32\n",
      "dtypes: category(4), float32(2)\n",
      "memory usage: 20.0 MB\n"
     ]
    }
   ],
   "source": [
    "train_samp.info()"
   ]
  },
  {
   "cell_type": "markdown",
   "metadata": {
    "hidden": true
   },
   "source": [
    "To run on the full dataset, use this instead:"
   ]
  },
  {
   "cell_type": "code",
   "execution_count": 145,
   "metadata": {
    "hidden": true
   },
   "outputs": [],
   "source": [
    "samp_size = n\n",
    "train_samp = train"
   ]
  },
  {
   "cell_type": "markdown",
   "metadata": {
    "hidden": true
   },
   "source": [
    "We can now process our data..."
   ]
  },
  {
   "cell_type": "code",
   "execution_count": 146,
   "metadata": {
    "hidden": true
   },
   "outputs": [
    {
     "data": {
      "text/html": [
       "<div>\n",
       "<style scoped>\n",
       "    .dataframe tbody tr th:only-of-type {\n",
       "        vertical-align: middle;\n",
       "    }\n",
       "\n",
       "    .dataframe tbody tr th {\n",
       "        vertical-align: top;\n",
       "    }\n",
       "\n",
       "    .dataframe thead th {\n",
       "        text-align: right;\n",
       "    }\n",
       "</style>\n",
       "<table border=\"1\" class=\"dataframe\">\n",
       "  <thead>\n",
       "    <tr style=\"text-align: right;\">\n",
       "      <th></th>\n",
       "      <th>item_condition_id</th>\n",
       "      <th>category_name</th>\n",
       "      <th>brand_name</th>\n",
       "      <th>shipping</th>\n",
       "      <th>x</th>\n",
       "      <th>price</th>\n",
       "    </tr>\n",
       "  </thead>\n",
       "  <tbody>\n",
       "    <tr>\n",
       "      <th>0</th>\n",
       "      <td>3</td>\n",
       "      <td>Men/Tops/T-shirts</td>\n",
       "      <td>missing</td>\n",
       "      <td>1</td>\n",
       "      <td>0.0</td>\n",
       "      <td>10.0</td>\n",
       "    </tr>\n",
       "    <tr>\n",
       "      <th>1</th>\n",
       "      <td>3</td>\n",
       "      <td>Electronics/Computers &amp; Tablets/Components &amp; P...</td>\n",
       "      <td>Razer</td>\n",
       "      <td>0</td>\n",
       "      <td>0.0</td>\n",
       "      <td>52.0</td>\n",
       "    </tr>\n",
       "  </tbody>\n",
       "</table>\n",
       "</div>"
      ],
      "text/plain": [
       "  item_condition_id                                      category_name  \\\n",
       "0                 3                                  Men/Tops/T-shirts   \n",
       "1                 3  Electronics/Computers & Tablets/Components & P...   \n",
       "\n",
       "  brand_name shipping    x  price  \n",
       "0    missing        1  0.0   10.0  \n",
       "1      Razer        0  0.0   52.0  "
      ]
     },
     "execution_count": 146,
     "metadata": {},
     "output_type": "execute_result"
    }
   ],
   "source": [
    "train_samp.head(2)"
   ]
  },
  {
   "cell_type": "code",
   "execution_count": 147,
   "metadata": {},
   "outputs": [
    {
     "name": "stdout",
     "output_type": "stream",
     "text": [
      "<class 'pandas.core.frame.DataFrame'>\n",
      "RangeIndex: 1482535 entries, 0 to 1482534\n",
      "Data columns (total 6 columns):\n",
      "item_condition_id    1482535 non-null category\n",
      "category_name        1482535 non-null category\n",
      "brand_name           1482535 non-null category\n",
      "shipping             1482535 non-null category\n",
      "x                    1482535 non-null float32\n",
      "price                1482535 non-null float32\n",
      "dtypes: category(4), float32(2)\n",
      "memory usage: 20.0 MB\n"
     ]
    }
   ],
   "source": [
    "train_samp.info()"
   ]
  },
  {
   "cell_type": "code",
   "execution_count": 148,
   "metadata": {},
   "outputs": [],
   "source": [
    "# train_samp.reset_index(inplace=True, drop=True)"
   ]
  },
  {
   "cell_type": "code",
   "execution_count": 149,
   "metadata": {},
   "outputs": [
    {
     "name": "stdout",
     "output_type": "stream",
     "text": [
      "<class 'pandas.core.frame.DataFrame'>\n",
      "RangeIndex: 1482535 entries, 0 to 1482534\n",
      "Data columns (total 6 columns):\n",
      "item_condition_id    1482535 non-null category\n",
      "category_name        1482535 non-null category\n",
      "brand_name           1482535 non-null category\n",
      "shipping             1482535 non-null category\n",
      "x                    1482535 non-null float32\n",
      "price                1482535 non-null float32\n",
      "dtypes: category(4), float32(2)\n",
      "memory usage: 20.0 MB\n"
     ]
    }
   ],
   "source": [
    "train_samp.info()"
   ]
  },
  {
   "cell_type": "code",
   "execution_count": 150,
   "metadata": {},
   "outputs": [
    {
     "data": {
      "text/html": [
       "<div>\n",
       "<style scoped>\n",
       "    .dataframe tbody tr th:only-of-type {\n",
       "        vertical-align: middle;\n",
       "    }\n",
       "\n",
       "    .dataframe tbody tr th {\n",
       "        vertical-align: top;\n",
       "    }\n",
       "\n",
       "    .dataframe thead th {\n",
       "        text-align: right;\n",
       "    }\n",
       "</style>\n",
       "<table border=\"1\" class=\"dataframe\">\n",
       "  <thead>\n",
       "    <tr style=\"text-align: right;\">\n",
       "      <th></th>\n",
       "      <th>item_condition_id</th>\n",
       "      <th>category_name</th>\n",
       "      <th>brand_name</th>\n",
       "      <th>shipping</th>\n",
       "      <th>x</th>\n",
       "      <th>price</th>\n",
       "    </tr>\n",
       "  </thead>\n",
       "  <tbody>\n",
       "    <tr>\n",
       "      <th>0</th>\n",
       "      <td>3</td>\n",
       "      <td>Men/Tops/T-shirts</td>\n",
       "      <td>missing</td>\n",
       "      <td>1</td>\n",
       "      <td>0.0</td>\n",
       "      <td>10.0</td>\n",
       "    </tr>\n",
       "    <tr>\n",
       "      <th>1</th>\n",
       "      <td>3</td>\n",
       "      <td>Electronics/Computers &amp; Tablets/Components &amp; P...</td>\n",
       "      <td>Razer</td>\n",
       "      <td>0</td>\n",
       "      <td>0.0</td>\n",
       "      <td>52.0</td>\n",
       "    </tr>\n",
       "  </tbody>\n",
       "</table>\n",
       "</div>"
      ],
      "text/plain": [
       "  item_condition_id                                      category_name  \\\n",
       "0                 3                                  Men/Tops/T-shirts   \n",
       "1                 3  Electronics/Computers & Tablets/Components & P...   \n",
       "\n",
       "  brand_name shipping    x  price  \n",
       "0    missing        1  0.0   10.0  \n",
       "1      Razer        0  0.0   52.0  "
      ]
     },
     "execution_count": 150,
     "metadata": {},
     "output_type": "execute_result"
    }
   ],
   "source": [
    "train_samp.head(2)"
   ]
  },
  {
   "cell_type": "code",
   "execution_count": 151,
   "metadata": {
    "hidden": true
   },
   "outputs": [
    {
     "name": "stderr",
     "output_type": "stream",
     "text": [
      "/home/ubuntu/anaconda3/envs/fastai/lib/python3.6/site-packages/ipykernel/__main__.py:4: RuntimeWarning: divide by zero encountered in log\n"
     ]
    }
   ],
   "source": [
    "df, y, nas, mapper = proc_df(train_samp,\n",
    "                             y_fld = 'price',\n",
    "                             do_scale=True)\n",
    "yl = np.log(y)"
   ]
  },
  {
   "cell_type": "code",
   "execution_count": 152,
   "metadata": {},
   "outputs": [
    {
     "data": {
      "text/plain": [
       "array([10., 52., 10., 35., 44., 59., 64.,  6., 19.,  8.,  8., 34., 16.,  4., 43., 11.,  6., 29., 25., 27.,\n",
       "       ..., 20., 15., 11., 10.,  9., 18.,  9.,  8.,  8., 26.,  7., 12., 10., 18., 34., 20., 14., 12., 45.,\n",
       "       22.], dtype=float32)"
      ]
     },
     "execution_count": 152,
     "metadata": {},
     "output_type": "execute_result"
    }
   ],
   "source": [
    "y"
   ]
  },
  {
   "cell_type": "code",
   "execution_count": 153,
   "metadata": {},
   "outputs": [
    {
     "data": {
      "text/html": [
       "<div>\n",
       "<style scoped>\n",
       "    .dataframe tbody tr th:only-of-type {\n",
       "        vertical-align: middle;\n",
       "    }\n",
       "\n",
       "    .dataframe tbody tr th {\n",
       "        vertical-align: top;\n",
       "    }\n",
       "\n",
       "    .dataframe thead th {\n",
       "        text-align: right;\n",
       "    }\n",
       "</style>\n",
       "<table border=\"1\" class=\"dataframe\">\n",
       "  <thead>\n",
       "    <tr style=\"text-align: right;\">\n",
       "      <th></th>\n",
       "      <th>item_condition_id</th>\n",
       "      <th>category_name</th>\n",
       "      <th>brand_name</th>\n",
       "      <th>shipping</th>\n",
       "      <th>x</th>\n",
       "    </tr>\n",
       "  </thead>\n",
       "  <tbody>\n",
       "    <tr>\n",
       "      <th>0</th>\n",
       "      <td>3</td>\n",
       "      <td>809</td>\n",
       "      <td>4787</td>\n",
       "      <td>2</td>\n",
       "      <td>0.0</td>\n",
       "    </tr>\n",
       "    <tr>\n",
       "      <th>1</th>\n",
       "      <td>3</td>\n",
       "      <td>87</td>\n",
       "      <td>3558</td>\n",
       "      <td>1</td>\n",
       "      <td>0.0</td>\n",
       "    </tr>\n",
       "    <tr>\n",
       "      <th>2</th>\n",
       "      <td>1</td>\n",
       "      <td>1255</td>\n",
       "      <td>4181</td>\n",
       "      <td>2</td>\n",
       "      <td>0.0</td>\n",
       "    </tr>\n",
       "    <tr>\n",
       "      <th>3</th>\n",
       "      <td>1</td>\n",
       "      <td>486</td>\n",
       "      <td>4787</td>\n",
       "      <td>2</td>\n",
       "      <td>0.0</td>\n",
       "    </tr>\n",
       "    <tr>\n",
       "      <th>4</th>\n",
       "      <td>1</td>\n",
       "      <td>1182</td>\n",
       "      <td>4787</td>\n",
       "      <td>1</td>\n",
       "      <td>0.0</td>\n",
       "    </tr>\n",
       "  </tbody>\n",
       "</table>\n",
       "</div>"
      ],
      "text/plain": [
       "   item_condition_id  category_name  brand_name  shipping    x\n",
       "0                  3            809        4787         2  0.0\n",
       "1                  3             87        3558         1  0.0\n",
       "2                  1           1255        4181         2  0.0\n",
       "3                  1            486        4787         2  0.0\n",
       "4                  1           1182        4787         1  0.0"
      ]
     },
     "execution_count": 153,
     "metadata": {},
     "output_type": "execute_result"
    }
   ],
   "source": [
    "df.head()"
   ]
  },
  {
   "cell_type": "code",
   "execution_count": 154,
   "metadata": {},
   "outputs": [
    {
     "data": {
      "text/plain": [
       "Index(['item_condition_id', 'category_name', 'brand_name', 'shipping', 'x',\n",
       "       'price', 'Id'],\n",
       "      dtype='object')"
      ]
     },
     "execution_count": 154,
     "metadata": {},
     "output_type": "execute_result"
    }
   ],
   "source": [
    "test.columns"
   ]
  },
  {
   "cell_type": "code",
   "execution_count": 155,
   "metadata": {},
   "outputs": [],
   "source": [
    "# test.reset_index(inplace=True, drop=True)"
   ]
  },
  {
   "cell_type": "code",
   "execution_count": 156,
   "metadata": {},
   "outputs": [
    {
     "name": "stdout",
     "output_type": "stream",
     "text": [
      "<class 'pandas.core.frame.DataFrame'>\n",
      "RangeIndex: 693359 entries, 0 to 693358\n",
      "Data columns (total 7 columns):\n",
      "item_condition_id    693359 non-null category\n",
      "category_name        693329 non-null category\n",
      "brand_name           692771 non-null category\n",
      "shipping             693359 non-null category\n",
      "x                    693359 non-null float32\n",
      "price                693359 non-null int64\n",
      "Id                   693359 non-null int64\n",
      "dtypes: category(4), float32(1), int64(2)\n",
      "memory usage: 17.4 MB\n"
     ]
    }
   ],
   "source": [
    "test.info()"
   ]
  },
  {
   "cell_type": "code",
   "execution_count": 157,
   "metadata": {
    "hidden": true
   },
   "outputs": [],
   "source": [
    "df_test, _, nas, mapper = proc_df(test, 'price',\n",
    "                                  do_scale=True,\n",
    "                                  skip_flds=['Id'],\n",
    "                                  mapper=mapper,\n",
    "                                  na_dict=nas)"
   ]
  },
  {
   "cell_type": "code",
   "execution_count": 158,
   "metadata": {
    "hidden": true
   },
   "outputs": [
    {
     "data": {
      "text/html": [
       "<div>\n",
       "<style scoped>\n",
       "    .dataframe tbody tr th:only-of-type {\n",
       "        vertical-align: middle;\n",
       "    }\n",
       "\n",
       "    .dataframe tbody tr th {\n",
       "        vertical-align: top;\n",
       "    }\n",
       "\n",
       "    .dataframe thead th {\n",
       "        text-align: right;\n",
       "    }\n",
       "</style>\n",
       "<table border=\"1\" class=\"dataframe\">\n",
       "  <thead>\n",
       "    <tr style=\"text-align: right;\">\n",
       "      <th></th>\n",
       "      <th>item_condition_id</th>\n",
       "      <th>category_name</th>\n",
       "      <th>brand_name</th>\n",
       "      <th>shipping</th>\n",
       "      <th>x</th>\n",
       "    </tr>\n",
       "  </thead>\n",
       "  <tbody>\n",
       "    <tr>\n",
       "      <th>0</th>\n",
       "      <td>3</td>\n",
       "      <td>809</td>\n",
       "      <td>4787</td>\n",
       "      <td>2</td>\n",
       "      <td>0.0</td>\n",
       "    </tr>\n",
       "    <tr>\n",
       "      <th>1</th>\n",
       "      <td>3</td>\n",
       "      <td>87</td>\n",
       "      <td>3558</td>\n",
       "      <td>1</td>\n",
       "      <td>0.0</td>\n",
       "    </tr>\n",
       "  </tbody>\n",
       "</table>\n",
       "</div>"
      ],
      "text/plain": [
       "   item_condition_id  category_name  brand_name  shipping    x\n",
       "0                  3            809        4787         2  0.0\n",
       "1                  3             87        3558         1  0.0"
      ]
     },
     "execution_count": 158,
     "metadata": {},
     "output_type": "execute_result"
    }
   ],
   "source": [
    "df.head(2)"
   ]
  },
  {
   "cell_type": "markdown",
   "metadata": {
    "hidden": true
   },
   "source": [
    "In time series data, cross-validation is not random. Instead, our holdout data is generally the most recent data, as it would be in real application. This issue is discussed in detail in [this post](http://www.fast.ai/2017/11/13/validation-sets/) on our web site.\n",
    "\n",
    "One approach is to take the last 25% of rows (sorted by date) as our validation set."
   ]
  },
  {
   "cell_type": "code",
   "execution_count": 159,
   "metadata": {},
   "outputs": [],
   "source": [
    "val_idx = get_cv_idxs(n, val_pct=.1)\n",
    "# train_samp = train.iloc[val_idx]\n",
    "# samp_size = len(train_samp); samp_size"
   ]
  },
  {
   "cell_type": "code",
   "execution_count": 160,
   "metadata": {},
   "outputs": [
    {
     "data": {
      "text/plain": [
       "array([ 777341, 1463629,  350669,  310222,  759257,  288846, 1178450,  726296,  840510, 1473033, 1170796,\n",
       "        506473, 1134656,  587885,   93928,  260369,   96202,  486334, 1437987, 1343222, ..., 1369016,\n",
       "        118242,  401285, 1190911, 1238336,    5388,   95107,  416536,  192194, 1138567,  437357, 1075525,\n",
       "       1149795,  378840, 1329473, 1472679, 1026985,  121050,  741085,  647202])"
      ]
     },
     "execution_count": 160,
     "metadata": {},
     "output_type": "execute_result"
    }
   ],
   "source": [
    "val_idx"
   ]
  },
  {
   "cell_type": "code",
   "execution_count": 161,
   "metadata": {},
   "outputs": [
    {
     "data": {
      "text/plain": [
       "array([10., 52., 10., 35., 44., 59., 64.,  6., 19.,  8.,  8., 34., 16.,  4., 43., 11.,  6., 29., 25., 27.,\n",
       "       ..., 20., 15., 11., 10.,  9., 18.,  9.,  8.,  8., 26.,  7., 12., 10., 18., 34., 20., 14., 12., 45.,\n",
       "       22.], dtype=float32)"
      ]
     },
     "execution_count": 161,
     "metadata": {},
     "output_type": "execute_result"
    }
   ],
   "source": [
    "y"
   ]
  },
  {
   "cell_type": "code",
   "execution_count": 162,
   "metadata": {
    "hidden": true
   },
   "outputs": [],
   "source": [
    "# train_ratio = 0.75\n",
    "# # train_ratio = 0.9\n",
    "# train_size = int(samp_size * train_ratio); train_size\n",
    "# val_idx = list(range(train_size, len(df)))"
   ]
  },
  {
   "cell_type": "markdown",
   "metadata": {
    "hidden": true
   },
   "source": [
    "An even better option for picking a validation set is using the exact same length of time period as the test set uses - this is implemented here:"
   ]
  },
  {
   "cell_type": "code",
   "execution_count": 163,
   "metadata": {
    "hidden": true
   },
   "outputs": [],
   "source": [
    "# val_idx = np.flatnonzero(\n",
    "#     (df.index<=datetime.datetime(2014,9,17)) & (df.index>=datetime.datetime(2014,8,1)))"
   ]
  },
  {
   "cell_type": "code",
   "execution_count": 164,
   "metadata": {
    "hidden": true
   },
   "outputs": [],
   "source": [
    "# val_idx = get_cv_idxs(samp_size)"
   ]
  },
  {
   "cell_type": "markdown",
   "metadata": {},
   "source": [
    "## DL"
   ]
  },
  {
   "cell_type": "markdown",
   "metadata": {},
   "source": [
    "We're ready to put together our models.\n",
    "\n",
    "Root-mean-squared percent error is the metric Kaggle used for this competition."
   ]
  },
  {
   "cell_type": "code",
   "execution_count": 165,
   "metadata": {},
   "outputs": [],
   "source": [
    "def inv_y(a): return np.exp(a)\n",
    "\n",
    "def exp_rmspe(y_pred, targ):\n",
    "    targ = inv_y(targ)\n",
    "    pct_var = (targ - inv_y(y_pred))/targ\n",
    "    return math.sqrt((pct_var**2).mean())\n",
    "\n",
    "def rmsle(y_pred, targ): \n",
    "    return np.sqrt(np.mean((np.log1p(y_pred) - np.log1p(targ))**2))\n",
    "\n",
    "\n",
    "max_log_y = np.max(yl)\n",
    "y_range = (0, max_log_y*1.2)"
   ]
  },
  {
   "cell_type": "code",
   "execution_count": 166,
   "metadata": {},
   "outputs": [
    {
     "data": {
      "text/plain": [
       "1482535"
      ]
     },
     "execution_count": 166,
     "metadata": {},
     "output_type": "execute_result"
    }
   ],
   "source": [
    "n"
   ]
  },
  {
   "cell_type": "code",
   "execution_count": 167,
   "metadata": {},
   "outputs": [
    {
     "data": {
      "text/html": [
       "<div>\n",
       "<style scoped>\n",
       "    .dataframe tbody tr th:only-of-type {\n",
       "        vertical-align: middle;\n",
       "    }\n",
       "\n",
       "    .dataframe tbody tr th {\n",
       "        vertical-align: top;\n",
       "    }\n",
       "\n",
       "    .dataframe thead th {\n",
       "        text-align: right;\n",
       "    }\n",
       "</style>\n",
       "<table border=\"1\" class=\"dataframe\">\n",
       "  <thead>\n",
       "    <tr style=\"text-align: right;\">\n",
       "      <th></th>\n",
       "      <th>item_condition_id</th>\n",
       "      <th>category_name</th>\n",
       "      <th>brand_name</th>\n",
       "      <th>shipping</th>\n",
       "      <th>x</th>\n",
       "    </tr>\n",
       "  </thead>\n",
       "  <tbody>\n",
       "    <tr>\n",
       "      <th>1482534</th>\n",
       "      <td>1</td>\n",
       "      <td>1277</td>\n",
       "      <td>4787</td>\n",
       "      <td>1</td>\n",
       "      <td>0.0</td>\n",
       "    </tr>\n",
       "  </tbody>\n",
       "</table>\n",
       "</div>"
      ],
      "text/plain": [
       "         item_condition_id  category_name  brand_name  shipping    x\n",
       "1482534                  1           1277        4787         1  0.0"
      ]
     },
     "execution_count": 167,
     "metadata": {},
     "output_type": "execute_result"
    }
   ],
   "source": [
    "df.iloc[ -1:]"
   ]
  },
  {
   "cell_type": "markdown",
   "metadata": {},
   "source": [
    "We can create a ModelData object directly from out data frame."
   ]
  },
  {
   "cell_type": "code",
   "execution_count": 168,
   "metadata": {},
   "outputs": [
    {
     "data": {
      "text/html": [
       "<div>\n",
       "<style scoped>\n",
       "    .dataframe tbody tr th:only-of-type {\n",
       "        vertical-align: middle;\n",
       "    }\n",
       "\n",
       "    .dataframe tbody tr th {\n",
       "        vertical-align: top;\n",
       "    }\n",
       "\n",
       "    .dataframe thead th {\n",
       "        text-align: right;\n",
       "    }\n",
       "</style>\n",
       "<table border=\"1\" class=\"dataframe\">\n",
       "  <thead>\n",
       "    <tr style=\"text-align: right;\">\n",
       "      <th></th>\n",
       "      <th>item_condition_id</th>\n",
       "      <th>category_name</th>\n",
       "      <th>brand_name</th>\n",
       "      <th>shipping</th>\n",
       "      <th>x</th>\n",
       "    </tr>\n",
       "  </thead>\n",
       "  <tbody>\n",
       "    <tr>\n",
       "      <th>0</th>\n",
       "      <td>1</td>\n",
       "      <td>1183</td>\n",
       "      <td>4787</td>\n",
       "      <td>2</td>\n",
       "      <td>0.0</td>\n",
       "    </tr>\n",
       "    <tr>\n",
       "      <th>1</th>\n",
       "      <td>1</td>\n",
       "      <td>878</td>\n",
       "      <td>4787</td>\n",
       "      <td>2</td>\n",
       "      <td>0.0</td>\n",
       "    </tr>\n",
       "    <tr>\n",
       "      <th>2</th>\n",
       "      <td>1</td>\n",
       "      <td>978</td>\n",
       "      <td>1010</td>\n",
       "      <td>2</td>\n",
       "      <td>0.0</td>\n",
       "    </tr>\n",
       "    <tr>\n",
       "      <th>3</th>\n",
       "      <td>2</td>\n",
       "      <td>1234</td>\n",
       "      <td>4787</td>\n",
       "      <td>1</td>\n",
       "      <td>0.0</td>\n",
       "    </tr>\n",
       "    <tr>\n",
       "      <th>4</th>\n",
       "      <td>3</td>\n",
       "      <td>840</td>\n",
       "      <td>4787</td>\n",
       "      <td>2</td>\n",
       "      <td>0.0</td>\n",
       "    </tr>\n",
       "  </tbody>\n",
       "</table>\n",
       "</div>"
      ],
      "text/plain": [
       "   item_condition_id  category_name  brand_name  shipping    x\n",
       "0                  1           1183        4787         2  0.0\n",
       "1                  1            878        4787         2  0.0\n",
       "2                  1            978        1010         2  0.0\n",
       "3                  2           1234        4787         1  0.0\n",
       "4                  3            840        4787         2  0.0"
      ]
     },
     "execution_count": 168,
     "metadata": {},
     "output_type": "execute_result"
    }
   ],
   "source": [
    "df_test.head()"
   ]
  },
  {
   "cell_type": "code",
   "execution_count": 169,
   "metadata": {},
   "outputs": [
    {
     "data": {
      "text/plain": [
       "['item_condition_id', 'category_name', 'brand_name', 'shipping']"
      ]
     },
     "execution_count": 169,
     "metadata": {},
     "output_type": "execute_result"
    }
   ],
   "source": [
    "cat_vars"
   ]
  },
  {
   "cell_type": "code",
   "execution_count": 170,
   "metadata": {},
   "outputs": [
    {
     "data": {
      "text/plain": [
       "array([ 777341, 1463629,  350669,  310222,  759257,  288846, 1178450,  726296,  840510, 1473033, 1170796,\n",
       "        506473, 1134656,  587885,   93928,  260369,   96202,  486334, 1437987, 1343222, ..., 1369016,\n",
       "        118242,  401285, 1190911, 1238336,    5388,   95107,  416536,  192194, 1138567,  437357, 1075525,\n",
       "       1149795,  378840, 1329473, 1472679, 1026985,  121050,  741085,  647202])"
      ]
     },
     "execution_count": 170,
     "metadata": {},
     "output_type": "execute_result"
    }
   ],
   "source": [
    "val_idx"
   ]
  },
  {
   "cell_type": "code",
   "execution_count": 171,
   "metadata": {},
   "outputs": [
    {
     "data": {
      "text/html": [
       "<div>\n",
       "<style scoped>\n",
       "    .dataframe tbody tr th:only-of-type {\n",
       "        vertical-align: middle;\n",
       "    }\n",
       "\n",
       "    .dataframe tbody tr th {\n",
       "        vertical-align: top;\n",
       "    }\n",
       "\n",
       "    .dataframe thead th {\n",
       "        text-align: right;\n",
       "    }\n",
       "</style>\n",
       "<table border=\"1\" class=\"dataframe\">\n",
       "  <thead>\n",
       "    <tr style=\"text-align: right;\">\n",
       "      <th></th>\n",
       "      <th>item_condition_id</th>\n",
       "      <th>category_name</th>\n",
       "      <th>brand_name</th>\n",
       "      <th>shipping</th>\n",
       "      <th>x</th>\n",
       "    </tr>\n",
       "  </thead>\n",
       "  <tbody>\n",
       "    <tr>\n",
       "      <th>0</th>\n",
       "      <td>3</td>\n",
       "      <td>809</td>\n",
       "      <td>4787</td>\n",
       "      <td>2</td>\n",
       "      <td>0.0</td>\n",
       "    </tr>\n",
       "    <tr>\n",
       "      <th>1</th>\n",
       "      <td>3</td>\n",
       "      <td>87</td>\n",
       "      <td>3558</td>\n",
       "      <td>1</td>\n",
       "      <td>0.0</td>\n",
       "    </tr>\n",
       "    <tr>\n",
       "      <th>2</th>\n",
       "      <td>1</td>\n",
       "      <td>1255</td>\n",
       "      <td>4181</td>\n",
       "      <td>2</td>\n",
       "      <td>0.0</td>\n",
       "    </tr>\n",
       "    <tr>\n",
       "      <th>3</th>\n",
       "      <td>1</td>\n",
       "      <td>486</td>\n",
       "      <td>4787</td>\n",
       "      <td>2</td>\n",
       "      <td>0.0</td>\n",
       "    </tr>\n",
       "    <tr>\n",
       "      <th>4</th>\n",
       "      <td>1</td>\n",
       "      <td>1182</td>\n",
       "      <td>4787</td>\n",
       "      <td>1</td>\n",
       "      <td>0.0</td>\n",
       "    </tr>\n",
       "  </tbody>\n",
       "</table>\n",
       "</div>"
      ],
      "text/plain": [
       "   item_condition_id  category_name  brand_name  shipping    x\n",
       "0                  3            809        4787         2  0.0\n",
       "1                  3             87        3558         1  0.0\n",
       "2                  1           1255        4181         2  0.0\n",
       "3                  1            486        4787         2  0.0\n",
       "4                  1           1182        4787         1  0.0"
      ]
     },
     "execution_count": 171,
     "metadata": {},
     "output_type": "execute_result"
    }
   ],
   "source": [
    "df.head()"
   ]
  },
  {
   "cell_type": "code",
   "execution_count": 172,
   "metadata": {},
   "outputs": [
    {
     "data": {
      "text/plain": [
       "['item_condition_id', 'category_name', 'brand_name', 'shipping']"
      ]
     },
     "execution_count": 172,
     "metadata": {},
     "output_type": "execute_result"
    }
   ],
   "source": [
    "cat_vars"
   ]
  },
  {
   "cell_type": "code",
   "execution_count": 173,
   "metadata": {},
   "outputs": [
    {
     "data": {
      "text/plain": [
       "True"
      ]
     },
     "execution_count": 173,
     "metadata": {},
     "output_type": "execute_result"
    }
   ],
   "source": [
    "777341  in val_idx"
   ]
  },
  {
   "cell_type": "code",
   "execution_count": 211,
   "metadata": {},
   "outputs": [],
   "source": [
    "df = df.astype('float32')"
   ]
  },
  {
   "cell_type": "code",
   "execution_count": 227,
   "metadata": {},
   "outputs": [
    {
     "data": {
      "text/plain": [
       "numpy.float32"
      ]
     },
     "execution_count": 227,
     "metadata": {},
     "output_type": "execute_result"
    }
   ],
   "source": [
    "type(y[[0]][0])"
   ]
  },
  {
   "cell_type": "code",
   "execution_count": 212,
   "metadata": {},
   "outputs": [],
   "source": [
    "md = ColumnarModelData.from_data_frame(PATH, val_idx, df, \n",
    "                                       yl.astype(np.float32),\n",
    "                                       cat_flds=cat_vars, bs=128,\n",
    "                                       test_df=df_test)"
   ]
  },
  {
   "cell_type": "markdown",
   "metadata": {},
   "source": [
    "Some categorical variables have a lot more levels than others. Store, in particular, has over a thousand!"
   ]
  },
  {
   "cell_type": "code",
   "execution_count": 228,
   "metadata": {},
   "outputs": [
    {
     "data": {
      "text/plain": [
       "[Men/Tops/T-shirts, Electronics/Computers & Tablets/Components & P..., Women/Tops & Blouses/Blouse, Home/Home Décor/Home Décor Accents, Women/Jewelry/Necklaces, ..., Handmade/Furniture/Fixture, Home/Home Décor/Doormats, Handmade/Jewelry/Clothing, Vintage & Collectibles/Supplies/Ephemera, Handmade/Pets/Blanket]\n",
       "Length: 1288\n",
       "Categories (1288, object): [Beauty/Bath & Body/Bath < Beauty/Bath & Body/Bathing Accessories < Beauty/Bath & Body/Cleansers < Beauty/Bath & Body/Other ... Women/Women's Handbags/Satchel < Women/Women's Handbags/Shoulder Bag < Women/Women's Handbags/Totes & Shoppers < missing]"
      ]
     },
     "execution_count": 228,
     "metadata": {},
     "output_type": "execute_result"
    }
   ],
   "source": [
    "train_samp.category_name.unique()"
   ]
  },
  {
   "cell_type": "code",
   "execution_count": 229,
   "metadata": {},
   "outputs": [],
   "source": [
    "cat_sz = [(c, len(train_samp[c].cat.categories)+1) for c in cat_vars]"
   ]
  },
  {
   "cell_type": "code",
   "execution_count": 230,
   "metadata": {
    "scrolled": true
   },
   "outputs": [
    {
     "data": {
      "text/plain": [
       "[('item_condition_id', 6),\n",
       " ('category_name', 1289),\n",
       " ('brand_name', 4811),\n",
       " ('shipping', 3)]"
      ]
     },
     "execution_count": 230,
     "metadata": {},
     "output_type": "execute_result"
    }
   ],
   "source": [
    "cat_sz"
   ]
  },
  {
   "cell_type": "markdown",
   "metadata": {},
   "source": [
    "We use the *cardinality* of each variable (that is, its number of unique values) to decide how large to make its *embeddings*. Each level will be associated with a vector with length defined as below."
   ]
  },
  {
   "cell_type": "code",
   "execution_count": 231,
   "metadata": {},
   "outputs": [],
   "source": [
    "emb_szs = [(c, min(50, (c+1)//2)) for _,c in cat_sz]"
   ]
  },
  {
   "cell_type": "code",
   "execution_count": 232,
   "metadata": {
    "scrolled": true
   },
   "outputs": [
    {
     "data": {
      "text/plain": [
       "[(6, 3), (1289, 50), (4811, 50), (3, 2)]"
      ]
     },
     "execution_count": 232,
     "metadata": {},
     "output_type": "execute_result"
    }
   ],
   "source": [
    "emb_szs"
   ]
  },
  {
   "cell_type": "code",
   "execution_count": 233,
   "metadata": {},
   "outputs": [
    {
     "data": {
      "text/plain": [
       "OrderedDict([('Embedding-1',\n",
       "              OrderedDict([('input_shape', [-1]),\n",
       "                           ('output_shape', [-1, 3]),\n",
       "                           ('trainable', True),\n",
       "                           ('nb_params', 18)])),\n",
       "             ('Embedding-2',\n",
       "              OrderedDict([('input_shape', [-1]),\n",
       "                           ('output_shape', [-1, 50]),\n",
       "                           ('trainable', True),\n",
       "                           ('nb_params', 64450)])),\n",
       "             ('Embedding-3',\n",
       "              OrderedDict([('input_shape', [-1]),\n",
       "                           ('output_shape', [-1, 50]),\n",
       "                           ('trainable', True),\n",
       "                           ('nb_params', 240550)])),\n",
       "             ('Embedding-4',\n",
       "              OrderedDict([('input_shape', [-1]),\n",
       "                           ('output_shape', [-1, 2]),\n",
       "                           ('trainable', True),\n",
       "                           ('nb_params', 6)])),\n",
       "             ('Dropout-5',\n",
       "              OrderedDict([('input_shape', [-1, 105]),\n",
       "                           ('output_shape', [-1, 105]),\n",
       "                           ('nb_params', 0)])),\n",
       "             ('BatchNorm1d-6',\n",
       "              OrderedDict([('input_shape', [-1, 1]),\n",
       "                           ('output_shape', [-1, 1]),\n",
       "                           ('trainable', True),\n",
       "                           ('nb_params', 2)])),\n",
       "             ('Linear-7',\n",
       "              OrderedDict([('input_shape', [-1, 106]),\n",
       "                           ('output_shape', [-1, 1000]),\n",
       "                           ('trainable', True),\n",
       "                           ('nb_params', 107000)])),\n",
       "             ('Dropout-8',\n",
       "              OrderedDict([('input_shape', [-1, 1000]),\n",
       "                           ('output_shape', [-1, 1000]),\n",
       "                           ('nb_params', 0)])),\n",
       "             ('Linear-9',\n",
       "              OrderedDict([('input_shape', [-1, 1000]),\n",
       "                           ('output_shape', [-1, 500]),\n",
       "                           ('trainable', True),\n",
       "                           ('nb_params', 500500)])),\n",
       "             ('Dropout-10',\n",
       "              OrderedDict([('input_shape', [-1, 500]),\n",
       "                           ('output_shape', [-1, 500]),\n",
       "                           ('nb_params', 0)])),\n",
       "             ('Linear-11',\n",
       "              OrderedDict([('input_shape', [-1, 500]),\n",
       "                           ('output_shape', [-1, 1]),\n",
       "                           ('trainable', True),\n",
       "                           ('nb_params', 501)]))])"
      ]
     },
     "execution_count": 233,
     "metadata": {},
     "output_type": "execute_result"
    }
   ],
   "source": [
    "m = md.get_learner(emb_szs, len(df.columns)-len(cat_vars),\n",
    "                   0.04, 1, [1000,500], [0.001,0.01], y_range=y_range)\n",
    "m.summary()"
   ]
  },
  {
   "cell_type": "code",
   "execution_count": 234,
   "metadata": {},
   "outputs": [
    {
     "data": {
      "application/vnd.jupyter.widget-view+json": {
       "model_id": "b4e114807d624f10a993dec60423d954",
       "version_major": 2,
       "version_minor": 0
      },
      "text/plain": [
       "HBox(children=(IntProgress(value=0, description='Epoch', max=1), HTML(value='')))"
      ]
     },
     "metadata": {},
     "output_type": "display_data"
    },
    {
     "name": "stdout",
     "output_type": "stream",
     "text": [
      "                                                              \r"
     ]
    }
   ],
   "source": [
    "m.lr_find()"
   ]
  },
  {
   "cell_type": "code",
   "execution_count": 235,
   "metadata": {},
   "outputs": [
    {
     "data": {
      "image/png": "[encoded data removed]",
      "text/plain": [
       "<Figure size 432x288 with 1 Axes>"
      ]
     },
     "metadata": {},
     "output_type": "display_data"
    }
   ],
   "source": [
    "m.sched.plot(100)"
   ]
  },
  {
   "cell_type": "markdown",
   "metadata": {
    "heading_collapsed": true
   },
   "source": [
    "### Sample"
   ]
  },
  {
   "cell_type": "code",
   "execution_count": 236,
   "metadata": {
    "hidden": true
   },
   "outputs": [],
   "source": [
    "m = md.get_learner(emb_szs, len(df.columns)-len(cat_vars),\n",
    "                   0.04, 1, [1000,500], [0.001,0.01], y_range=y_range)\n",
    "lr = 1e-3"
   ]
  },
  {
   "cell_type": "code",
   "execution_count": null,
   "metadata": {
    "hidden": true
   },
   "outputs": [
    {
     "data": {
      "application/vnd.jupyter.widget-view+json": {
       "model_id": "e79ded32d7ad47a5963267f90b57c18d",
       "version_major": 2,
       "version_minor": 0
      },
      "text/plain": [
       "HBox(children=(IntProgress(value=0, description='Epoch', max=3), HTML(value='')))"
      ]
     },
     "metadata": {},
     "output_type": "display_data"
    },
    {
     "name": "stdout",
     "output_type": "stream",
     "text": [
      " 24%|██▍       | 2551/10425 [00:14<00:44, 176.63it/s, loss=nan]"
     ]
    }
   ],
   "source": [
    "m.fit(lr, 3, metrics=[rmsle])"
   ]
  },
  {
   "cell_type": "code",
   "execution_count": null,
   "metadata": {
    "hidden": true
   },
   "outputs": [],
   "source": [
    "m.fit(lr, 5, metrics=[exp_rmspe], cycle_len=1)"
   ]
  },
  {
   "cell_type": "code",
   "execution_count": null,
   "metadata": {
    "hidden": true
   },
   "outputs": [],
   "source": [
    "m.fit(lr, 2, metrics=[exp_rmspe], cycle_len=4)"
   ]
  },
  {
   "cell_type": "markdown",
   "metadata": {
    "heading_collapsed": true
   },
   "source": [
    "### All"
   ]
  },
  {
   "cell_type": "code",
   "execution_count": null,
   "metadata": {
    "hidden": true
   },
   "outputs": [],
   "source": [
    "m = md.get_learner(emb_szs, len(df.columns)-len(cat_vars),\n",
    "                   0.04, 1, [1000,500], [0.001,0.01], y_range=y_range)\n",
    "lr = 1e-3"
   ]
  },
  {
   "cell_type": "code",
   "execution_count": null,
   "metadata": {
    "hidden": true
   },
   "outputs": [],
   "source": [
    "m.fit(lr, 1, metrics=[exp_rmspe])"
   ]
  },
  {
   "cell_type": "code",
   "execution_count": null,
   "metadata": {
    "hidden": true
   },
   "outputs": [],
   "source": [
    "m.fit(lr, 3, metrics=[exp_rmspe])"
   ]
  },
  {
   "cell_type": "code",
   "execution_count": null,
   "metadata": {
    "hidden": true
   },
   "outputs": [],
   "source": [
    "m.fit(lr, 3, metrics=[exp_rmspe], cycle_len=1)"
   ]
  },
  {
   "cell_type": "markdown",
   "metadata": {
    "heading_collapsed": true
   },
   "source": [
    "### Test"
   ]
  },
  {
   "cell_type": "code",
   "execution_count": null,
   "metadata": {
    "hidden": true
   },
   "outputs": [],
   "source": [
    "m = md.get_learner(emb_szs, len(df.columns)-len(cat_vars),\n",
    "                   0.04, 1, [1000,500], [0.001,0.01], y_range=y_range)\n",
    "lr = 1e-3"
   ]
  },
  {
   "cell_type": "code",
   "execution_count": null,
   "metadata": {
    "hidden": true
   },
   "outputs": [],
   "source": [
    "m.fit(lr, 3, metrics=[exp_rmspe])"
   ]
  },
  {
   "cell_type": "code",
   "execution_count": null,
   "metadata": {
    "hidden": true
   },
   "outputs": [],
   "source": [
    "m.fit(lr, 3, metrics=[exp_rmspe], cycle_len=1)"
   ]
  },
  {
   "cell_type": "code",
   "execution_count": null,
   "metadata": {
    "hidden": true
   },
   "outputs": [],
   "source": [
    "m.save('val0')"
   ]
  },
  {
   "cell_type": "code",
   "execution_count": null,
   "metadata": {
    "hidden": true
   },
   "outputs": [],
   "source": [
    "m.load('val0')"
   ]
  },
  {
   "cell_type": "code",
   "execution_count": null,
   "metadata": {
    "hidden": true
   },
   "outputs": [],
   "source": [
    "x,y=m.predict_with_targs()"
   ]
  },
  {
   "cell_type": "code",
   "execution_count": null,
   "metadata": {
    "hidden": true
   },
   "outputs": [],
   "source": [
    "exp_rmspe(x,y)"
   ]
  },
  {
   "cell_type": "code",
   "execution_count": null,
   "metadata": {
    "hidden": true
   },
   "outputs": [],
   "source": [
    "pred_test=m.predict(True)"
   ]
  },
  {
   "cell_type": "code",
   "execution_count": null,
   "metadata": {
    "hidden": true
   },
   "outputs": [],
   "source": [
    "pred_test = np.exp(pred_test)"
   ]
  },
  {
   "cell_type": "code",
   "execution_count": null,
   "metadata": {
    "hidden": true
   },
   "outputs": [],
   "source": [
    "joined_test['Sales']=pred_test"
   ]
  },
  {
   "cell_type": "code",
   "execution_count": null,
   "metadata": {
    "hidden": true
   },
   "outputs": [],
   "source": [
    "csv_fn=f'{PATH}tmp/sub.csv'"
   ]
  },
  {
   "cell_type": "code",
   "execution_count": null,
   "metadata": {
    "hidden": true
   },
   "outputs": [],
   "source": [
    "joined_test[['Id','Sales']].to_csv(csv_fn, index=False)"
   ]
  },
  {
   "cell_type": "code",
   "execution_count": null,
   "metadata": {
    "hidden": true
   },
   "outputs": [],
   "source": [
    "FileLink(csv_fn)"
   ]
  },
  {
   "cell_type": "markdown",
   "metadata": {
    "heading_collapsed": true
   },
   "source": [
    "## RF"
   ]
  },
  {
   "cell_type": "code",
   "execution_count": null,
   "metadata": {
    "hidden": true
   },
   "outputs": [],
   "source": [
    "from sklearn.ensemble import RandomForestRegressor"
   ]
  },
  {
   "cell_type": "code",
   "execution_count": null,
   "metadata": {
    "hidden": true
   },
   "outputs": [],
   "source": [
    "((val,trn), (y_val,y_trn)) = split_by_idx(val_idx, df.values, yl)"
   ]
  },
  {
   "cell_type": "code",
   "execution_count": null,
   "metadata": {
    "hidden": true
   },
   "outputs": [],
   "source": [
    "m = RandomForestRegressor(n_estimators=40, max_features=0.99, min_samples_leaf=2,\n",
    "                          n_jobs=-1, oob_score=True)\n",
    "m.fit(trn, y_trn);"
   ]
  },
  {
   "cell_type": "code",
   "execution_count": null,
   "metadata": {
    "hidden": true
   },
   "outputs": [],
   "source": [
    "preds = m.predict(val)\n",
    "m.score(trn, y_trn), m.score(val, y_val), m.oob_score_, exp_rmspe(preds, y_val)"
   ]
  },
  {
   "cell_type": "code",
   "execution_count": null,
   "metadata": {
    "hidden": true
   },
   "outputs": [],
   "source": []
  }
 ],
 "metadata": {
  "anaconda-cloud": {},
  "kernelspec": {
   "display_name": "Python [default]",
   "language": "python",
   "name": "python3"
  },
  "language_info": {
   "codemirror_mode": {
    "name": "ipython",
    "version": 3
   },
   "file_extension": ".py",
   "mimetype": "text/x-python",
   "name": "python",
   "nbconvert_exporter": "python",
   "pygments_lexer": "ipython3",
   "version": "3.6.6"
  },
  "toc": {
   "colors": {
    "hover_highlight": "#DAA520",
    "navigate_num": "#000000",
    "navigate_text": "#333333",
    "running_highlight": "#FF0000",
    "selected_highlight": "#FFD700",
    "sidebar_border": "#EEEEEE",
    "wrapper_background": "#FFFFFF"
   },
   "moveMenuLeft": true,
   "nav_menu": {
    "height": "173px",
    "width": "251px"
   },
   "navigate_menu": true,
   "number_sections": true,
   "sideBar": true,
   "threshold": 4,
   "toc_cell": false,
   "toc_section_display": "block",
   "toc_window_display": false,
   "widenNotebook": false
  }
 },
 "nbformat": 4,
 "nbformat_minor": 2
}
