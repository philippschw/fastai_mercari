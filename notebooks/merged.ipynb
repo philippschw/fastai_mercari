{
 "cells": [
  {
   "cell_type": "markdown",
   "metadata": {},
   "source": [
    "# Mercari Price Suggestion Challenge Data Preparation\n",
    "\n",
    "This notebook is for initial preprocessing of data and creating custom sub datasets and train/test sets."
   ]
  },
  {
   "cell_type": "code",
   "execution_count": 1,
   "metadata": {
    "ExecuteTime": {
     "end_time": "2018-07-21T11:16:27.464173Z",
     "start_time": "2018-07-21T11:16:27.054084Z"
    }
   },
   "outputs": [],
   "source": [
    "%reload_ext autoreload\n",
    "%autoreload 2\n",
    "%matplotlib inline"
   ]
  },
  {
   "cell_type": "code",
   "execution_count": 2,
   "metadata": {
    "ExecuteTime": {
     "end_time": "2018-07-21T11:16:33.761358Z",
     "start_time": "2018-07-21T11:16:27.465752Z"
    }
   },
   "outputs": [
    {
     "name": "stderr",
     "output_type": "stream",
     "text": [
      "/home/ubuntu/anaconda3/envs/fastai/lib/python3.6/importlib/_bootstrap.py:219: RuntimeWarning: numpy.dtype size changed, may indicate binary incompatibility. Expected 96, got 88\n",
      "  return f(*args, **kwds)\n",
      "/home/ubuntu/anaconda3/envs/fastai/lib/python3.6/importlib/_bootstrap.py:219: RuntimeWarning: numpy.dtype size changed, may indicate binary incompatibility. Expected 96, got 88\n",
      "  return f(*args, **kwds)\n",
      "/home/ubuntu/anaconda3/envs/fastai/lib/python3.6/site-packages/sklearn/ensemble/weight_boosting.py:29: DeprecationWarning: numpy.core.umath_tests is an internal NumPy module and should not be imported. It will be removed in a future NumPy release.\n",
      "  from numpy.core.umath_tests import inner1d\n"
     ]
    }
   ],
   "source": [
    "from fastai.imports import *\n",
    "from fastai.column_data import *\n",
    "from fastai.structured import *\n",
    "\n",
    "import warnings\n",
    "warnings.filterwarnings(\"ignore\")"
   ]
  },
  {
   "cell_type": "code",
   "execution_count": 3,
   "metadata": {
    "ExecuteTime": {
     "end_time": "2018-07-21T11:16:33.787635Z",
     "start_time": "2018-07-21T11:16:33.763449Z"
    }
   },
   "outputs": [],
   "source": [
    "DATA_PATH = Path('../data/')\n",
    "\n",
    "TMP_PATH = DATA_PATH/'intermediate'\n",
    "TMP_PATH.mkdir(exist_ok=True)"
   ]
  },
  {
   "cell_type": "markdown",
   "metadata": {},
   "source": [
    "### Functions"
   ]
  },
  {
   "cell_type": "code",
   "execution_count": 4,
   "metadata": {
    "ExecuteTime": {
     "end_time": "2018-07-21T11:16:33.810833Z",
     "start_time": "2018-07-21T11:16:33.789189Z"
    }
   },
   "outputs": [],
   "source": [
    "def split_df(df, test_mask):\n",
    "    df_train, df_test = df[~test_mask], df[test_mask]\n",
    "    df_train.reset_index(inplace=True, drop=True)\n",
    "    df_test.reset_index(inplace=True, drop=True)\n",
    "    return df_train, df_test\n",
    "\n",
    "# na category names are just replaced with 'missing'\n",
    "def split_cat(text):\n",
    "    try:\n",
    "        return text.split('/')\n",
    "    except AttributeError:\n",
    "        return tuple(['missing'] * 3)\n",
    "\n",
    "# replace na or no description values with 'missing'\n",
    "def fix_desc(text):\n",
    "    return 'missing' if not isinstance(text, str) or text == 'No description yet' else text"
   ]
  },
  {
   "cell_type": "code",
   "execution_count": 5,
   "metadata": {},
   "outputs": [
    {
     "data": {
      "text/plain": [
       "['Men', 'Coats & Jackets', 'Flight', 'Bomber']"
      ]
     },
     "execution_count": 5,
     "metadata": {},
     "output_type": "execute_result"
    }
   ],
   "source": [
    "split_cat('Men/Coats & Jackets/Flight/Bomber')"
   ]
  },
  {
   "cell_type": "code",
   "execution_count": 6,
   "metadata": {},
   "outputs": [
    {
     "data": {
      "text/plain": [
       "('missing', 'missing', 'missing')"
      ]
     },
     "execution_count": 6,
     "metadata": {},
     "output_type": "execute_result"
    }
   ],
   "source": [
    "tuple(['missing'] * 3)"
   ]
  },
  {
   "cell_type": "markdown",
   "metadata": {},
   "source": [
    "### Fixup Raw Data"
   ]
  },
  {
   "cell_type": "code",
   "execution_count": 7,
   "metadata": {
    "ExecuteTime": {
     "end_time": "2018-07-21T11:16:50.196956Z",
     "start_time": "2018-07-21T11:16:33.812158Z"
    }
   },
   "outputs": [],
   "source": [
    "train = pd.read_csv(DATA_PATH/'train.tsv', sep='\\t')\n",
    "test = pd.read_csv(DATA_PATH/'test.tsv', sep='\\t')\n",
    "test2 = pd.read_csv(DATA_PATH/'test_stg2.tsv', sep='\\t')"
   ]
  },
  {
   "cell_type": "code",
   "execution_count": 8,
   "metadata": {},
   "outputs": [],
   "source": [
    "test.rename(columns={'test_id': 'train_id'}, inplace=True)\n",
    "test2.rename(columns={'test_id': 'train_id'}, inplace=True)"
   ]
  },
  {
   "cell_type": "markdown",
   "metadata": {},
   "source": [
    "There are up to four categories that can be seperated from this string but I decided only to consider the first three."
   ]
  },
  {
   "cell_type": "code",
   "execution_count": 9,
   "metadata": {},
   "outputs": [
    {
     "data": {
      "text/plain": [
       "4.0"
      ]
     },
     "execution_count": 9,
     "metadata": {},
     "output_type": "execute_result"
    }
   ],
   "source": [
    "train.category_name.str.count('/').max()"
   ]
  },
  {
   "cell_type": "code",
   "execution_count": 10,
   "metadata": {},
   "outputs": [
    {
     "data": {
      "text/plain": [
       "array(['Sports & Outdoors/Exercise/Dance/Ballet', 'Sports & Outdoors/Outdoors/Indoor/Outdoor Games',\n",
       "       'Men/Coats & Jackets/Varsity/Baseball', 'Men/Coats & Jackets/Flight/Bomber',\n",
       "       'Handmade/Housewares/Entertaining/Serving'], dtype=object)"
      ]
     },
     "execution_count": 10,
     "metadata": {},
     "output_type": "execute_result"
    }
   ],
   "source": [
    "train[train.category_name.str.count('/') == 3].category_name.unique()"
   ]
  },
  {
   "cell_type": "markdown",
   "metadata": {},
   "source": [
    "Remove prices below `$3` as Merari does not allow postings below `$3` which makes it an error. There are `874` entries like that. Mercari also does not allow prices above `$2,000` but there are only 3 entries like that with only a few dollars more which are likely shipping fees. So removing them is not required."
   ]
  },
  {
   "cell_type": "code",
   "execution_count": 11,
   "metadata": {
    "ExecuteTime": {
     "end_time": "2018-07-21T11:17:10.384486Z",
     "start_time": "2018-07-21T11:17:10.066103Z"
    }
   },
   "outputs": [],
   "source": [
    "train = train.drop(train[train['price'] < 3].index)"
   ]
  },
  {
   "cell_type": "code",
   "execution_count": 12,
   "metadata": {},
   "outputs": [
    {
     "data": {
      "text/html": [
       "<div>\n",
       "<style scoped>\n",
       "    .dataframe tbody tr th:only-of-type {\n",
       "        vertical-align: middle;\n",
       "    }\n",
       "\n",
       "    .dataframe tbody tr th {\n",
       "        vertical-align: top;\n",
       "    }\n",
       "\n",
       "    .dataframe thead th {\n",
       "        text-align: right;\n",
       "    }\n",
       "</style>\n",
       "<table border=\"1\" class=\"dataframe\">\n",
       "  <thead>\n",
       "    <tr style=\"text-align: right;\">\n",
       "      <th></th>\n",
       "      <th>train_id</th>\n",
       "      <th>name</th>\n",
       "      <th>item_condition_id</th>\n",
       "      <th>category_name</th>\n",
       "      <th>brand_name</th>\n",
       "      <th>price</th>\n",
       "      <th>shipping</th>\n",
       "      <th>item_description</th>\n",
       "    </tr>\n",
       "  </thead>\n",
       "  <tbody>\n",
       "    <tr>\n",
       "      <th>0</th>\n",
       "      <td>0</td>\n",
       "      <td>MLB Cincinnati Reds T Shirt Size XL</td>\n",
       "      <td>3</td>\n",
       "      <td>Men/Tops/T-shirts</td>\n",
       "      <td>NaN</td>\n",
       "      <td>10.0</td>\n",
       "      <td>1</td>\n",
       "      <td>No description yet</td>\n",
       "    </tr>\n",
       "    <tr>\n",
       "      <th>1</th>\n",
       "      <td>1</td>\n",
       "      <td>Razer BlackWidow Chroma Keyboard</td>\n",
       "      <td>3</td>\n",
       "      <td>Electronics/Computers &amp; Tablets/Components &amp; P...</td>\n",
       "      <td>Razer</td>\n",
       "      <td>52.0</td>\n",
       "      <td>0</td>\n",
       "      <td>This keyboard is in great condition and works ...</td>\n",
       "    </tr>\n",
       "  </tbody>\n",
       "</table>\n",
       "</div>"
      ],
      "text/plain": [
       "   train_id                                 name  item_condition_id  \\\n",
       "0         0  MLB Cincinnati Reds T Shirt Size XL                  3   \n",
       "1         1     Razer BlackWidow Chroma Keyboard                  3   \n",
       "\n",
       "                                       category_name brand_name  price  \\\n",
       "0                                  Men/Tops/T-shirts        NaN   10.0   \n",
       "1  Electronics/Computers & Tablets/Components & P...      Razer   52.0   \n",
       "\n",
       "   shipping                                   item_description  \n",
       "0         1                                 No description yet  \n",
       "1         0  This keyboard is in great condition and works ...  "
      ]
     },
     "execution_count": 12,
     "metadata": {},
     "output_type": "execute_result"
    }
   ],
   "source": [
    "train.head(2)"
   ]
  },
  {
   "cell_type": "markdown",
   "metadata": {},
   "source": [
    "Extract subcategories from the main `category_name` and remove it after as we don't need it."
   ]
  },
  {
   "cell_type": "code",
   "execution_count": 13,
   "metadata": {
    "ExecuteTime": {
     "end_time": "2018-07-21T11:17:10.064371Z",
     "start_time": "2018-07-21T11:16:50.199188Z"
    }
   },
   "outputs": [],
   "source": [
    "train['main_cat'], train['sub_cat1'], train['sub_cat2'] = zip(*train['category_name'].apply(split_cat))                                                              \n",
    "test['main_cat'], test['sub_cat1'], test['sub_cat2'] = zip(*test['category_name'].apply(split_cat))\n",
    "test2['main_cat'], test2['sub_cat1'], test2['sub_cat2'] = zip(*test2['category_name'].apply(split_cat))\n",
    "\n",
    "train.drop('category_name', inplace=True, axis=1)\n",
    "test.drop('category_name', inplace=True, axis=1)\n",
    "test2.drop('category_name', inplace=True, axis=1)"
   ]
  },
  {
   "cell_type": "markdown",
   "metadata": {},
   "source": [
    "Replace `na` values in `brand_name` column with `missing`."
   ]
  },
  {
   "cell_type": "code",
   "execution_count": 14,
   "metadata": {
    "ExecuteTime": {
     "end_time": "2018-07-21T11:17:10.608040Z",
     "start_time": "2018-07-21T11:17:10.386118Z"
    }
   },
   "outputs": [],
   "source": [
    "train['brand_name'].fillna(value='missing', inplace=True)\n",
    "test['brand_name'].fillna(value='missing', inplace=True)\n",
    "test2['brand_name'].fillna(value='missing', inplace=True)"
   ]
  },
  {
   "cell_type": "markdown",
   "metadata": {},
   "source": [
    "The `name` column has nothing missing, but this is added just in case."
   ]
  },
  {
   "cell_type": "code",
   "execution_count": 15,
   "metadata": {
    "ExecuteTime": {
     "end_time": "2018-07-21T11:17:10.608040Z",
     "start_time": "2018-07-21T11:17:10.386118Z"
    }
   },
   "outputs": [],
   "source": [
    "train['name'].fillna(value='missing', inplace=True)\n",
    "test['name'].fillna(value='missing', inplace=True)\n",
    "test2['name'].fillna(value='missing', inplace=True)"
   ]
  },
  {
   "cell_type": "markdown",
   "metadata": {},
   "source": [
    "Convert `item_condition_id` and `shipping` column to `str` for easy conversion using FastAI's `proc_df`."
   ]
  },
  {
   "cell_type": "code",
   "execution_count": 16,
   "metadata": {
    "ExecuteTime": {
     "end_time": "2018-07-21T11:17:17.010113Z",
     "start_time": "2018-07-21T11:17:10.609560Z"
    }
   },
   "outputs": [],
   "source": [
    "train['shipping'] = train['shipping'].astype('str')\n",
    "test['shipping'] = test['shipping'].astype('str')\n",
    "test2['shipping'] = test2['shipping'].astype('str')\n",
    "\n",
    "train['item_condition_id'] = train['item_condition_id'].astype('str')\n",
    "test['item_condition_id'] = test['item_condition_id'].astype('str')\n",
    "test2['item_condition_id'] = test2['item_condition_id'].astype('str')"
   ]
  },
  {
   "cell_type": "markdown",
   "metadata": {},
   "source": [
    "Replace `na` values and `No description yet` values in `item_description` with `missing`."
   ]
  },
  {
   "cell_type": "code",
   "execution_count": 17,
   "metadata": {},
   "outputs": [],
   "source": [
    "train['item_description'] = train['item_description'].apply(fix_desc)\n",
    "test['item_description'] = test['item_description'].apply(fix_desc)\n",
    "test2['item_description'] = test2['item_description'].apply(fix_desc)"
   ]
  },
  {
   "cell_type": "markdown",
   "metadata": {},
   "source": [
    "Combine `name` and `item_description` into one field where the name and description are separated by a newline."
   ]
  },
  {
   "cell_type": "code",
   "execution_count": 18,
   "metadata": {},
   "outputs": [],
   "source": [
    "train['full_desc'] = train['name'].str.cat(train['item_description'], sep='\\n')\n",
    "test['full_desc'] = test['name'].str.cat(test['item_description'], sep='\\n')\n",
    "test2['full_desc'] = test2['name'].str.cat(test2['item_description'], sep='\\n')"
   ]
  },
  {
   "cell_type": "markdown",
   "metadata": {},
   "source": [
    "Drop these two columns since they are no longer needed."
   ]
  },
  {
   "cell_type": "code",
   "execution_count": 19,
   "metadata": {},
   "outputs": [],
   "source": [
    "train.drop('name', axis=1, inplace=True)\n",
    "train.drop('item_description', axis=1, inplace=True)\n",
    "\n",
    "test.drop('name', axis=1, inplace=True)\n",
    "test.drop('item_description', axis=1, inplace=True)\n",
    "\n",
    "test2.drop('name', axis=1, inplace=True)\n",
    "test2.drop('item_description', axis=1, inplace=True)"
   ]
  },
  {
   "cell_type": "markdown",
   "metadata": {},
   "source": [
    "### ! Replace training sets `price` column with its `np.log1p` !"
   ]
  },
  {
   "cell_type": "code",
   "execution_count": 20,
   "metadata": {
    "ExecuteTime": {
     "end_time": "2018-07-21T11:17:17.065819Z",
     "start_time": "2018-07-21T11:17:17.011683Z"
    }
   },
   "outputs": [],
   "source": [
    "train['price'] = np.log1p(train['price'])"
   ]
  },
  {
   "cell_type": "markdown",
   "metadata": {},
   "source": [
    "This is done so that the values for index and `train_id` are not the same and that index reflects the true length of the dataframe such that the last index is of the value `len(df)-1`"
   ]
  },
  {
   "cell_type": "code",
   "execution_count": 21,
   "metadata": {
    "ExecuteTime": {
     "end_time": "2018-07-21T11:17:17.093651Z",
     "start_time": "2018-07-21T11:17:17.067080Z"
    }
   },
   "outputs": [],
   "source": [
    "train.reset_index(inplace=True, drop=True)"
   ]
  },
  {
   "cell_type": "code",
   "execution_count": 22,
   "metadata": {
    "ExecuteTime": {
     "end_time": "2018-07-21T11:17:17.122754Z",
     "start_time": "2018-07-21T11:17:17.094897Z"
    }
   },
   "outputs": [
    {
     "data": {
      "text/plain": [
       "Index(['train_id', 'item_condition_id', 'brand_name', 'price', 'shipping',\n",
       "       'main_cat', 'sub_cat1', 'sub_cat2', 'full_desc'],\n",
       "      dtype='object')"
      ]
     },
     "execution_count": 22,
     "metadata": {},
     "output_type": "execute_result"
    }
   ],
   "source": [
    "train.columns"
   ]
  },
  {
   "cell_type": "code",
   "execution_count": 23,
   "metadata": {},
   "outputs": [
    {
     "name": "stdout",
     "output_type": "stream",
     "text": [
      "✨ Kate Spade Wallet / Makeup Bag ✨\n",
      "Matching red & brown KS wallet & makeup bag! Now flaws :)\n"
     ]
    }
   ],
   "source": [
    "print(train['full_desc'][np.random.randint(0, len(train))])"
   ]
  },
  {
   "cell_type": "markdown",
   "metadata": {},
   "source": [
    "### Create custom dataset from only the struct columns of the dataset"
   ]
  },
  {
   "cell_type": "markdown",
   "metadata": {},
   "source": [
    "For now, use only the columns of the dataset, in addition the datasets contain `train_id` and `price`."
   ]
  },
  {
   "cell_type": "markdown",
   "metadata": {},
   "source": [
    "### Extract and create the sub-datasets"
   ]
  },
  {
   "cell_type": "code",
   "execution_count": 24,
   "metadata": {
    "ExecuteTime": {
     "end_time": "2018-07-21T11:17:17.147467Z",
     "start_time": "2018-07-21T11:17:17.124060Z"
    }
   },
   "outputs": [],
   "source": [
    "dep = ['price']\n",
    "rid = ['train_id']\n",
    "struct_vars = ['item_condition_id', 'brand_name', 'shipping', 'main_cat', 'sub_cat1', 'sub_cat2']"
   ]
  },
  {
   "cell_type": "code",
   "execution_count": 25,
   "metadata": {},
   "outputs": [
    {
     "data": {
      "text/plain": [
       "Index(['train_id', 'item_condition_id', 'brand_name', 'shipping', 'main_cat',\n",
       "       'sub_cat1', 'sub_cat2', 'full_desc'],\n",
       "      dtype='object')"
      ]
     },
     "execution_count": 25,
     "metadata": {},
     "output_type": "execute_result"
    }
   ],
   "source": [
    "test.columns"
   ]
  },
  {
   "cell_type": "code",
   "execution_count": 26,
   "metadata": {},
   "outputs": [
    {
     "name": "stdout",
     "output_type": "stream",
     "text": [
      "5\n",
      "4808\n",
      "2\n",
      "11\n",
      "114\n",
      "871\n"
     ]
    }
   ],
   "source": [
    "for s in struct_vars: print (len(train[s].unique()))"
   ]
  },
  {
   "cell_type": "code",
   "execution_count": 27,
   "metadata": {
    "ExecuteTime": {
     "end_time": "2018-07-21T11:17:18.243964Z",
     "start_time": "2018-07-21T11:17:17.148669Z"
    }
   },
   "outputs": [],
   "source": [
    "price = train[dep].as_matrix().flatten()\n",
    "train = train[rid + struct_vars + dep]\n",
    "test =  test[rid +  struct_vars]\n",
    "test2 =  test2[rid +  struct_vars]"
   ]
  },
  {
   "cell_type": "code",
   "execution_count": 28,
   "metadata": {},
   "outputs": [
    {
     "data": {
      "text/plain": [
       "array([2.3979 , 3.97029, 2.3979 , ..., 2.56495, 3.82864, 3.13549])"
      ]
     },
     "execution_count": 28,
     "metadata": {},
     "output_type": "execute_result"
    }
   ],
   "source": [
    "price"
   ]
  },
  {
   "cell_type": "markdown",
   "metadata": {},
   "source": [
    "### Split in training and test sets"
   ]
  },
  {
   "cell_type": "markdown",
   "metadata": {},
   "source": [
    "The idea is to have a 10% data for test and 90% for train (and validation). The datasets are created as follows:\n",
    "1. Get a random test mask of length 10% of the total training data\n",
    "2. Extract the dependent variables for train and test using the mask\n",
    "3. Extract train and test for each of the datasets"
   ]
  },
  {
   "cell_type": "code",
   "execution_count": 29,
   "metadata": {
    "ExecuteTime": {
     "end_time": "2018-07-21T11:17:18.445415Z",
     "start_time": "2018-07-21T11:17:18.245530Z"
    }
   },
   "outputs": [],
   "source": [
    "test_mask = train.index.isin(get_cv_idxs(n = len(train), val_pct=0.1))\n",
    "y_test = price[test_mask]"
   ]
  },
  {
   "cell_type": "code",
   "execution_count": 30,
   "metadata": {},
   "outputs": [
    {
     "data": {
      "text/plain": [
       "array([False, False, False, ..., False, False, False])"
      ]
     },
     "execution_count": 30,
     "metadata": {},
     "output_type": "execute_result"
    }
   ],
   "source": [
    "test_mask"
   ]
  },
  {
   "cell_type": "code",
   "execution_count": 31,
   "metadata": {
    "ExecuteTime": {
     "end_time": "2018-07-21T11:17:18.908921Z",
     "start_time": "2018-07-21T11:17:18.446968Z"
    }
   },
   "outputs": [],
   "source": [
    "my_train, my_test = split_df(train, test_mask)\n",
    "my_test.drop('price', axis=1, inplace=True)"
   ]
  },
  {
   "cell_type": "code",
   "execution_count": 32,
   "metadata": {},
   "outputs": [
    {
     "data": {
      "text/plain": [
       "(1481661, 8)"
      ]
     },
     "execution_count": 32,
     "metadata": {},
     "output_type": "execute_result"
    }
   ],
   "source": [
    "train.shape"
   ]
  },
  {
   "cell_type": "code",
   "execution_count": 33,
   "metadata": {},
   "outputs": [
    {
     "data": {
      "text/plain": [
       "(1333495, 8)"
      ]
     },
     "execution_count": 33,
     "metadata": {},
     "output_type": "execute_result"
    }
   ],
   "source": [
    "my_train.shape"
   ]
  },
  {
   "cell_type": "markdown",
   "metadata": {},
   "source": [
    "### Check for errors\n",
    "\n",
    "Get a random `train_id` and check if the row corresponding to that train id is the same on all dataframes."
   ]
  },
  {
   "cell_type": "code",
   "execution_count": 34,
   "metadata": {
    "ExecuteTime": {
     "end_time": "2018-07-21T11:17:20.122927Z",
     "start_time": "2018-07-21T11:17:20.096644Z"
    }
   },
   "outputs": [
    {
     "data": {
      "text/plain": [
       "520714"
      ]
     },
     "execution_count": 34,
     "metadata": {},
     "output_type": "execute_result"
    }
   ],
   "source": [
    "r = np.random.choice(train['train_id'])\n",
    "r"
   ]
  },
  {
   "cell_type": "code",
   "execution_count": 35,
   "metadata": {},
   "outputs": [
    {
     "data": {
      "text/plain": [
       "['train_id']"
      ]
     },
     "execution_count": 35,
     "metadata": {},
     "output_type": "execute_result"
    }
   ],
   "source": [
    "rid"
   ]
  },
  {
   "cell_type": "code",
   "execution_count": 36,
   "metadata": {
    "ExecuteTime": {
     "end_time": "2018-07-21T11:17:20.163108Z",
     "start_time": "2018-07-21T11:17:20.124231Z"
    }
   },
   "outputs": [
    {
     "data": {
      "text/html": [
       "<div>\n",
       "<style scoped>\n",
       "    .dataframe tbody tr th:only-of-type {\n",
       "        vertical-align: middle;\n",
       "    }\n",
       "\n",
       "    .dataframe tbody tr th {\n",
       "        vertical-align: top;\n",
       "    }\n",
       "\n",
       "    .dataframe thead th {\n",
       "        text-align: right;\n",
       "    }\n",
       "</style>\n",
       "<table border=\"1\" class=\"dataframe\">\n",
       "  <thead>\n",
       "    <tr style=\"text-align: right;\">\n",
       "      <th></th>\n",
       "      <th>train_id</th>\n",
       "      <th>item_condition_id</th>\n",
       "      <th>brand_name</th>\n",
       "      <th>shipping</th>\n",
       "      <th>main_cat</th>\n",
       "      <th>sub_cat1</th>\n",
       "      <th>sub_cat2</th>\n",
       "      <th>price</th>\n",
       "    </tr>\n",
       "  </thead>\n",
       "  <tbody>\n",
       "    <tr>\n",
       "      <th>520436</th>\n",
       "      <td>520714</td>\n",
       "      <td>3</td>\n",
       "      <td>Hollister</td>\n",
       "      <td>0</td>\n",
       "      <td>Women</td>\n",
       "      <td>Coats &amp; Jackets</td>\n",
       "      <td>Parka</td>\n",
       "      <td>3.555348</td>\n",
       "    </tr>\n",
       "  </tbody>\n",
       "</table>\n",
       "</div>"
      ],
      "text/plain": [
       "        train_id item_condition_id brand_name shipping main_cat  \\\n",
       "520436    520714                 3  Hollister        0    Women   \n",
       "\n",
       "               sub_cat1 sub_cat2     price  \n",
       "520436  Coats & Jackets    Parka  3.555348  "
      ]
     },
     "execution_count": 36,
     "metadata": {},
     "output_type": "execute_result"
    }
   ],
   "source": [
    "train.loc[(train[rid] == r).values.flatten()]"
   ]
  },
  {
   "cell_type": "code",
   "execution_count": 37,
   "metadata": {},
   "outputs": [
    {
     "data": {
      "text/html": [
       "<div>\n",
       "<style scoped>\n",
       "    .dataframe tbody tr th:only-of-type {\n",
       "        vertical-align: middle;\n",
       "    }\n",
       "\n",
       "    .dataframe tbody tr th {\n",
       "        vertical-align: top;\n",
       "    }\n",
       "\n",
       "    .dataframe thead th {\n",
       "        text-align: right;\n",
       "    }\n",
       "</style>\n",
       "<table border=\"1\" class=\"dataframe\">\n",
       "  <thead>\n",
       "    <tr style=\"text-align: right;\">\n",
       "      <th></th>\n",
       "      <th>train_id</th>\n",
       "      <th>item_condition_id</th>\n",
       "      <th>brand_name</th>\n",
       "      <th>shipping</th>\n",
       "      <th>main_cat</th>\n",
       "      <th>sub_cat1</th>\n",
       "      <th>sub_cat2</th>\n",
       "      <th>price</th>\n",
       "    </tr>\n",
       "  </thead>\n",
       "  <tbody>\n",
       "    <tr>\n",
       "      <th>468590</th>\n",
       "      <td>520714</td>\n",
       "      <td>3</td>\n",
       "      <td>Hollister</td>\n",
       "      <td>0</td>\n",
       "      <td>Women</td>\n",
       "      <td>Coats &amp; Jackets</td>\n",
       "      <td>Parka</td>\n",
       "      <td>3.555348</td>\n",
       "    </tr>\n",
       "  </tbody>\n",
       "</table>\n",
       "</div>"
      ],
      "text/plain": [
       "        train_id item_condition_id brand_name shipping main_cat  \\\n",
       "468590    520714                 3  Hollister        0    Women   \n",
       "\n",
       "               sub_cat1 sub_cat2     price  \n",
       "468590  Coats & Jackets    Parka  3.555348  "
      ]
     },
     "execution_count": 37,
     "metadata": {},
     "output_type": "execute_result"
    }
   ],
   "source": [
    "my_train.loc[(my_train[rid] == r).values.flatten()]"
   ]
  },
  {
   "cell_type": "markdown",
   "metadata": {},
   "source": [
    "### Write to disk"
   ]
  },
  {
   "cell_type": "markdown",
   "metadata": {},
   "source": [
    "Write each custom sub dataset to disk."
   ]
  },
  {
   "cell_type": "code",
   "execution_count": 38,
   "metadata": {
    "ExecuteTime": {
     "end_time": "2018-07-21T11:17:20.301159Z",
     "start_time": "2018-07-21T11:17:20.265098Z"
    }
   },
   "outputs": [
    {
     "data": {
      "text/plain": [
       "(148166,)"
      ]
     },
     "execution_count": 38,
     "metadata": {},
     "output_type": "execute_result"
    }
   ],
   "source": [
    "y_test.shape"
   ]
  },
  {
   "cell_type": "code",
   "execution_count": 39,
   "metadata": {},
   "outputs": [
    {
     "data": {
      "text/plain": [
       "(148166, 7)"
      ]
     },
     "execution_count": 39,
     "metadata": {},
     "output_type": "execute_result"
    }
   ],
   "source": [
    "my_test.shape"
   ]
  },
  {
   "cell_type": "code",
   "execution_count": 40,
   "metadata": {},
   "outputs": [
    {
     "data": {
      "text/plain": [
       "(1333495, 8)"
      ]
     },
     "execution_count": 40,
     "metadata": {},
     "output_type": "execute_result"
    }
   ],
   "source": [
    "my_train.shape"
   ]
  },
  {
   "cell_type": "code",
   "execution_count": 41,
   "metadata": {},
   "outputs": [
    {
     "data": {
      "text/plain": [
       "(1481661, 8)"
      ]
     },
     "execution_count": 41,
     "metadata": {},
     "output_type": "execute_result"
    }
   ],
   "source": [
    "train.shape"
   ]
  },
  {
   "cell_type": "code",
   "execution_count": 42,
   "metadata": {},
   "outputs": [
    {
     "data": {
      "text/plain": [
       "(693359, 7)"
      ]
     },
     "execution_count": 42,
     "metadata": {},
     "output_type": "execute_result"
    }
   ],
   "source": [
    "test.shape"
   ]
  },
  {
   "cell_type": "code",
   "execution_count": 43,
   "metadata": {},
   "outputs": [
    {
     "name": "stdout",
     "output_type": "stream",
     "text": [
      "<class 'pandas.core.frame.DataFrame'>\n",
      "RangeIndex: 1481661 entries, 0 to 1481660\n",
      "Data columns (total 8 columns):\n",
      "train_id             1481661 non-null int64\n",
      "item_condition_id    1481661 non-null object\n",
      "brand_name           1481661 non-null object\n",
      "shipping             1481661 non-null object\n",
      "main_cat             1481661 non-null object\n",
      "sub_cat1             1481661 non-null object\n",
      "sub_cat2             1481661 non-null object\n",
      "price                1481661 non-null float64\n",
      "dtypes: float64(1), int64(1), object(6)\n",
      "memory usage: 90.4+ MB\n"
     ]
    }
   ],
   "source": [
    "train.info()"
   ]
  },
  {
   "cell_type": "code",
   "execution_count": 44,
   "metadata": {
    "ExecuteTime": {
     "end_time": "2018-07-21T11:17:48.522992Z",
     "start_time": "2018-07-21T11:17:20.336589Z"
    }
   },
   "outputs": [],
   "source": [
    "train.to_feather(TMP_PATH/'train.fth')\n",
    "test.to_feather(TMP_PATH/'test.fth')"
   ]
  },
  {
   "cell_type": "markdown",
   "metadata": {
    "ExecuteTime": {
     "end_time": "2018-07-20T19:18:18.523570Z",
     "start_time": "2018-07-20T19:18:18.519856Z"
    }
   },
   "source": [
    "Write the dependent variable to disk for both test and training data."
   ]
  },
  {
   "cell_type": "code",
   "execution_count": 45,
   "metadata": {
    "ExecuteTime": {
     "end_time": "2018-07-21T11:17:48.770079Z",
     "start_time": "2018-07-21T11:17:48.525127Z"
    }
   },
   "outputs": [],
   "source": [
    "np.save(TMP_PATH/'y_test.npy', y_test)"
   ]
  },
  {
   "cell_type": "code",
   "execution_count": 46,
   "metadata": {
    "ExecuteTime": {
     "end_time": "2018-07-21T11:18:01.174095Z",
     "start_time": "2018-07-21T11:17:48.771562Z"
    }
   },
   "outputs": [],
   "source": [
    "my_train.to_feather(TMP_PATH/'my_train.fth')\n",
    "my_test.to_feather(TMP_PATH/'my_test.fth')"
   ]
  },
  {
   "cell_type": "code",
   "execution_count": 47,
   "metadata": {},
   "outputs": [],
   "source": [
    "assert train.columns.all() == my_train.columns.all()\n",
    "assert test.columns.all() == my_test.columns.all()"
   ]
  },
  {
   "cell_type": "code",
   "execution_count": null,
   "metadata": {},
   "outputs": [],
   "source": []
  },
  {
   "cell_type": "markdown",
   "metadata": {},
   "source": [
    "# Mercari Price Suggestion Challenge Structured Data"
   ]
  },
  {
   "cell_type": "markdown",
   "metadata": {
    "heading_collapsed": true
   },
   "source": [
    "## Introduction"
   ]
  },
  {
   "cell_type": "markdown",
   "metadata": {},
   "source": [
    "In this experiment, I consider all variables except `name` and `item_description` as part of the training features and label them as categorical (structured) data and create entity embeddings for them. This is part of the abalation study of how discarding `name` and `item_description` variables affects performance."
   ]
  },
  {
   "cell_type": "markdown",
   "metadata": {},
   "source": [
    "## Imports and Inits"
   ]
  },
  {
   "cell_type": "code",
   "execution_count": 1,
   "metadata": {
    "ExecuteTime": {
     "end_time": "2018-07-21T10:12:27.608528Z",
     "start_time": "2018-07-21T10:12:26.960364Z"
    }
   },
   "outputs": [],
   "source": [
    "%reload_ext autoreload\n",
    "%autoreload 2\n",
    "%matplotlib inline"
   ]
  },
  {
   "cell_type": "code",
   "execution_count": 2,
   "metadata": {
    "ExecuteTime": {
     "end_time": "2018-07-21T10:12:38.833680Z",
     "start_time": "2018-07-21T10:12:27.609872Z"
    }
   },
   "outputs": [
    {
     "name": "stderr",
     "output_type": "stream",
     "text": [
      "/home/ubuntu/anaconda3/envs/fastai/lib/python3.6/importlib/_bootstrap.py:219: RuntimeWarning: numpy.dtype size changed, may indicate binary incompatibility. Expected 96, got 88\n",
      "  return f(*args, **kwds)\n",
      "/home/ubuntu/anaconda3/envs/fastai/lib/python3.6/importlib/_bootstrap.py:219: RuntimeWarning: numpy.dtype size changed, may indicate binary incompatibility. Expected 96, got 88\n",
      "  return f(*args, **kwds)\n",
      "/home/ubuntu/anaconda3/envs/fastai/lib/python3.6/site-packages/sklearn/ensemble/weight_boosting.py:29: DeprecationWarning: numpy.core.umath_tests is an internal NumPy module and should not be imported. It will be removed in a future NumPy release.\n",
      "  from numpy.core.umath_tests import inner1d\n"
     ]
    }
   ],
   "source": [
    "from fastai.structured import *\n",
    "from fastai.column_data import *\n",
    "\n",
    "from sklearn.metrics import mean_squared_error\n",
    "\n",
    "import warnings\n",
    "warnings.filterwarnings(\"ignore\")\n",
    "\n",
    "torch.cuda.set_device(0)"
   ]
  },
  {
   "cell_type": "code",
   "execution_count": 3,
   "metadata": {},
   "outputs": [],
   "source": [
    "PATH='../data/intermediate/'"
   ]
  },
  {
   "cell_type": "code",
   "execution_count": 4,
   "metadata": {
    "ExecuteTime": {
     "end_time": "2018-07-21T10:12:38.892830Z",
     "start_time": "2018-07-21T10:12:38.836556Z"
    }
   },
   "outputs": [],
   "source": [
    "MODELS_PATH = '../models/'"
   ]
  },
  {
   "cell_type": "markdown",
   "metadata": {},
   "source": [
    "## My Definitions"
   ]
  },
  {
   "cell_type": "markdown",
   "metadata": {},
   "source": [
    "### Functions"
   ]
  },
  {
   "cell_type": "code",
   "execution_count": 5,
   "metadata": {
    "ExecuteTime": {
     "end_time": "2018-07-21T10:13:03.457614Z",
     "start_time": "2018-07-21T10:13:03.267352Z"
    }
   },
   "outputs": [],
   "source": [
    "def display_all(df):\n",
    "    with pd.option_context(\"display.max_rows\", 1000, \"display.max_columns\", 1000): \n",
    "        display(df)\n",
    "        \n",
    "def rmsle(y_pred, targ):\n",
    "    '''Root Mean Squared Logarithmic Error'''\n",
    "    return np.sqrt(np.mean((np.log1p(y_pred) - np.log1p(targ))**2))\n",
    "        \n",
    "def RMSE(preds, targs):\n",
    "    assert(len(preds) == len(targs))\n",
    "    return np.sqrt(mean_squared_error(targs, preds))    "
   ]
  },
  {
   "cell_type": "markdown",
   "metadata": {},
   "source": [
    "Total number of epochs formula from [here](http://forums.fast.ai/t/n-epochs-cycle-len-cycle-mult-n-cycles/19106)\n",
    "\n",
    "$n\\_epochs = cycle\\_len \\cdot (1 + cycle\\_mult + cycle\\_mult^{2} + \\cdots + cycle\\_mult^{(n_{cycles}-1)})$"
   ]
  },
  {
   "cell_type": "code",
   "execution_count": 6,
   "metadata": {
    "ExecuteTime": {
     "end_time": "2018-07-21T10:13:04.567337Z",
     "start_time": "2018-07-21T10:13:04.490416Z"
    }
   },
   "outputs": [],
   "source": [
    "def get_epochs(n_cycle, cycle_len, cycle_mult):\n",
    "    n_epochs = 0\n",
    "    for cycle in range(n_cycle):\n",
    "        n_epochs += cycle_mult ** cycle\n",
    "    \n",
    "    return cycle_len * n_epochs"
   ]
  },
  {
   "cell_type": "markdown",
   "metadata": {},
   "source": [
    "## Load data and get validation indices"
   ]
  },
  {
   "cell_type": "code",
   "execution_count": 7,
   "metadata": {},
   "outputs": [],
   "source": [
    "IS_SAMP = False"
   ]
  },
  {
   "cell_type": "code",
   "execution_count": 8,
   "metadata": {},
   "outputs": [
    {
     "name": "stdout",
     "output_type": "stream",
     "text": [
      "/home/ubuntu/mercari/notebooks\r\n"
     ]
    }
   ],
   "source": [
    "! pwd"
   ]
  },
  {
   "cell_type": "code",
   "execution_count": 9,
   "metadata": {},
   "outputs": [],
   "source": [
    "# X_train = pd.read_feather(f'{PATH}/my_train.fth')\n",
    "# X_test = pd.read_feather(f'{PATH}/my_test.fth')\n",
    "X_train = pd.read_feather(f'{PATH}/train.fth')\n",
    "X_test = pd.read_feather(f'{PATH}/test.fth')\n",
    "y_test = np.load(f'{PATH}/y_test.npy')"
   ]
  },
  {
   "cell_type": "code",
   "execution_count": 10,
   "metadata": {},
   "outputs": [
    {
     "data": {
      "text/plain": [
       "(1481661, 8)"
      ]
     },
     "execution_count": 10,
     "metadata": {},
     "output_type": "execute_result"
    }
   ],
   "source": [
    "X_train.shape"
   ]
  },
  {
   "cell_type": "code",
   "execution_count": 11,
   "metadata": {},
   "outputs": [
    {
     "data": {
      "text/plain": [
       "(693359, 7)"
      ]
     },
     "execution_count": 11,
     "metadata": {},
     "output_type": "execute_result"
    }
   ],
   "source": [
    "X_test.shape"
   ]
  },
  {
   "cell_type": "code",
   "execution_count": 12,
   "metadata": {},
   "outputs": [
    {
     "data": {
      "text/plain": [
       "(148166,)"
      ]
     },
     "execution_count": 12,
     "metadata": {},
     "output_type": "execute_result"
    }
   ],
   "source": [
    "y_test.shape"
   ]
  },
  {
   "cell_type": "code",
   "execution_count": 13,
   "metadata": {},
   "outputs": [
    {
     "data": {
      "text/html": [
       "<div>\n",
       "<style scoped>\n",
       "    .dataframe tbody tr th:only-of-type {\n",
       "        vertical-align: middle;\n",
       "    }\n",
       "\n",
       "    .dataframe tbody tr th {\n",
       "        vertical-align: top;\n",
       "    }\n",
       "\n",
       "    .dataframe thead th {\n",
       "        text-align: right;\n",
       "    }\n",
       "</style>\n",
       "<table border=\"1\" class=\"dataframe\">\n",
       "  <thead>\n",
       "    <tr style=\"text-align: right;\">\n",
       "      <th></th>\n",
       "      <th>0</th>\n",
       "      <th>1</th>\n",
       "      <th>2</th>\n",
       "      <th>3</th>\n",
       "      <th>4</th>\n",
       "    </tr>\n",
       "  </thead>\n",
       "  <tbody>\n",
       "    <tr>\n",
       "      <th>train_id</th>\n",
       "      <td>0</td>\n",
       "      <td>1</td>\n",
       "      <td>2</td>\n",
       "      <td>3</td>\n",
       "      <td>4</td>\n",
       "    </tr>\n",
       "    <tr>\n",
       "      <th>item_condition_id</th>\n",
       "      <td>3</td>\n",
       "      <td>3</td>\n",
       "      <td>1</td>\n",
       "      <td>1</td>\n",
       "      <td>1</td>\n",
       "    </tr>\n",
       "    <tr>\n",
       "      <th>brand_name</th>\n",
       "      <td>missing</td>\n",
       "      <td>Razer</td>\n",
       "      <td>Target</td>\n",
       "      <td>missing</td>\n",
       "      <td>missing</td>\n",
       "    </tr>\n",
       "    <tr>\n",
       "      <th>shipping</th>\n",
       "      <td>1</td>\n",
       "      <td>0</td>\n",
       "      <td>1</td>\n",
       "      <td>1</td>\n",
       "      <td>0</td>\n",
       "    </tr>\n",
       "    <tr>\n",
       "      <th>main_cat</th>\n",
       "      <td>Men</td>\n",
       "      <td>Electronics</td>\n",
       "      <td>Women</td>\n",
       "      <td>Home</td>\n",
       "      <td>Women</td>\n",
       "    </tr>\n",
       "    <tr>\n",
       "      <th>sub_cat1</th>\n",
       "      <td>Tops</td>\n",
       "      <td>Computers &amp; Tablets</td>\n",
       "      <td>Tops &amp; Blouses</td>\n",
       "      <td>Home Décor</td>\n",
       "      <td>Jewelry</td>\n",
       "    </tr>\n",
       "    <tr>\n",
       "      <th>sub_cat2</th>\n",
       "      <td>T-shirts</td>\n",
       "      <td>Components &amp; Parts</td>\n",
       "      <td>Blouse</td>\n",
       "      <td>Home Décor Accents</td>\n",
       "      <td>Necklaces</td>\n",
       "    </tr>\n",
       "    <tr>\n",
       "      <th>price</th>\n",
       "      <td>2.3979</td>\n",
       "      <td>3.97029</td>\n",
       "      <td>2.3979</td>\n",
       "      <td>3.58352</td>\n",
       "      <td>3.80666</td>\n",
       "    </tr>\n",
       "  </tbody>\n",
       "</table>\n",
       "</div>"
      ],
      "text/plain": [
       "                          0                    1               2  \\\n",
       "train_id                  0                    1               2   \n",
       "item_condition_id         3                    3               1   \n",
       "brand_name          missing                Razer          Target   \n",
       "shipping                  1                    0               1   \n",
       "main_cat                Men          Electronics           Women   \n",
       "sub_cat1               Tops  Computers & Tablets  Tops & Blouses   \n",
       "sub_cat2           T-shirts   Components & Parts          Blouse   \n",
       "price                2.3979              3.97029          2.3979   \n",
       "\n",
       "                                    3          4  \n",
       "train_id                            3          4  \n",
       "item_condition_id                   1          1  \n",
       "brand_name                    missing    missing  \n",
       "shipping                            1          0  \n",
       "main_cat                         Home      Women  \n",
       "sub_cat1                   Home Décor    Jewelry  \n",
       "sub_cat2           Home Décor Accents  Necklaces  \n",
       "price                         3.58352    3.80666  "
      ]
     },
     "execution_count": 13,
     "metadata": {},
     "output_type": "execute_result"
    }
   ],
   "source": [
    "X_train.head().T"
   ]
  },
  {
   "cell_type": "code",
   "execution_count": 14,
   "metadata": {},
   "outputs": [
    {
     "data": {
      "text/html": [
       "<div>\n",
       "<style scoped>\n",
       "    .dataframe tbody tr th:only-of-type {\n",
       "        vertical-align: middle;\n",
       "    }\n",
       "\n",
       "    .dataframe tbody tr th {\n",
       "        vertical-align: top;\n",
       "    }\n",
       "\n",
       "    .dataframe thead th {\n",
       "        text-align: right;\n",
       "    }\n",
       "</style>\n",
       "<table border=\"1\" class=\"dataframe\">\n",
       "  <thead>\n",
       "    <tr style=\"text-align: right;\">\n",
       "      <th></th>\n",
       "      <th>0</th>\n",
       "      <th>1</th>\n",
       "      <th>2</th>\n",
       "      <th>3</th>\n",
       "      <th>4</th>\n",
       "    </tr>\n",
       "  </thead>\n",
       "  <tbody>\n",
       "    <tr>\n",
       "      <th>train_id</th>\n",
       "      <td>0</td>\n",
       "      <td>1</td>\n",
       "      <td>2</td>\n",
       "      <td>3</td>\n",
       "      <td>4</td>\n",
       "    </tr>\n",
       "    <tr>\n",
       "      <th>item_condition_id</th>\n",
       "      <td>1</td>\n",
       "      <td>1</td>\n",
       "      <td>1</td>\n",
       "      <td>2</td>\n",
       "      <td>3</td>\n",
       "    </tr>\n",
       "    <tr>\n",
       "      <th>brand_name</th>\n",
       "      <td>missing</td>\n",
       "      <td>missing</td>\n",
       "      <td>Coach</td>\n",
       "      <td>missing</td>\n",
       "      <td>missing</td>\n",
       "    </tr>\n",
       "    <tr>\n",
       "      <th>shipping</th>\n",
       "      <td>1</td>\n",
       "      <td>1</td>\n",
       "      <td>1</td>\n",
       "      <td>0</td>\n",
       "      <td>1</td>\n",
       "    </tr>\n",
       "    <tr>\n",
       "      <th>main_cat</th>\n",
       "      <td>Women</td>\n",
       "      <td>Other</td>\n",
       "      <td>Vintage &amp; Collectibles</td>\n",
       "      <td>Women</td>\n",
       "      <td>Other</td>\n",
       "    </tr>\n",
       "    <tr>\n",
       "      <th>sub_cat1</th>\n",
       "      <td>Jewelry</td>\n",
       "      <td>Office supplies</td>\n",
       "      <td>Bags and Purses</td>\n",
       "      <td>Sweaters</td>\n",
       "      <td>Books</td>\n",
       "    </tr>\n",
       "    <tr>\n",
       "      <th>sub_cat2</th>\n",
       "      <td>Rings</td>\n",
       "      <td>Shipping Supplies</td>\n",
       "      <td>Handbag</td>\n",
       "      <td>Cardigan</td>\n",
       "      <td>Religion &amp; Spirituality</td>\n",
       "    </tr>\n",
       "  </tbody>\n",
       "</table>\n",
       "</div>"
      ],
      "text/plain": [
       "                         0                  1                       2  \\\n",
       "train_id                 0                  1                       2   \n",
       "item_condition_id        1                  1                       1   \n",
       "brand_name         missing            missing                   Coach   \n",
       "shipping                 1                  1                       1   \n",
       "main_cat             Women              Other  Vintage & Collectibles   \n",
       "sub_cat1           Jewelry    Office supplies         Bags and Purses   \n",
       "sub_cat2             Rings  Shipping Supplies                 Handbag   \n",
       "\n",
       "                          3                        4  \n",
       "train_id                  3                        4  \n",
       "item_condition_id         2                        3  \n",
       "brand_name          missing                  missing  \n",
       "shipping                  0                        1  \n",
       "main_cat              Women                    Other  \n",
       "sub_cat1           Sweaters                    Books  \n",
       "sub_cat2           Cardigan  Religion & Spirituality  "
      ]
     },
     "execution_count": 14,
     "metadata": {},
     "output_type": "execute_result"
    }
   ],
   "source": [
    "X_test.head().T"
   ]
  },
  {
   "cell_type": "code",
   "execution_count": 15,
   "metadata": {},
   "outputs": [],
   "source": [
    "X_train.set_index('train_id', inplace=True)\n",
    "X_test.set_index('train_id', inplace=True)"
   ]
  },
  {
   "cell_type": "code",
   "execution_count": 16,
   "metadata": {},
   "outputs": [
    {
     "data": {
      "text/html": [
       "<div>\n",
       "<style scoped>\n",
       "    .dataframe tbody tr th:only-of-type {\n",
       "        vertical-align: middle;\n",
       "    }\n",
       "\n",
       "    .dataframe tbody tr th {\n",
       "        vertical-align: top;\n",
       "    }\n",
       "\n",
       "    .dataframe thead th {\n",
       "        text-align: right;\n",
       "    }\n",
       "</style>\n",
       "<table border=\"1\" class=\"dataframe\">\n",
       "  <thead>\n",
       "    <tr style=\"text-align: right;\">\n",
       "      <th></th>\n",
       "      <th>item_condition_id</th>\n",
       "      <th>brand_name</th>\n",
       "      <th>shipping</th>\n",
       "      <th>main_cat</th>\n",
       "      <th>sub_cat1</th>\n",
       "      <th>sub_cat2</th>\n",
       "      <th>price</th>\n",
       "    </tr>\n",
       "    <tr>\n",
       "      <th>train_id</th>\n",
       "      <th></th>\n",
       "      <th></th>\n",
       "      <th></th>\n",
       "      <th></th>\n",
       "      <th></th>\n",
       "      <th></th>\n",
       "      <th></th>\n",
       "    </tr>\n",
       "  </thead>\n",
       "  <tbody>\n",
       "    <tr>\n",
       "      <th>0</th>\n",
       "      <td>3</td>\n",
       "      <td>missing</td>\n",
       "      <td>1</td>\n",
       "      <td>Men</td>\n",
       "      <td>Tops</td>\n",
       "      <td>T-shirts</td>\n",
       "      <td>2.397895</td>\n",
       "    </tr>\n",
       "    <tr>\n",
       "      <th>1</th>\n",
       "      <td>3</td>\n",
       "      <td>Razer</td>\n",
       "      <td>0</td>\n",
       "      <td>Electronics</td>\n",
       "      <td>Computers &amp; Tablets</td>\n",
       "      <td>Components &amp; Parts</td>\n",
       "      <td>3.970292</td>\n",
       "    </tr>\n",
       "    <tr>\n",
       "      <th>2</th>\n",
       "      <td>1</td>\n",
       "      <td>Target</td>\n",
       "      <td>1</td>\n",
       "      <td>Women</td>\n",
       "      <td>Tops &amp; Blouses</td>\n",
       "      <td>Blouse</td>\n",
       "      <td>2.397895</td>\n",
       "    </tr>\n",
       "    <tr>\n",
       "      <th>3</th>\n",
       "      <td>1</td>\n",
       "      <td>missing</td>\n",
       "      <td>1</td>\n",
       "      <td>Home</td>\n",
       "      <td>Home Décor</td>\n",
       "      <td>Home Décor Accents</td>\n",
       "      <td>3.583519</td>\n",
       "    </tr>\n",
       "    <tr>\n",
       "      <th>4</th>\n",
       "      <td>1</td>\n",
       "      <td>missing</td>\n",
       "      <td>0</td>\n",
       "      <td>Women</td>\n",
       "      <td>Jewelry</td>\n",
       "      <td>Necklaces</td>\n",
       "      <td>3.806662</td>\n",
       "    </tr>\n",
       "  </tbody>\n",
       "</table>\n",
       "</div>"
      ],
      "text/plain": [
       "         item_condition_id brand_name shipping     main_cat  \\\n",
       "train_id                                                      \n",
       "0                        3    missing        1          Men   \n",
       "1                        3      Razer        0  Electronics   \n",
       "2                        1     Target        1        Women   \n",
       "3                        1    missing        1         Home   \n",
       "4                        1    missing        0        Women   \n",
       "\n",
       "                     sub_cat1            sub_cat2     price  \n",
       "train_id                                                     \n",
       "0                        Tops            T-shirts  2.397895  \n",
       "1         Computers & Tablets  Components & Parts  3.970292  \n",
       "2              Tops & Blouses              Blouse  2.397895  \n",
       "3                  Home Décor  Home Décor Accents  3.583519  \n",
       "4                     Jewelry           Necklaces  3.806662  "
      ]
     },
     "execution_count": 16,
     "metadata": {},
     "output_type": "execute_result"
    }
   ],
   "source": [
    "X_train.head()"
   ]
  },
  {
   "cell_type": "code",
   "execution_count": 17,
   "metadata": {},
   "outputs": [
    {
     "data": {
      "text/plain": [
       "0.0674918216785081"
      ]
     },
     "execution_count": 17,
     "metadata": {},
     "output_type": "execute_result"
    }
   ],
   "source": [
    "100_000/len(X_train)"
   ]
  },
  {
   "cell_type": "code",
   "execution_count": 18,
   "metadata": {
    "ExecuteTime": {
     "end_time": "2018-07-18T13:46:10.983617Z",
     "start_time": "2018-07-18T13:46:10.960609Z"
    }
   },
   "outputs": [],
   "source": [
    "# if IS_SAMP:\n",
    "#     samp_idxs = get_cv_idxs(len(X_train), val_pct=100_000/len(X_train))\n",
    "#     X_train = X_train.iloc[samp_idxs]"
   ]
  },
  {
   "cell_type": "markdown",
   "metadata": {},
   "source": [
    "#### Change any columns of strings in a panda's dataframe to a column of categorical values. Apply changes inplace."
   ]
  },
  {
   "cell_type": "code",
   "execution_count": 19,
   "metadata": {
    "ExecuteTime": {
     "end_time": "2018-07-21T10:15:27.897504Z",
     "start_time": "2018-07-21T10:15:27.653116Z"
    }
   },
   "outputs": [],
   "source": [
    "train_cats(X_train) \n",
    "apply_cats(X_test, X_train)"
   ]
  },
  {
   "cell_type": "code",
   "execution_count": 20,
   "metadata": {
    "ExecuteTime": {
     "end_time": "2018-07-21T10:17:34.798244Z",
     "start_time": "2018-07-21T10:17:34.494072Z"
    }
   },
   "outputs": [],
   "source": [
    "df_train, y_train, nas = proc_df(X_train, 'price')\n",
    "df_test, _, nas = proc_df(X_test, na_dict=nas)"
   ]
  },
  {
   "cell_type": "code",
   "execution_count": 21,
   "metadata": {
    "ExecuteTime": {
     "end_time": "2018-07-21T10:14:29.929639Z",
     "start_time": "2018-07-21T10:14:29.677084Z"
    }
   },
   "outputs": [],
   "source": [
    "val_idxs = get_cv_idxs(len(df_train), val_pct=0.15, seed=None)\n",
    "y_range = (0, np.max(y_train) * 1.5)"
   ]
  },
  {
   "cell_type": "code",
   "execution_count": 22,
   "metadata": {},
   "outputs": [
    {
     "data": {
      "text/plain": [
       "(0, 11.408835001579682)"
      ]
     },
     "execution_count": 22,
     "metadata": {},
     "output_type": "execute_result"
    }
   ],
   "source": [
    "y_range"
   ]
  },
  {
   "cell_type": "code",
   "execution_count": 23,
   "metadata": {},
   "outputs": [
    {
     "data": {
      "text/plain": [
       "(1481661, 693359, 222249, 1481661)"
      ]
     },
     "execution_count": 23,
     "metadata": {},
     "output_type": "execute_result"
    }
   ],
   "source": [
    "len(df_train), len(df_test), len(val_idxs), len(y_train)"
   ]
  },
  {
   "cell_type": "code",
   "execution_count": 24,
   "metadata": {},
   "outputs": [
    {
     "data": {
      "text/plain": [
       "((1481661, 6), (693359, 6))"
      ]
     },
     "execution_count": 24,
     "metadata": {},
     "output_type": "execute_result"
    }
   ],
   "source": [
    "df_train.shape, df_test.shape"
   ]
  },
  {
   "cell_type": "markdown",
   "metadata": {},
   "source": [
    "## DL Model"
   ]
  },
  {
   "cell_type": "code",
   "execution_count": 25,
   "metadata": {},
   "outputs": [
    {
     "data": {
      "text/plain": [
       "Index(['item_condition_id', 'brand_name', 'shipping', 'main_cat', 'sub_cat1',\n",
       "       'sub_cat2', 'price'],\n",
       "      dtype='object')"
      ]
     },
     "execution_count": 25,
     "metadata": {},
     "output_type": "execute_result"
    }
   ],
   "source": [
    "X_train.columns"
   ]
  },
  {
   "cell_type": "code",
   "execution_count": 26,
   "metadata": {},
   "outputs": [
    {
     "data": {
      "text/html": [
       "<div>\n",
       "<style scoped>\n",
       "    .dataframe tbody tr th:only-of-type {\n",
       "        vertical-align: middle;\n",
       "    }\n",
       "\n",
       "    .dataframe tbody tr th {\n",
       "        vertical-align: top;\n",
       "    }\n",
       "\n",
       "    .dataframe thead th {\n",
       "        text-align: right;\n",
       "    }\n",
       "</style>\n",
       "<table border=\"1\" class=\"dataframe\">\n",
       "  <thead>\n",
       "    <tr style=\"text-align: right;\">\n",
       "      <th></th>\n",
       "      <th>item_condition_id</th>\n",
       "      <th>brand_name</th>\n",
       "      <th>shipping</th>\n",
       "      <th>main_cat</th>\n",
       "      <th>sub_cat1</th>\n",
       "      <th>sub_cat2</th>\n",
       "      <th>price</th>\n",
       "    </tr>\n",
       "    <tr>\n",
       "      <th>train_id</th>\n",
       "      <th></th>\n",
       "      <th></th>\n",
       "      <th></th>\n",
       "      <th></th>\n",
       "      <th></th>\n",
       "      <th></th>\n",
       "      <th></th>\n",
       "    </tr>\n",
       "  </thead>\n",
       "  <tbody>\n",
       "    <tr>\n",
       "      <th>0</th>\n",
       "      <td>3</td>\n",
       "      <td>missing</td>\n",
       "      <td>1</td>\n",
       "      <td>Men</td>\n",
       "      <td>Tops</td>\n",
       "      <td>T-shirts</td>\n",
       "      <td>2.397895</td>\n",
       "    </tr>\n",
       "    <tr>\n",
       "      <th>1</th>\n",
       "      <td>3</td>\n",
       "      <td>Razer</td>\n",
       "      <td>0</td>\n",
       "      <td>Electronics</td>\n",
       "      <td>Computers &amp; Tablets</td>\n",
       "      <td>Components &amp; Parts</td>\n",
       "      <td>3.970292</td>\n",
       "    </tr>\n",
       "    <tr>\n",
       "      <th>2</th>\n",
       "      <td>1</td>\n",
       "      <td>Target</td>\n",
       "      <td>1</td>\n",
       "      <td>Women</td>\n",
       "      <td>Tops &amp; Blouses</td>\n",
       "      <td>Blouse</td>\n",
       "      <td>2.397895</td>\n",
       "    </tr>\n",
       "    <tr>\n",
       "      <th>3</th>\n",
       "      <td>1</td>\n",
       "      <td>missing</td>\n",
       "      <td>1</td>\n",
       "      <td>Home</td>\n",
       "      <td>Home Décor</td>\n",
       "      <td>Home Décor Accents</td>\n",
       "      <td>3.583519</td>\n",
       "    </tr>\n",
       "    <tr>\n",
       "      <th>4</th>\n",
       "      <td>1</td>\n",
       "      <td>missing</td>\n",
       "      <td>0</td>\n",
       "      <td>Women</td>\n",
       "      <td>Jewelry</td>\n",
       "      <td>Necklaces</td>\n",
       "      <td>3.806662</td>\n",
       "    </tr>\n",
       "  </tbody>\n",
       "</table>\n",
       "</div>"
      ],
      "text/plain": [
       "         item_condition_id brand_name shipping     main_cat  \\\n",
       "train_id                                                      \n",
       "0                        3    missing        1          Men   \n",
       "1                        3      Razer        0  Electronics   \n",
       "2                        1     Target        1        Women   \n",
       "3                        1    missing        1         Home   \n",
       "4                        1    missing        0        Women   \n",
       "\n",
       "                     sub_cat1            sub_cat2     price  \n",
       "train_id                                                     \n",
       "0                        Tops            T-shirts  2.397895  \n",
       "1         Computers & Tablets  Components & Parts  3.970292  \n",
       "2              Tops & Blouses              Blouse  2.397895  \n",
       "3                  Home Décor  Home Décor Accents  3.583519  \n",
       "4                     Jewelry           Necklaces  3.806662  "
      ]
     },
     "execution_count": 26,
     "metadata": {},
     "output_type": "execute_result"
    }
   ],
   "source": [
    "X_train.head()"
   ]
  },
  {
   "cell_type": "markdown",
   "metadata": {},
   "source": [
    "### Experimenting"
   ]
  },
  {
   "cell_type": "code",
   "execution_count": 27,
   "metadata": {
    "ExecuteTime": {
     "end_time": "2018-07-21T10:14:33.508380Z",
     "start_time": "2018-07-21T10:14:33.194657Z"
    }
   },
   "outputs": [
    {
     "data": {
      "text/plain": [
       "[('item_condition_id', 6),\n",
       " ('brand_name', 4809),\n",
       " ('shipping', 3),\n",
       " ('main_cat', 12),\n",
       " ('sub_cat1', 115),\n",
       " ('sub_cat2', 872)]"
      ]
     },
     "execution_count": 27,
     "metadata": {},
     "output_type": "execute_result"
    }
   ],
   "source": [
    "cat_vars = ['item_condition_id', 'brand_name', 'shipping', 'main_cat', 'sub_cat1', 'sub_cat2']\n",
    "\n",
    "cat_sz = [(c, len(X_train[c].cat.categories)+1) for c in cat_vars]\n",
    "cat_sz"
   ]
  },
  {
   "cell_type": "code",
   "execution_count": 28,
   "metadata": {},
   "outputs": [
    {
     "data": {
      "text/plain": [
       "[(6, 3), (4809, 50), (3, 2), (12, 6), (115, 50), (872, 50)]"
      ]
     },
     "execution_count": 28,
     "metadata": {},
     "output_type": "execute_result"
    }
   ],
   "source": [
    "emb_szs = [(c, min(50, (c+1)//2)) for _,c in cat_sz]\n",
    "emb_szs"
   ]
  },
  {
   "cell_type": "code",
   "execution_count": 29,
   "metadata": {
    "ExecuteTime": {
     "end_time": "2018-07-18T12:32:49.257389Z",
     "start_time": "2018-07-18T12:32:49.090540Z"
    }
   },
   "outputs": [],
   "source": [
    "md = ColumnarModelData.from_data_frame(MODELS_PATH, \n",
    "                                       val_idxs, \n",
    "                                       df_train,\n",
    "                                       y_train.astype(np.float32),\n",
    "                                       cat_flds=cat_vars,\n",
    "                                       bs=128, \n",
    "                                       test_df=df_test)"
   ]
  },
  {
   "cell_type": "code",
   "execution_count": 30,
   "metadata": {
    "ExecuteTime": {
     "end_time": "2018-07-18T12:12:21.020541Z",
     "start_time": "2018-07-18T12:12:11.901956Z"
    }
   },
   "outputs": [],
   "source": [
    "m = md.get_learner(emb_szs,\n",
    "                   n_cont=0,\n",
    "                   emb_drop=0.04,\n",
    "                   out_sz=1,\n",
    "                   szs=[1000, 500],\n",
    "                   drops=[0.001, 0.01],\n",
    "                   y_range=y_range)"
   ]
  },
  {
   "cell_type": "code",
   "execution_count": 31,
   "metadata": {
    "ExecuteTime": {
     "end_time": "2018-07-18T12:14:19.442829Z",
     "start_time": "2018-07-18T12:12:21.022642Z"
    }
   },
   "outputs": [
    {
     "data": {
      "application/vnd.jupyter.widget-view+json": {
       "model_id": "414b6246f9a74ddb8fde23c1090f3574",
       "version_major": 2,
       "version_minor": 0
      },
      "text/plain": [
       "HBox(children=(IntProgress(value=0, description='Epoch', max=1), HTML(value='')))"
      ]
     },
     "metadata": {},
     "output_type": "display_data"
    },
    {
     "name": "stdout",
     "output_type": "stream",
     "text": [
      " 65%|██████▌   | 6404/9840 [00:40<00:21, 158.52it/s, loss=0.661]CPU times: user 40.1 s, sys: 4.04 s, total: 44.2 s\n",
      "Wall time: 40.6 s\n"
     ]
    }
   ],
   "source": [
    "%%time\n",
    "m.lr_find()"
   ]
  },
  {
   "cell_type": "code",
   "execution_count": 32,
   "metadata": {},
   "outputs": [
    {
     "data": {
      "image/png": "[encoded data removed]",
      "text/plain": [
       "<Figure size 432x288 with 1 Axes>"
      ]
     },
     "metadata": {},
     "output_type": "display_data"
    }
   ],
   "source": [
    "m.sched.plot(1000)"
   ]
  },
  {
   "cell_type": "code",
   "execution_count": 33,
   "metadata": {
    "ExecuteTime": {
     "end_time": "2018-07-18T12:14:19.683292Z",
     "start_time": "2018-07-18T12:14:19.444309Z"
    }
   },
   "outputs": [],
   "source": [
    "lr=1e-3"
   ]
  },
  {
   "cell_type": "code",
   "execution_count": 38,
   "metadata": {},
   "outputs": [],
   "source": [
    "# bk = PlotDLTraining(m)"
   ]
  },
  {
   "cell_type": "code",
   "execution_count": 39,
   "metadata": {
    "ExecuteTime": {
     "end_time": "2018-07-18T12:24:32.539891Z",
     "start_time": "2018-07-18T12:14:19.684514Z"
    },
    "scrolled": false
   },
   "outputs": [
    {
     "data": {
      "application/vnd.jupyter.widget-view+json": {
       "model_id": "8dfc358f39d8441eb3193db04e2ead3b",
       "version_major": 2,
       "version_minor": 0
      },
      "text/plain": [
       "HBox(children=(IntProgress(value=0, description='Epoch', max=4), HTML(value='')))"
      ]
     },
     "metadata": {},
     "output_type": "display_data"
    },
    {
     "name": "stdout",
     "output_type": "stream",
     "text": [
      "epoch      trn_loss   val_loss   RMSE                           \n",
      "    0      0.304084   0.308679   0.554537  \n",
      "    1      0.308019   0.305189   0.551351                       \n",
      "    2      0.29678    0.30178    0.548248                       \n",
      "    3      0.301146   0.308438   0.55418                        \n",
      "CPU times: user 4min 22s, sys: 26.3 s, total: 4min 48s\n",
      "Wall time: 4min 23s\n"
     ]
    },
    {
     "data": {
      "text/plain": [
       "[array([0.30844]), 0.5541798955746016]"
      ]
     },
     "execution_count": 39,
     "metadata": {},
     "output_type": "execute_result"
    }
   ],
   "source": [
    "%%time\n",
    "m.fit(lr, n_cycle=4, metrics=[RMSE], best_save_name='mercari_best')"
   ]
  },
  {
   "cell_type": "code",
   "execution_count": 40,
   "metadata": {},
   "outputs": [
    {
     "data": {
      "text/plain": [
       "OrderedDict([('Embedding-1',\n",
       "              OrderedDict([('input_shape', [-1]),\n",
       "                           ('output_shape', [-1, 3]),\n",
       "                           ('trainable', True),\n",
       "                           ('nb_params', 18)])),\n",
       "             ('Embedding-2',\n",
       "              OrderedDict([('input_shape', [-1]),\n",
       "                           ('output_shape', [-1, 50]),\n",
       "                           ('trainable', True),\n",
       "                           ('nb_params', 240450)])),\n",
       "             ('Embedding-3',\n",
       "              OrderedDict([('input_shape', [-1]),\n",
       "                           ('output_shape', [-1, 2]),\n",
       "                           ('trainable', True),\n",
       "                           ('nb_params', 6)])),\n",
       "             ('Embedding-4',\n",
       "              OrderedDict([('input_shape', [-1]),\n",
       "                           ('output_shape', [-1, 6]),\n",
       "                           ('trainable', True),\n",
       "                           ('nb_params', 72)])),\n",
       "             ('Embedding-5',\n",
       "              OrderedDict([('input_shape', [-1]),\n",
       "                           ('output_shape', [-1, 50]),\n",
       "                           ('trainable', True),\n",
       "                           ('nb_params', 5750)])),\n",
       "             ('Embedding-6',\n",
       "              OrderedDict([('input_shape', [-1]),\n",
       "                           ('output_shape', [-1, 50]),\n",
       "                           ('trainable', True),\n",
       "                           ('nb_params', 43600)])),\n",
       "             ('Dropout-7',\n",
       "              OrderedDict([('input_shape', [-1, 161]),\n",
       "                           ('output_shape', [-1, 161]),\n",
       "                           ('nb_params', 0)])),\n",
       "             ('Linear-8',\n",
       "              OrderedDict([('input_shape', [-1, 161]),\n",
       "                           ('output_shape', [-1, 1000]),\n",
       "                           ('trainable', True),\n",
       "                           ('nb_params', 162000)])),\n",
       "             ('Dropout-9',\n",
       "              OrderedDict([('input_shape', [-1, 1000]),\n",
       "                           ('output_shape', [-1, 1000]),\n",
       "                           ('nb_params', 0)])),\n",
       "             ('Linear-10',\n",
       "              OrderedDict([('input_shape', [-1, 1000]),\n",
       "                           ('output_shape', [-1, 500]),\n",
       "                           ('trainable', True),\n",
       "                           ('nb_params', 500500)])),\n",
       "             ('Dropout-11',\n",
       "              OrderedDict([('input_shape', [-1, 500]),\n",
       "                           ('output_shape', [-1, 500]),\n",
       "                           ('nb_params', 0)])),\n",
       "             ('Linear-12',\n",
       "              OrderedDict([('input_shape', [-1, 500]),\n",
       "                           ('output_shape', [-1, 1]),\n",
       "                           ('trainable', True),\n",
       "                           ('nb_params', 501)]))])"
      ]
     },
     "execution_count": 40,
     "metadata": {},
     "output_type": "execute_result"
    }
   ],
   "source": [
    "m.summary()"
   ]
  },
  {
   "cell_type": "code",
   "execution_count": 41,
   "metadata": {},
   "outputs": [],
   "source": [
    "m.save(f'{MODELS_PATH}/m0')"
   ]
  },
  {
   "cell_type": "code",
   "execution_count": 42,
   "metadata": {},
   "outputs": [],
   "source": [
    "m.load(f'{MODELS_PATH}/m0')"
   ]
  },
  {
   "cell_type": "code",
   "execution_count": 43,
   "metadata": {},
   "outputs": [],
   "source": [
    "x,y=m.predict_with_targs()"
   ]
  },
  {
   "cell_type": "code",
   "execution_count": 44,
   "metadata": {},
   "outputs": [
    {
     "data": {
      "text/plain": [
       "0.55537164"
      ]
     },
     "execution_count": 44,
     "metadata": {},
     "output_type": "execute_result"
    }
   ],
   "source": [
    "RMSE(x,y)"
   ]
  },
  {
   "cell_type": "code",
   "execution_count": 45,
   "metadata": {},
   "outputs": [],
   "source": [
    "pred_test=m.predict(is_test=True)"
   ]
  },
  {
   "cell_type": "code",
   "execution_count": 46,
   "metadata": {},
   "outputs": [
    {
     "data": {
      "text/plain": [
       "(693359, 1)"
      ]
     },
     "execution_count": 46,
     "metadata": {},
     "output_type": "execute_result"
    }
   ],
   "source": [
    "pred_test.shape"
   ]
  },
  {
   "cell_type": "code",
   "execution_count": 54,
   "metadata": {},
   "outputs": [],
   "source": [
    "submission = pd.DataFrame(pred_test).reset_index()"
   ]
  },
  {
   "cell_type": "code",
   "execution_count": 58,
   "metadata": {},
   "outputs": [],
   "source": [
    "submission.columns = ['test_id', 'price']"
   ]
  },
  {
   "cell_type": "code",
   "execution_count": 78,
   "metadata": {},
   "outputs": [
    {
     "data": {
      "image/png": "[encoded data removed]",
      "text/plain": [
       "<Figure size 432x288 with 1 Axes>"
      ]
     },
     "metadata": {},
     "output_type": "display_data"
    }
   ],
   "source": [
    "ax = sns.distplot(submission['price'])\n",
    "sns.distplot(np.exp(y_test), ax = ax, hist=False, kde_kws={'clip': (0.0, 100.0)})\n",
    "sns.despine()"
   ]
  },
  {
   "cell_type": "code",
   "execution_count": 80,
   "metadata": {},
   "outputs": [],
   "source": [
    "submission.to_csv('../submission/subm.csv', index = False)"
   ]
  },
  {
   "cell_type": "code",
   "execution_count": 82,
   "metadata": {},
   "outputs": [
    {
     "name": "stdout",
     "output_type": "stream",
     "text": [
      "/home/ubuntu/anaconda3/envs/fastai/lib/python3.6/site-packages/mechanicalsoup/browser.py:37: UserWarning: No parser was explicitly specified, so I'm using the best available HTML parser for this system (\"lxml\"). This usually isn't a problem, but if you run this code on another system, or in a different virtual environment, it may use a different parser and behave differently.\n",
      "\n",
      "The code that caused this warning is on line 37 of the file /home/ubuntu/anaconda3/envs/fastai/lib/python3.6/site-packages/mechanicalsoup/browser.py. To get rid of this warning, pass the additional argument 'features=\"lxml\"' to the BeautifulSoup constructor.\n",
      "\n",
      "  response.content, **soup_config)\n",
      "Expecting value: line 1 column 1 (char 0)\n"
     ]
    }
   ],
   "source": [
    "! kg submit -c mercari-price-suggestion-challenge ../submission/subm.csv"
   ]
  },
  {
   "cell_type": "code",
   "execution_count": 48,
   "metadata": {},
   "outputs": [
    {
     "data": {
      "text/plain": [
       "(693359, 1)"
      ]
     },
     "execution_count": 48,
     "metadata": {},
     "output_type": "execute_result"
    }
   ],
   "source": [
    "pred_test.shape"
   ]
  },
  {
   "cell_type": "code",
   "execution_count": 50,
   "metadata": {},
   "outputs": [
    {
     "data": {
      "text/html": [
       "<div>\n",
       "<style scoped>\n",
       "    .dataframe tbody tr th:only-of-type {\n",
       "        vertical-align: middle;\n",
       "    }\n",
       "\n",
       "    .dataframe tbody tr th {\n",
       "        vertical-align: top;\n",
       "    }\n",
       "\n",
       "    .dataframe thead th {\n",
       "        text-align: right;\n",
       "    }\n",
       "</style>\n",
       "<table border=\"1\" class=\"dataframe\">\n",
       "  <thead>\n",
       "    <tr style=\"text-align: right;\">\n",
       "      <th></th>\n",
       "      <th>item_condition_id</th>\n",
       "      <th>brand_name</th>\n",
       "      <th>shipping</th>\n",
       "      <th>main_cat</th>\n",
       "      <th>sub_cat1</th>\n",
       "      <th>sub_cat2</th>\n",
       "    </tr>\n",
       "    <tr>\n",
       "      <th>train_id</th>\n",
       "      <th></th>\n",
       "      <th></th>\n",
       "      <th></th>\n",
       "      <th></th>\n",
       "      <th></th>\n",
       "      <th></th>\n",
       "    </tr>\n",
       "  </thead>\n",
       "  <tbody>\n",
       "    <tr>\n",
       "      <th>0</th>\n",
       "      <td>1</td>\n",
       "      <td>missing</td>\n",
       "      <td>1</td>\n",
       "      <td>Women</td>\n",
       "      <td>Jewelry</td>\n",
       "      <td>Rings</td>\n",
       "    </tr>\n",
       "    <tr>\n",
       "      <th>1</th>\n",
       "      <td>1</td>\n",
       "      <td>missing</td>\n",
       "      <td>1</td>\n",
       "      <td>Other</td>\n",
       "      <td>Office supplies</td>\n",
       "      <td>Shipping Supplies</td>\n",
       "    </tr>\n",
       "    <tr>\n",
       "      <th>2</th>\n",
       "      <td>1</td>\n",
       "      <td>Coach</td>\n",
       "      <td>1</td>\n",
       "      <td>Vintage &amp; Collectibles</td>\n",
       "      <td>Bags and Purses</td>\n",
       "      <td>Handbag</td>\n",
       "    </tr>\n",
       "    <tr>\n",
       "      <th>3</th>\n",
       "      <td>2</td>\n",
       "      <td>missing</td>\n",
       "      <td>0</td>\n",
       "      <td>Women</td>\n",
       "      <td>Sweaters</td>\n",
       "      <td>Cardigan</td>\n",
       "    </tr>\n",
       "    <tr>\n",
       "      <th>4</th>\n",
       "      <td>3</td>\n",
       "      <td>missing</td>\n",
       "      <td>1</td>\n",
       "      <td>Other</td>\n",
       "      <td>Books</td>\n",
       "      <td>Religion &amp; Spirituality</td>\n",
       "    </tr>\n",
       "    <tr>\n",
       "      <th>5</th>\n",
       "      <td>1</td>\n",
       "      <td>missing</td>\n",
       "      <td>1</td>\n",
       "      <td>Electronics</td>\n",
       "      <td>Cell Phones &amp; Accessories</td>\n",
       "      <td>Cases, Covers &amp; Skins</td>\n",
       "    </tr>\n",
       "    <tr>\n",
       "      <th>6</th>\n",
       "      <td>3</td>\n",
       "      <td>Vintage</td>\n",
       "      <td>1</td>\n",
       "      <td>Women</td>\n",
       "      <td>Jewelry</td>\n",
       "      <td>Necklaces</td>\n",
       "    </tr>\n",
       "    <tr>\n",
       "      <th>7</th>\n",
       "      <td>1</td>\n",
       "      <td>missing</td>\n",
       "      <td>1</td>\n",
       "      <td>Women</td>\n",
       "      <td>Women's Accessories</td>\n",
       "      <td>Watches</td>\n",
       "    </tr>\n",
       "    <tr>\n",
       "      <th>8</th>\n",
       "      <td>3</td>\n",
       "      <td>MARC JACOBS</td>\n",
       "      <td>0</td>\n",
       "      <td>Beauty</td>\n",
       "      <td>Fragrance</td>\n",
       "      <td>Women</td>\n",
       "    </tr>\n",
       "    <tr>\n",
       "      <th>9</th>\n",
       "      <td>1</td>\n",
       "      <td>missing</td>\n",
       "      <td>1</td>\n",
       "      <td>Beauty</td>\n",
       "      <td>Tools &amp; Accessories</td>\n",
       "      <td>Makeup Brushes &amp; Tools</td>\n",
       "    </tr>\n",
       "    <tr>\n",
       "      <th>10</th>\n",
       "      <td>1</td>\n",
       "      <td>missing</td>\n",
       "      <td>0</td>\n",
       "      <td>Handmade</td>\n",
       "      <td>Bags and Purses</td>\n",
       "      <td>Wristlet</td>\n",
       "    </tr>\n",
       "    <tr>\n",
       "      <th>11</th>\n",
       "      <td>2</td>\n",
       "      <td>missing</td>\n",
       "      <td>0</td>\n",
       "      <td>Electronics</td>\n",
       "      <td>Media</td>\n",
       "      <td>DVD</td>\n",
       "    </tr>\n",
       "    <tr>\n",
       "      <th>12</th>\n",
       "      <td>3</td>\n",
       "      <td>Cowgirl Tuff</td>\n",
       "      <td>0</td>\n",
       "      <td>Women</td>\n",
       "      <td>Jeans</td>\n",
       "      <td>Boot Cut</td>\n",
       "    </tr>\n",
       "    <tr>\n",
       "      <th>13</th>\n",
       "      <td>3</td>\n",
       "      <td>Lululemon</td>\n",
       "      <td>0</td>\n",
       "      <td>Women</td>\n",
       "      <td>Athletic Apparel</td>\n",
       "      <td>Pants, Tights, Leggings</td>\n",
       "    </tr>\n",
       "    <tr>\n",
       "      <th>14</th>\n",
       "      <td>1</td>\n",
       "      <td>missing</td>\n",
       "      <td>1</td>\n",
       "      <td>Beauty</td>\n",
       "      <td>Fragrance</td>\n",
       "      <td>Men</td>\n",
       "    </tr>\n",
       "    <tr>\n",
       "      <th>15</th>\n",
       "      <td>1</td>\n",
       "      <td>missing</td>\n",
       "      <td>0</td>\n",
       "      <td>Men</td>\n",
       "      <td>Athletic Apparel</td>\n",
       "      <td>Socks</td>\n",
       "    </tr>\n",
       "    <tr>\n",
       "      <th>16</th>\n",
       "      <td>3</td>\n",
       "      <td>Fisher-Price</td>\n",
       "      <td>0</td>\n",
       "      <td>Kids</td>\n",
       "      <td>Toys</td>\n",
       "      <td>Dress Up &amp; Pretend Play</td>\n",
       "    </tr>\n",
       "    <tr>\n",
       "      <th>17</th>\n",
       "      <td>2</td>\n",
       "      <td>missing</td>\n",
       "      <td>0</td>\n",
       "      <td>Kids</td>\n",
       "      <td>Boys (4+)</td>\n",
       "      <td>Coats &amp; Jackets</td>\n",
       "    </tr>\n",
       "    <tr>\n",
       "      <th>18</th>\n",
       "      <td>2</td>\n",
       "      <td>Miss Me</td>\n",
       "      <td>0</td>\n",
       "      <td>Women</td>\n",
       "      <td>Jeans</td>\n",
       "      <td>Boot Cut</td>\n",
       "    </tr>\n",
       "    <tr>\n",
       "      <th>19</th>\n",
       "      <td>1</td>\n",
       "      <td>missing</td>\n",
       "      <td>1</td>\n",
       "      <td>Women</td>\n",
       "      <td>Jewelry</td>\n",
       "      <td>Necklaces</td>\n",
       "    </tr>\n",
       "    <tr>\n",
       "      <th>20</th>\n",
       "      <td>3</td>\n",
       "      <td>missing</td>\n",
       "      <td>1</td>\n",
       "      <td>Other</td>\n",
       "      <td>Books</td>\n",
       "      <td>Children's Books</td>\n",
       "    </tr>\n",
       "    <tr>\n",
       "      <th>21</th>\n",
       "      <td>1</td>\n",
       "      <td>Apple</td>\n",
       "      <td>1</td>\n",
       "      <td>Electronics</td>\n",
       "      <td>Cell Phones &amp; Accessories</td>\n",
       "      <td>Cases, Covers &amp; Skins</td>\n",
       "    </tr>\n",
       "    <tr>\n",
       "      <th>22</th>\n",
       "      <td>3</td>\n",
       "      <td>missing</td>\n",
       "      <td>0</td>\n",
       "      <td>Kids</td>\n",
       "      <td>Boys 2T-5T</td>\n",
       "      <td>Bottoms</td>\n",
       "    </tr>\n",
       "    <tr>\n",
       "      <th>23</th>\n",
       "      <td>1</td>\n",
       "      <td>Betsey Johnson</td>\n",
       "      <td>0</td>\n",
       "      <td>Women</td>\n",
       "      <td>Jewelry</td>\n",
       "      <td>Necklaces</td>\n",
       "    </tr>\n",
       "    <tr>\n",
       "      <th>24</th>\n",
       "      <td>2</td>\n",
       "      <td>Timberland</td>\n",
       "      <td>0</td>\n",
       "      <td>Women</td>\n",
       "      <td>Shoes</td>\n",
       "      <td>Boots</td>\n",
       "    </tr>\n",
       "    <tr>\n",
       "      <th>25</th>\n",
       "      <td>1</td>\n",
       "      <td>missing</td>\n",
       "      <td>1</td>\n",
       "      <td>Electronics</td>\n",
       "      <td>Cell Phones &amp; Accessories</td>\n",
       "      <td>Cases, Covers &amp; Skins</td>\n",
       "    </tr>\n",
       "    <tr>\n",
       "      <th>26</th>\n",
       "      <td>3</td>\n",
       "      <td>Calvin Klein</td>\n",
       "      <td>0</td>\n",
       "      <td>Women</td>\n",
       "      <td>Skirts</td>\n",
       "      <td>Maxi</td>\n",
       "    </tr>\n",
       "    <tr>\n",
       "      <th>27</th>\n",
       "      <td>3</td>\n",
       "      <td>Osh Kosh B'gosh</td>\n",
       "      <td>0</td>\n",
       "      <td>Kids</td>\n",
       "      <td>Boys 0-24 Mos</td>\n",
       "      <td>One-Pieces</td>\n",
       "    </tr>\n",
       "    <tr>\n",
       "      <th>28</th>\n",
       "      <td>3</td>\n",
       "      <td>Kendra Scott</td>\n",
       "      <td>1</td>\n",
       "      <td>Women</td>\n",
       "      <td>Jewelry</td>\n",
       "      <td>Necklaces</td>\n",
       "    </tr>\n",
       "    <tr>\n",
       "      <th>29</th>\n",
       "      <td>3</td>\n",
       "      <td>Nike</td>\n",
       "      <td>0</td>\n",
       "      <td>Kids</td>\n",
       "      <td>Boys (4+)</td>\n",
       "      <td>Top &amp; T-shirts</td>\n",
       "    </tr>\n",
       "    <tr>\n",
       "      <th>...</th>\n",
       "      <td>...</td>\n",
       "      <td>...</td>\n",
       "      <td>...</td>\n",
       "      <td>...</td>\n",
       "      <td>...</td>\n",
       "      <td>...</td>\n",
       "    </tr>\n",
       "    <tr>\n",
       "      <th>693329</th>\n",
       "      <td>3</td>\n",
       "      <td>McFarlane Toys</td>\n",
       "      <td>0</td>\n",
       "      <td>Kids</td>\n",
       "      <td>Toys</td>\n",
       "      <td>Action Figures &amp; Statues</td>\n",
       "    </tr>\n",
       "    <tr>\n",
       "      <th>693330</th>\n",
       "      <td>2</td>\n",
       "      <td>Nike</td>\n",
       "      <td>1</td>\n",
       "      <td>Women</td>\n",
       "      <td>Sweaters</td>\n",
       "      <td>Hooded</td>\n",
       "    </tr>\n",
       "    <tr>\n",
       "      <th>693331</th>\n",
       "      <td>2</td>\n",
       "      <td>missing</td>\n",
       "      <td>0</td>\n",
       "      <td>Kids</td>\n",
       "      <td>Diapering</td>\n",
       "      <td>Disposable Diapers</td>\n",
       "    </tr>\n",
       "    <tr>\n",
       "      <th>693332</th>\n",
       "      <td>2</td>\n",
       "      <td>Coach</td>\n",
       "      <td>1</td>\n",
       "      <td>Women</td>\n",
       "      <td>Women's Accessories</td>\n",
       "      <td>Sunglasses</td>\n",
       "    </tr>\n",
       "    <tr>\n",
       "      <th>693333</th>\n",
       "      <td>3</td>\n",
       "      <td>missing</td>\n",
       "      <td>0</td>\n",
       "      <td>Women</td>\n",
       "      <td>Athletic Apparel</td>\n",
       "      <td>Jackets</td>\n",
       "    </tr>\n",
       "    <tr>\n",
       "      <th>693334</th>\n",
       "      <td>3</td>\n",
       "      <td>Tory Burch</td>\n",
       "      <td>0</td>\n",
       "      <td>Women</td>\n",
       "      <td>Shoes</td>\n",
       "      <td>Pumps</td>\n",
       "    </tr>\n",
       "    <tr>\n",
       "      <th>693335</th>\n",
       "      <td>5</td>\n",
       "      <td>missing</td>\n",
       "      <td>0</td>\n",
       "      <td>Vintage &amp; Collectibles</td>\n",
       "      <td>Serving</td>\n",
       "      <td>Mug</td>\n",
       "    </tr>\n",
       "    <tr>\n",
       "      <th>693336</th>\n",
       "      <td>1</td>\n",
       "      <td>missing</td>\n",
       "      <td>1</td>\n",
       "      <td>Home</td>\n",
       "      <td>Home Décor</td>\n",
       "      <td>Home Décor Accents</td>\n",
       "    </tr>\n",
       "    <tr>\n",
       "      <th>693337</th>\n",
       "      <td>3</td>\n",
       "      <td>Gap</td>\n",
       "      <td>0</td>\n",
       "      <td>Kids</td>\n",
       "      <td>Boys 0-24 Mos</td>\n",
       "      <td>Tops &amp; T-Shirts</td>\n",
       "    </tr>\n",
       "    <tr>\n",
       "      <th>693338</th>\n",
       "      <td>3</td>\n",
       "      <td>Victoria's Secret</td>\n",
       "      <td>0</td>\n",
       "      <td>Women</td>\n",
       "      <td>Underwear</td>\n",
       "      <td>Bras</td>\n",
       "    </tr>\n",
       "    <tr>\n",
       "      <th>693339</th>\n",
       "      <td>1</td>\n",
       "      <td>missing</td>\n",
       "      <td>0</td>\n",
       "      <td>Beauty</td>\n",
       "      <td>Bath &amp; Body</td>\n",
       "      <td>Bath</td>\n",
       "    </tr>\n",
       "    <tr>\n",
       "      <th>693340</th>\n",
       "      <td>1</td>\n",
       "      <td>missing</td>\n",
       "      <td>1</td>\n",
       "      <td>Beauty</td>\n",
       "      <td>Tools &amp; Accessories</td>\n",
       "      <td>Makeup Brushes &amp; Tools</td>\n",
       "    </tr>\n",
       "    <tr>\n",
       "      <th>693341</th>\n",
       "      <td>4</td>\n",
       "      <td>Apple</td>\n",
       "      <td>0</td>\n",
       "      <td>Electronics</td>\n",
       "      <td>Computers &amp; Tablets</td>\n",
       "      <td>Laptops &amp; Netbooks</td>\n",
       "    </tr>\n",
       "    <tr>\n",
       "      <th>693342</th>\n",
       "      <td>1</td>\n",
       "      <td>missing</td>\n",
       "      <td>1</td>\n",
       "      <td>Women</td>\n",
       "      <td>Jewelry</td>\n",
       "      <td>Earrings</td>\n",
       "    </tr>\n",
       "    <tr>\n",
       "      <th>693343</th>\n",
       "      <td>3</td>\n",
       "      <td>Bobbi Brown</td>\n",
       "      <td>0</td>\n",
       "      <td>Beauty</td>\n",
       "      <td>Makeup</td>\n",
       "      <td>Face</td>\n",
       "    </tr>\n",
       "    <tr>\n",
       "      <th>693344</th>\n",
       "      <td>1</td>\n",
       "      <td>Kiehl's</td>\n",
       "      <td>0</td>\n",
       "      <td>Beauty</td>\n",
       "      <td>Skin Care</td>\n",
       "      <td>Face</td>\n",
       "    </tr>\n",
       "    <tr>\n",
       "      <th>693345</th>\n",
       "      <td>3</td>\n",
       "      <td>Disney</td>\n",
       "      <td>0</td>\n",
       "      <td>Kids</td>\n",
       "      <td>Toys</td>\n",
       "      <td>Stuffed Animals &amp; Plush</td>\n",
       "    </tr>\n",
       "    <tr>\n",
       "      <th>693346</th>\n",
       "      <td>3</td>\n",
       "      <td>Adidas</td>\n",
       "      <td>1</td>\n",
       "      <td>Women</td>\n",
       "      <td>Shoes</td>\n",
       "      <td>Fashion Sneakers</td>\n",
       "    </tr>\n",
       "    <tr>\n",
       "      <th>693347</th>\n",
       "      <td>1</td>\n",
       "      <td>Calvin Klein</td>\n",
       "      <td>0</td>\n",
       "      <td>Women</td>\n",
       "      <td>Shoes</td>\n",
       "      <td>Boots</td>\n",
       "    </tr>\n",
       "    <tr>\n",
       "      <th>693348</th>\n",
       "      <td>1</td>\n",
       "      <td>PINK</td>\n",
       "      <td>1</td>\n",
       "      <td>Women</td>\n",
       "      <td>Athletic Apparel</td>\n",
       "      <td>Tracksuits &amp; Sweats</td>\n",
       "    </tr>\n",
       "    <tr>\n",
       "      <th>693349</th>\n",
       "      <td>1</td>\n",
       "      <td>NYX</td>\n",
       "      <td>1</td>\n",
       "      <td>Beauty</td>\n",
       "      <td>Makeup</td>\n",
       "      <td>Lips</td>\n",
       "    </tr>\n",
       "    <tr>\n",
       "      <th>693350</th>\n",
       "      <td>1</td>\n",
       "      <td>missing</td>\n",
       "      <td>1</td>\n",
       "      <td>Kids</td>\n",
       "      <td>Toys</td>\n",
       "      <td>Games</td>\n",
       "    </tr>\n",
       "    <tr>\n",
       "      <th>693351</th>\n",
       "      <td>1</td>\n",
       "      <td>Old Navy</td>\n",
       "      <td>0</td>\n",
       "      <td>Kids</td>\n",
       "      <td>Boys (4+)</td>\n",
       "      <td>Top &amp; T-shirts</td>\n",
       "    </tr>\n",
       "    <tr>\n",
       "      <th>693352</th>\n",
       "      <td>3</td>\n",
       "      <td>Express</td>\n",
       "      <td>1</td>\n",
       "      <td>Women</td>\n",
       "      <td>Sweaters</td>\n",
       "      <td>Cardigan</td>\n",
       "    </tr>\n",
       "    <tr>\n",
       "      <th>693353</th>\n",
       "      <td>3</td>\n",
       "      <td>Urban Decay</td>\n",
       "      <td>1</td>\n",
       "      <td>Beauty</td>\n",
       "      <td>Makeup</td>\n",
       "      <td>Face</td>\n",
       "    </tr>\n",
       "    <tr>\n",
       "      <th>693354</th>\n",
       "      <td>1</td>\n",
       "      <td>missing</td>\n",
       "      <td>0</td>\n",
       "      <td>Home</td>\n",
       "      <td>Home Décor</td>\n",
       "      <td>Home Décor Accents</td>\n",
       "    </tr>\n",
       "    <tr>\n",
       "      <th>693355</th>\n",
       "      <td>1</td>\n",
       "      <td>IT Cosmetics</td>\n",
       "      <td>1</td>\n",
       "      <td>Beauty</td>\n",
       "      <td>Makeup</td>\n",
       "      <td>Makeup Sets</td>\n",
       "    </tr>\n",
       "    <tr>\n",
       "      <th>693356</th>\n",
       "      <td>1</td>\n",
       "      <td>missing</td>\n",
       "      <td>1</td>\n",
       "      <td>Electronics</td>\n",
       "      <td>Cell Phones &amp; Accessories</td>\n",
       "      <td>Cases, Covers &amp; Skins</td>\n",
       "    </tr>\n",
       "    <tr>\n",
       "      <th>693357</th>\n",
       "      <td>2</td>\n",
       "      <td>missing</td>\n",
       "      <td>0</td>\n",
       "      <td>Women</td>\n",
       "      <td>Swimwear</td>\n",
       "      <td>Cover-Ups</td>\n",
       "    </tr>\n",
       "    <tr>\n",
       "      <th>693358</th>\n",
       "      <td>2</td>\n",
       "      <td>missing</td>\n",
       "      <td>1</td>\n",
       "      <td>Women</td>\n",
       "      <td>Tops &amp; Blouses</td>\n",
       "      <td>T-Shirts</td>\n",
       "    </tr>\n",
       "  </tbody>\n",
       "</table>\n",
       "<p>693359 rows × 6 columns</p>\n",
       "</div>"
      ],
      "text/plain": [
       "         item_condition_id         brand_name shipping  \\\n",
       "train_id                                                 \n",
       "0                        1            missing        1   \n",
       "1                        1            missing        1   \n",
       "2                        1              Coach        1   \n",
       "3                        2            missing        0   \n",
       "4                        3            missing        1   \n",
       "5                        1            missing        1   \n",
       "6                        3            Vintage        1   \n",
       "7                        1            missing        1   \n",
       "8                        3        MARC JACOBS        0   \n",
       "9                        1            missing        1   \n",
       "10                       1            missing        0   \n",
       "11                       2            missing        0   \n",
       "12                       3       Cowgirl Tuff        0   \n",
       "13                       3          Lululemon        0   \n",
       "14                       1            missing        1   \n",
       "15                       1            missing        0   \n",
       "16                       3       Fisher-Price        0   \n",
       "17                       2            missing        0   \n",
       "18                       2            Miss Me        0   \n",
       "19                       1            missing        1   \n",
       "20                       3            missing        1   \n",
       "21                       1              Apple        1   \n",
       "22                       3            missing        0   \n",
       "23                       1     Betsey Johnson        0   \n",
       "24                       2         Timberland        0   \n",
       "25                       1            missing        1   \n",
       "26                       3       Calvin Klein        0   \n",
       "27                       3    Osh Kosh B'gosh        0   \n",
       "28                       3       Kendra Scott        1   \n",
       "29                       3               Nike        0   \n",
       "...                    ...                ...      ...   \n",
       "693329                   3     McFarlane Toys        0   \n",
       "693330                   2               Nike        1   \n",
       "693331                   2            missing        0   \n",
       "693332                   2              Coach        1   \n",
       "693333                   3            missing        0   \n",
       "693334                   3         Tory Burch        0   \n",
       "693335                   5            missing        0   \n",
       "693336                   1            missing        1   \n",
       "693337                   3                Gap        0   \n",
       "693338                   3  Victoria's Secret        0   \n",
       "693339                   1            missing        0   \n",
       "693340                   1            missing        1   \n",
       "693341                   4              Apple        0   \n",
       "693342                   1            missing        1   \n",
       "693343                   3        Bobbi Brown        0   \n",
       "693344                   1            Kiehl's        0   \n",
       "693345                   3             Disney        0   \n",
       "693346                   3             Adidas        1   \n",
       "693347                   1       Calvin Klein        0   \n",
       "693348                   1               PINK        1   \n",
       "693349                   1                NYX        1   \n",
       "693350                   1            missing        1   \n",
       "693351                   1           Old Navy        0   \n",
       "693352                   3            Express        1   \n",
       "693353                   3        Urban Decay        1   \n",
       "693354                   1            missing        0   \n",
       "693355                   1       IT Cosmetics        1   \n",
       "693356                   1            missing        1   \n",
       "693357                   2            missing        0   \n",
       "693358                   2            missing        1   \n",
       "\n",
       "                        main_cat                   sub_cat1  \\\n",
       "train_id                                                      \n",
       "0                          Women                    Jewelry   \n",
       "1                          Other            Office supplies   \n",
       "2         Vintage & Collectibles            Bags and Purses   \n",
       "3                          Women                   Sweaters   \n",
       "4                          Other                      Books   \n",
       "5                    Electronics  Cell Phones & Accessories   \n",
       "6                          Women                    Jewelry   \n",
       "7                          Women        Women's Accessories   \n",
       "8                         Beauty                  Fragrance   \n",
       "9                         Beauty        Tools & Accessories   \n",
       "10                      Handmade            Bags and Purses   \n",
       "11                   Electronics                      Media   \n",
       "12                         Women                      Jeans   \n",
       "13                         Women           Athletic Apparel   \n",
       "14                        Beauty                  Fragrance   \n",
       "15                           Men           Athletic Apparel   \n",
       "16                          Kids                       Toys   \n",
       "17                          Kids                  Boys (4+)   \n",
       "18                         Women                      Jeans   \n",
       "19                         Women                    Jewelry   \n",
       "20                         Other                      Books   \n",
       "21                   Electronics  Cell Phones & Accessories   \n",
       "22                          Kids                 Boys 2T-5T   \n",
       "23                         Women                    Jewelry   \n",
       "24                         Women                      Shoes   \n",
       "25                   Electronics  Cell Phones & Accessories   \n",
       "26                         Women                     Skirts   \n",
       "27                          Kids              Boys 0-24 Mos   \n",
       "28                         Women                    Jewelry   \n",
       "29                          Kids                  Boys (4+)   \n",
       "...                          ...                        ...   \n",
       "693329                      Kids                       Toys   \n",
       "693330                     Women                   Sweaters   \n",
       "693331                      Kids                  Diapering   \n",
       "693332                     Women        Women's Accessories   \n",
       "693333                     Women           Athletic Apparel   \n",
       "693334                     Women                      Shoes   \n",
       "693335    Vintage & Collectibles                    Serving   \n",
       "693336                      Home                 Home Décor   \n",
       "693337                      Kids              Boys 0-24 Mos   \n",
       "693338                     Women                  Underwear   \n",
       "693339                    Beauty                Bath & Body   \n",
       "693340                    Beauty        Tools & Accessories   \n",
       "693341               Electronics        Computers & Tablets   \n",
       "693342                     Women                    Jewelry   \n",
       "693343                    Beauty                     Makeup   \n",
       "693344                    Beauty                  Skin Care   \n",
       "693345                      Kids                       Toys   \n",
       "693346                     Women                      Shoes   \n",
       "693347                     Women                      Shoes   \n",
       "693348                     Women           Athletic Apparel   \n",
       "693349                    Beauty                     Makeup   \n",
       "693350                      Kids                       Toys   \n",
       "693351                      Kids                  Boys (4+)   \n",
       "693352                     Women                   Sweaters   \n",
       "693353                    Beauty                     Makeup   \n",
       "693354                      Home                 Home Décor   \n",
       "693355                    Beauty                     Makeup   \n",
       "693356               Electronics  Cell Phones & Accessories   \n",
       "693357                     Women                   Swimwear   \n",
       "693358                     Women             Tops & Blouses   \n",
       "\n",
       "                          sub_cat2  \n",
       "train_id                            \n",
       "0                            Rings  \n",
       "1                Shipping Supplies  \n",
       "2                          Handbag  \n",
       "3                         Cardigan  \n",
       "4          Religion & Spirituality  \n",
       "5            Cases, Covers & Skins  \n",
       "6                        Necklaces  \n",
       "7                          Watches  \n",
       "8                            Women  \n",
       "9           Makeup Brushes & Tools  \n",
       "10                        Wristlet  \n",
       "11                             DVD  \n",
       "12                        Boot Cut  \n",
       "13         Pants, Tights, Leggings  \n",
       "14                             Men  \n",
       "15                           Socks  \n",
       "16         Dress Up & Pretend Play  \n",
       "17                 Coats & Jackets  \n",
       "18                        Boot Cut  \n",
       "19                       Necklaces  \n",
       "20                Children's Books  \n",
       "21           Cases, Covers & Skins  \n",
       "22                         Bottoms  \n",
       "23                       Necklaces  \n",
       "24                           Boots  \n",
       "25           Cases, Covers & Skins  \n",
       "26                            Maxi  \n",
       "27                      One-Pieces  \n",
       "28                       Necklaces  \n",
       "29                  Top & T-shirts  \n",
       "...                            ...  \n",
       "693329    Action Figures & Statues  \n",
       "693330                      Hooded  \n",
       "693331          Disposable Diapers  \n",
       "693332                  Sunglasses  \n",
       "693333                     Jackets  \n",
       "693334                       Pumps  \n",
       "693335                         Mug  \n",
       "693336          Home Décor Accents  \n",
       "693337             Tops & T-Shirts  \n",
       "693338                        Bras  \n",
       "693339                        Bath  \n",
       "693340      Makeup Brushes & Tools  \n",
       "693341          Laptops & Netbooks  \n",
       "693342                    Earrings  \n",
       "693343                        Face  \n",
       "693344                        Face  \n",
       "693345     Stuffed Animals & Plush  \n",
       "693346            Fashion Sneakers  \n",
       "693347                       Boots  \n",
       "693348         Tracksuits & Sweats  \n",
       "693349                        Lips  \n",
       "693350                       Games  \n",
       "693351              Top & T-shirts  \n",
       "693352                    Cardigan  \n",
       "693353                        Face  \n",
       "693354          Home Décor Accents  \n",
       "693355                 Makeup Sets  \n",
       "693356       Cases, Covers & Skins  \n",
       "693357                   Cover-Ups  \n",
       "693358                    T-Shirts  \n",
       "\n",
       "[693359 rows x 6 columns]"
      ]
     },
     "execution_count": 50,
     "metadata": {},
     "output_type": "execute_result"
    }
   ],
   "source": [
    "X_test"
   ]
  },
  {
   "cell_type": "code",
   "execution_count": null,
   "metadata": {},
   "outputs": [],
   "source": [
    "type(pred_test.flatten())"
   ]
  },
  {
   "cell_type": "code",
   "execution_count": null,
   "metadata": {},
   "outputs": [],
   "source": [
    "np.stack((pred_test.flatten(), y_test))"
   ]
  },
  {
   "cell_type": "code",
   "execution_count": null,
   "metadata": {},
   "outputs": [],
   "source": [
    "RMSE(pred_test.flatten(), y_test)"
   ]
  },
  {
   "cell_type": "code",
   "execution_count": null,
   "metadata": {},
   "outputs": [],
   "source": [
    "X_train.shape"
   ]
  },
  {
   "cell_type": "code",
   "execution_count": null,
   "metadata": {},
   "outputs": [],
   "source": [
    "X_test.shape"
   ]
  },
  {
   "cell_type": "code",
   "execution_count": null,
   "metadata": {},
   "outputs": [],
   "source": [
    "y_test.shape"
   ]
  },
  {
   "cell_type": "code",
   "execution_count": null,
   "metadata": {},
   "outputs": [],
   "source": [
    "test_kg = pd.read_feather(f'{PATH}/test.fth')\n",
    "train_kg = pd.read_feather(f'{PATH}/train.fth')\n",
    "\n",
    "test_kg.set_index('train_id', drop=True, inplace=True)\n",
    "train_kg.set_index('train_id', drop=True, inplace=True)"
   ]
  },
  {
   "cell_type": "code",
   "execution_count": null,
   "metadata": {},
   "outputs": [],
   "source": [
    "train_cats(train_kg) \n",
    "apply_cats(test_kg, train_kg)"
   ]
  },
  {
   "cell_type": "code",
   "execution_count": null,
   "metadata": {},
   "outputs": [],
   "source": [
    "df_train_kg, y_train_kg, nas = proc_df(train_kg, 'price')\n",
    "df_test_kg, _, nas = proc_df(test_kg, na_dict=nas)"
   ]
  },
  {
   "cell_type": "code",
   "execution_count": null,
   "metadata": {},
   "outputs": [],
   "source": [
    "df_test_kg.as_matrix()[0][3]"
   ]
  },
  {
   "cell_type": "code",
   "execution_count": null,
   "metadata": {},
   "outputs": [],
   "source": [
    "preds= m.predict_array(df_test_kg.as_matrix(), x_cont=None)"
   ]
  },
  {
   "cell_type": "code",
   "execution_count": null,
   "metadata": {},
   "outputs": [],
   "source": []
  }
 ],
 "metadata": {
  "kernelspec": {
   "display_name": "Python [default]",
   "language": "python",
   "name": "python3"
  },
  "language_info": {
   "codemirror_mode": {
    "name": "ipython",
    "version": 3
   },
   "file_extension": ".py",
   "mimetype": "text/x-python",
   "name": "python",
   "nbconvert_exporter": "python",
   "pygments_lexer": "ipython3",
   "version": "3.6.6"
  },
  "toc": {
   "base_numbering": 1,
   "nav_menu": {},
   "number_sections": true,
   "sideBar": true,
   "skip_h1_title": true,
   "title_cell": "Table of Contents",
   "title_sidebar": "Contents",
   "toc_cell": false,
   "toc_position": {
    "height": "calc(100% - 180px)",
    "left": "10px",
    "top": "150px",
    "width": "165px"
   },
   "toc_section_display": true,
   "toc_window_display": true
  }
 },
 "nbformat": 4,
 "nbformat_minor": 2
}
